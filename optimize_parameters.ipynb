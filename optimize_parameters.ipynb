{
 "cells": [
  {
   "cell_type": "code",
   "execution_count": 1,
   "metadata": {},
   "outputs": [
    {
     "name": "stderr",
     "output_type": "stream",
     "text": [
      "C:\\Users\\Public\\Documents\\Wondershare\\CreatorTemp\\ipykernel_11692\\3086444182.py:5: DeprecationWarning: \n",
      "Pyarrow will become a required dependency of pandas in the next major release of pandas (pandas 3.0),\n",
      "(to allow more performant data types, such as the Arrow string type, and better interoperability with other libraries)\n",
      "but was not found to be installed on your system.\n",
      "If this would cause problems for you,\n",
      "please provide us feedback at https://github.com/pandas-dev/pandas/issues/54466\n",
      "        \n",
      "  import pandas as pd\n"
     ]
    }
   ],
   "source": [
    "import torch\n",
    "import torch.nn as nn\n",
    "import torch.optim as optim\n",
    "\n",
    "import pandas as pd\n",
    "\n",
    "from torch.utils.data import Dataset\n",
    "\n",
    "import numpy as np\n",
    "\n",
    "import HydroErr\n",
    "\n",
    "import pygad"
   ]
  },
  {
   "cell_type": "code",
   "execution_count": 2,
   "metadata": {},
   "outputs": [],
   "source": [
    "DEVICE = torch.device(\"cuda\" if torch.cuda.is_available() else \"cpu\")\n",
    "\n",
    "DEVICE = \"cpu\""
   ]
  },
  {
   "cell_type": "code",
   "execution_count": 3,
   "metadata": {},
   "outputs": [
    {
     "data": {
      "text/plain": [
       "LSTM_decoder(\n",
       "  (lstm): LSTM(11, 177, batch_first=True)\n",
       "  (fc_layers): TimeDistributed(\n",
       "    (module): Sequential(\n",
       "      (0): Linear(in_features=177, out_features=3, bias=True)\n",
       "      (1): ReLU()\n",
       "      (2): Dropout(p=0, inplace=False)\n",
       "      (3): Linear(in_features=3, out_features=4, bias=True)\n",
       "      (4): ReLU()\n",
       "      (5): Dropout(p=0, inplace=False)\n",
       "      (6): Linear(in_features=4, out_features=13, bias=True)\n",
       "      (7): ReLU()\n",
       "      (8): Dropout(p=0, inplace=False)\n",
       "      (9): Linear(in_features=13, out_features=1, bias=True)\n",
       "    )\n",
       "  )\n",
       ")"
      ]
     },
     "execution_count": 3,
     "metadata": {},
     "output_type": "execute_result"
    }
   ],
   "source": [
    "# load model\n",
    "decoder = torch.load(\n",
    "    \"data/final_lstm_decoder_test.pt\", map_location=torch.device(\"cpu\")\n",
    ")\n",
    "\n",
    "decoder.eval()\n",
    "decoder.to(DEVICE)"
   ]
  },
  {
   "cell_type": "code",
   "execution_count": 4,
   "metadata": {},
   "outputs": [
    {
     "data": {
      "text/html": [
       "<div>\n",
       "<style scoped>\n",
       "    .dataframe tbody tr th:only-of-type {\n",
       "        vertical-align: middle;\n",
       "    }\n",
       "\n",
       "    .dataframe tbody tr th {\n",
       "        vertical-align: top;\n",
       "    }\n",
       "\n",
       "    .dataframe thead th {\n",
       "        text-align: right;\n",
       "    }\n",
       "</style>\n",
       "<table border=\"1\" class=\"dataframe\">\n",
       "  <thead>\n",
       "    <tr style=\"text-align: right;\">\n",
       "      <th></th>\n",
       "      <th>gauge_id</th>\n",
       "      <th>gauge_name</th>\n",
       "      <th>data_all</th>\n",
       "      <th>data_train</th>\n",
       "      <th>data_test</th>\n",
       "    </tr>\n",
       "  </thead>\n",
       "  <tbody>\n",
       "    <tr>\n",
       "      <th>0</th>\n",
       "      <td>01022500</td>\n",
       "      <td>Narraguagus River at Cherryfield, Maine</td>\n",
       "      <td>./data/Caravan-CAMELS/01022500.csv</td>\n",
       "      <td>./data/Caravan-CAMELS/01022500_train.csv</td>\n",
       "      <td>./data/Caravan-CAMELS/01022500_test.csv</td>\n",
       "    </tr>\n",
       "    <tr>\n",
       "      <th>1</th>\n",
       "      <td>01031500</td>\n",
       "      <td>Piscataquis River near Dover-Foxcroft, Maine</td>\n",
       "      <td>./data/Caravan-CAMELS/01031500.csv</td>\n",
       "      <td>./data/Caravan-CAMELS/01031500_train.csv</td>\n",
       "      <td>./data/Caravan-CAMELS/01031500_test.csv</td>\n",
       "    </tr>\n",
       "    <tr>\n",
       "      <th>2</th>\n",
       "      <td>01047000</td>\n",
       "      <td>Carrabassett River near North Anson, Maine</td>\n",
       "      <td>./data/Caravan-CAMELS/01047000.csv</td>\n",
       "      <td>./data/Caravan-CAMELS/01047000_train.csv</td>\n",
       "      <td>./data/Caravan-CAMELS/01047000_test.csv</td>\n",
       "    </tr>\n",
       "    <tr>\n",
       "      <th>3</th>\n",
       "      <td>01052500</td>\n",
       "      <td>Diamond River near Wentworth Location, NH</td>\n",
       "      <td>./data/Caravan-CAMELS/01052500.csv</td>\n",
       "      <td>./data/Caravan-CAMELS/01052500_train.csv</td>\n",
       "      <td>./data/Caravan-CAMELS/01052500_test.csv</td>\n",
       "    </tr>\n",
       "    <tr>\n",
       "      <th>4</th>\n",
       "      <td>01054200</td>\n",
       "      <td>Wild River at Gilead, Maine</td>\n",
       "      <td>./data/Caravan-CAMELS/01054200.csv</td>\n",
       "      <td>./data/Caravan-CAMELS/01054200_train.csv</td>\n",
       "      <td>./data/Caravan-CAMELS/01054200_test.csv</td>\n",
       "    </tr>\n",
       "    <tr>\n",
       "      <th>...</th>\n",
       "      <td>...</td>\n",
       "      <td>...</td>\n",
       "      <td>...</td>\n",
       "      <td>...</td>\n",
       "      <td>...</td>\n",
       "    </tr>\n",
       "    <tr>\n",
       "      <th>477</th>\n",
       "      <td>14308990</td>\n",
       "      <td>COW CREEK ABV GALESVILLE RES, NR AZALEA, OR.</td>\n",
       "      <td>./data/Caravan-CAMELS/14308990.csv</td>\n",
       "      <td>./data/Caravan-CAMELS/14308990_train.csv</td>\n",
       "      <td>./data/Caravan-CAMELS/14308990_test.csv</td>\n",
       "    </tr>\n",
       "    <tr>\n",
       "      <th>478</th>\n",
       "      <td>14309500</td>\n",
       "      <td>WEST FORK COW CREEK NEAR GLENDALE, OR</td>\n",
       "      <td>./data/Caravan-CAMELS/14309500.csv</td>\n",
       "      <td>./data/Caravan-CAMELS/14309500_train.csv</td>\n",
       "      <td>./data/Caravan-CAMELS/14309500_test.csv</td>\n",
       "    </tr>\n",
       "    <tr>\n",
       "      <th>479</th>\n",
       "      <td>14316700</td>\n",
       "      <td>STEAMBOAT CREEK NEAR GLIDE, OR</td>\n",
       "      <td>./data/Caravan-CAMELS/14316700.csv</td>\n",
       "      <td>./data/Caravan-CAMELS/14316700_train.csv</td>\n",
       "      <td>./data/Caravan-CAMELS/14316700_test.csv</td>\n",
       "    </tr>\n",
       "    <tr>\n",
       "      <th>480</th>\n",
       "      <td>14325000</td>\n",
       "      <td>SOUTH FORK COQUILLE RIVER AT POWERS, OR</td>\n",
       "      <td>./data/Caravan-CAMELS/14325000.csv</td>\n",
       "      <td>./data/Caravan-CAMELS/14325000_train.csv</td>\n",
       "      <td>./data/Caravan-CAMELS/14325000_test.csv</td>\n",
       "    </tr>\n",
       "    <tr>\n",
       "      <th>481</th>\n",
       "      <td>14400000</td>\n",
       "      <td>CHETCO RIVER NEAR BROOKINGS, OR</td>\n",
       "      <td>./data/Caravan-CAMELS/14400000.csv</td>\n",
       "      <td>./data/Caravan-CAMELS/14400000_train.csv</td>\n",
       "      <td>./data/Caravan-CAMELS/14400000_test.csv</td>\n",
       "    </tr>\n",
       "  </tbody>\n",
       "</table>\n",
       "<p>482 rows × 5 columns</p>\n",
       "</div>"
      ],
      "text/plain": [
       "     gauge_id                                    gauge_name  \\\n",
       "0    01022500       Narraguagus River at Cherryfield, Maine   \n",
       "1    01031500  Piscataquis River near Dover-Foxcroft, Maine   \n",
       "2    01047000    Carrabassett River near North Anson, Maine   \n",
       "3    01052500     Diamond River near Wentworth Location, NH   \n",
       "4    01054200                   Wild River at Gilead, Maine   \n",
       "..        ...                                           ...   \n",
       "477  14308990  COW CREEK ABV GALESVILLE RES, NR AZALEA, OR.   \n",
       "478  14309500         WEST FORK COW CREEK NEAR GLENDALE, OR   \n",
       "479  14316700                STEAMBOAT CREEK NEAR GLIDE, OR   \n",
       "480  14325000       SOUTH FORK COQUILLE RIVER AT POWERS, OR   \n",
       "481  14400000               CHETCO RIVER NEAR BROOKINGS, OR   \n",
       "\n",
       "                               data_all  \\\n",
       "0    ./data/Caravan-CAMELS/01022500.csv   \n",
       "1    ./data/Caravan-CAMELS/01031500.csv   \n",
       "2    ./data/Caravan-CAMELS/01047000.csv   \n",
       "3    ./data/Caravan-CAMELS/01052500.csv   \n",
       "4    ./data/Caravan-CAMELS/01054200.csv   \n",
       "..                                  ...   \n",
       "477  ./data/Caravan-CAMELS/14308990.csv   \n",
       "478  ./data/Caravan-CAMELS/14309500.csv   \n",
       "479  ./data/Caravan-CAMELS/14316700.csv   \n",
       "480  ./data/Caravan-CAMELS/14325000.csv   \n",
       "481  ./data/Caravan-CAMELS/14400000.csv   \n",
       "\n",
       "                                   data_train  \\\n",
       "0    ./data/Caravan-CAMELS/01022500_train.csv   \n",
       "1    ./data/Caravan-CAMELS/01031500_train.csv   \n",
       "2    ./data/Caravan-CAMELS/01047000_train.csv   \n",
       "3    ./data/Caravan-CAMELS/01052500_train.csv   \n",
       "4    ./data/Caravan-CAMELS/01054200_train.csv   \n",
       "..                                        ...   \n",
       "477  ./data/Caravan-CAMELS/14308990_train.csv   \n",
       "478  ./data/Caravan-CAMELS/14309500_train.csv   \n",
       "479  ./data/Caravan-CAMELS/14316700_train.csv   \n",
       "480  ./data/Caravan-CAMELS/14325000_train.csv   \n",
       "481  ./data/Caravan-CAMELS/14400000_train.csv   \n",
       "\n",
       "                                   data_test  \n",
       "0    ./data/Caravan-CAMELS/01022500_test.csv  \n",
       "1    ./data/Caravan-CAMELS/01031500_test.csv  \n",
       "2    ./data/Caravan-CAMELS/01047000_test.csv  \n",
       "3    ./data/Caravan-CAMELS/01052500_test.csv  \n",
       "4    ./data/Caravan-CAMELS/01054200_test.csv  \n",
       "..                                       ...  \n",
       "477  ./data/Caravan-CAMELS/14308990_test.csv  \n",
       "478  ./data/Caravan-CAMELS/14309500_test.csv  \n",
       "479  ./data/Caravan-CAMELS/14316700_test.csv  \n",
       "480  ./data/Caravan-CAMELS/14325000_test.csv  \n",
       "481  ./data/Caravan-CAMELS/14400000_test.csv  \n",
       "\n",
       "[482 rows x 5 columns]"
      ]
     },
     "execution_count": 4,
     "metadata": {},
     "output_type": "execute_result"
    }
   ],
   "source": [
    "catchments = pd.read_csv(\"./data/Caravan-CAMELS/catchments.csv\", dtype=str)\n",
    "catchments"
   ]
  },
  {
   "cell_type": "code",
   "execution_count": 5,
   "metadata": {},
   "outputs": [],
   "source": [
    "warm_up = 365\n",
    "\n",
    "class Objective_builder:\n",
    "    def __init__(self, x, y):\n",
    "        self.x = x.contiguous().to(DEVICE)\n",
    "        self.y = y.contiguous().to(DEVICE)\n",
    "\n",
    "    def eval(self, ga_instance, solution, solution_idx):\n",
    "        # numpy to torch tensor\n",
    "        solution = torch.from_numpy(solution).unsqueeze(0).to(dtype=torch.float32).to(DEVICE)\n",
    "        solution = solution.expand(self.x.shape[0], -1)\n",
    "\n",
    "        # BASE_LENGTH is from global\n",
    "        pred = (\n",
    "            decoder.decode(solution, self.x, base_length=warm_up)\n",
    "            .view(-1)\n",
    "            .detach()\n",
    "            .cpu()\n",
    "            .numpy()\n",
    "        )\n",
    "\n",
    "        ob = self.y.view(-1).detach().cpu().numpy()[warm_up:]\n",
    "\n",
    "        return HydroErr.kge_2009(simulated_array=pred, observed_array=ob)\n",
    "\n",
    "    def pred(self, solution):\n",
    "        # numpy to torch tensor\n",
    "        solution = torch.from_numpy(solution).unsqueeze(0).to(dtype=torch.float32)\n",
    "        solution = solution.expand(self.x.shape[0], -1).to(DEVICE)\n",
    "\n",
    "        # BASE_LENGTH is from global\n",
    "        pred = (\n",
    "            decoder.decode(solution, self.x, base_length=warm_up)\n",
    "            .view(-1)\n",
    "            .detach()\n",
    "            .cpu()\n",
    "            .numpy()\n",
    "        )\n",
    "\n",
    "        ob = self.y.view(-1).detach().cpu().numpy()[warm_up:]\n",
    "\n",
    "        d = {\n",
    "            \"Simulated [mm/day]\": pred.tolist(),\n",
    "            \"Observation [mm/day]\": ob.tolist(),\n",
    "        }\n",
    "\n",
    "        chart_data = pd.DataFrame(data=d)\n",
    "\n",
    "        return chart_data\n"
   ]
  },
  {
   "cell_type": "code",
   "execution_count": 6,
   "metadata": {},
   "outputs": [
    {
     "name": "stdout",
     "output_type": "stream",
     "text": [
      "i=0 starts\n"
     ]
    },
    {
     "name": "stderr",
     "output_type": "stream",
     "text": [
      "c:\\Users\\User\\Anaconda3\\envs\\pytorch2\\Lib\\site-packages\\HydroErr\\HydroErr.py:6248: UserWarning: Row(s) [6483 6484 6485 6486 6487 6488 6489 6490 6491 6492 6493 6494 6495 6496\n",
      " 6497 6498 6499 6500 6501 6502 6503 6504 6505 6506 6507 6508 6509 6510\n",
      " 6511 6512 6513 6514 6515 6516 6517 6518 6519 6520 6521 6522 6523 6524\n",
      " 6525 6526 6527 6528 6529 6530 6531 6532 6533 6534 6535 6536 6537 6538\n",
      " 6539 6540 6541 6542 6543 6544 6545 6546 6547 6548 6549 6550 6551 6552\n",
      " 6553 6554 6555 6556 6557 6558 6559 6560 6561 6562 6563 6564 6565 6566\n",
      " 6567 6568 6569 6570 6571 6572 6573 6574] contained NaN values and the row(s) have been removed (Rows are zero indexed).\n",
      "  warnings.warn(\"Row(s) {} contained NaN values and the row(s) have been \"\n"
     ]
    },
    {
     "name": "stdout",
     "output_type": "stream",
     "text": [
      "fit=0.853\n",
      "i=1 starts\n",
      "fit=0.857\n",
      "i=2 starts\n",
      "fit=0.827\n",
      "i=3 starts\n",
      "fit=0.837\n",
      "i=4 starts\n",
      "fit=0.805\n",
      "i=5 starts\n",
      "fit=0.821\n",
      "i=6 starts\n",
      "fit=0.827\n",
      "i=7 starts\n"
     ]
    },
    {
     "name": "stderr",
     "output_type": "stream",
     "text": [
      "c:\\Users\\User\\Anaconda3\\envs\\pytorch2\\Lib\\site-packages\\HydroErr\\HydroErr.py:6248: UserWarning: Row(s) [6526 6527 6528 6529 6530 6531 6532 6533 6534 6535 6536 6537 6538 6539\n",
      " 6540 6541 6542 6543 6544 6545 6546 6547 6548 6549 6550 6551 6552 6553\n",
      " 6554 6555 6556 6557 6558 6559 6560 6561 6562 6563 6564 6565 6566 6567\n",
      " 6568 6569 6570 6571 6572 6573 6574] contained NaN values and the row(s) have been removed (Rows are zero indexed).\n",
      "  warnings.warn(\"Row(s) {} contained NaN values and the row(s) have been \"\n"
     ]
    },
    {
     "name": "stdout",
     "output_type": "stream",
     "text": [
      "fit=0.763\n",
      "i=8 starts\n"
     ]
    },
    {
     "name": "stderr",
     "output_type": "stream",
     "text": [
      "c:\\Users\\User\\Anaconda3\\envs\\pytorch2\\Lib\\site-packages\\HydroErr\\HydroErr.py:6248: UserWarning: Row(s) [6533 6534 6535 6536 6537 6538 6539 6540 6541 6542 6543 6544 6545 6546\n",
      " 6547 6548 6549 6550 6551 6552 6553 6554 6555 6556 6557 6558 6559 6560\n",
      " 6561 6562 6563 6564 6565 6566 6567 6568 6569 6570 6571 6572 6573 6574] contained NaN values and the row(s) have been removed (Rows are zero indexed).\n",
      "  warnings.warn(\"Row(s) {} contained NaN values and the row(s) have been \"\n"
     ]
    },
    {
     "name": "stdout",
     "output_type": "stream",
     "text": [
      "fit=0.703\n",
      "i=9 starts\n"
     ]
    },
    {
     "name": "stderr",
     "output_type": "stream",
     "text": [
      "c:\\Users\\User\\Anaconda3\\envs\\pytorch2\\Lib\\site-packages\\HydroErr\\HydroErr.py:6248: UserWarning: Row(s) [6503 6504 6505 6506 6507 6508 6509 6510 6511 6512 6513 6514 6515 6516\n",
      " 6517 6518 6519 6520 6521 6522 6523 6524 6525 6526 6527 6528 6529 6530\n",
      " 6531 6532 6533 6534 6535 6536 6537 6538 6539 6540 6541 6542 6543 6544\n",
      " 6545 6546 6547 6548 6549 6550 6551 6552 6553 6554 6555 6556 6557 6558\n",
      " 6559 6560 6561 6562 6563 6564 6565 6566 6567 6568 6569 6570 6571 6572\n",
      " 6573 6574] contained NaN values and the row(s) have been removed (Rows are zero indexed).\n",
      "  warnings.warn(\"Row(s) {} contained NaN values and the row(s) have been \"\n"
     ]
    },
    {
     "name": "stdout",
     "output_type": "stream",
     "text": [
      "fit=0.794\n",
      "i=10 starts\n"
     ]
    },
    {
     "name": "stderr",
     "output_type": "stream",
     "text": [
      "c:\\Users\\User\\Anaconda3\\envs\\pytorch2\\Lib\\site-packages\\HydroErr\\HydroErr.py:6248: UserWarning: Row(s) [6545 6546 6547 6548 6549 6550 6551 6552 6553 6554 6555 6556 6557 6558\n",
      " 6559 6560 6561 6562 6563 6564 6565 6566 6567 6568 6569 6570 6571 6572\n",
      " 6573 6574] contained NaN values and the row(s) have been removed (Rows are zero indexed).\n",
      "  warnings.warn(\"Row(s) {} contained NaN values and the row(s) have been \"\n"
     ]
    },
    {
     "name": "stdout",
     "output_type": "stream",
     "text": [
      "fit=0.815\n",
      "i=11 starts\n"
     ]
    },
    {
     "name": "stderr",
     "output_type": "stream",
     "text": [
      "c:\\Users\\User\\Anaconda3\\envs\\pytorch2\\Lib\\site-packages\\HydroErr\\HydroErr.py:6248: UserWarning: Row(s) [6499 6500 6501 6502 6503 6504 6505 6506 6507 6508 6509 6510 6511 6512\n",
      " 6513 6514 6515 6516 6517 6518 6519 6520 6521 6522 6523 6524 6525 6526\n",
      " 6527 6528 6529 6530 6531 6532 6533 6534 6535 6536 6537 6538 6539 6540\n",
      " 6541 6542 6543 6544 6545 6546 6547 6548 6549 6550 6551 6552 6553 6554\n",
      " 6555 6556 6557 6558 6559 6560 6561 6562 6563 6564 6565 6566 6567 6568\n",
      " 6569 6570 6571 6572 6573 6574] contained NaN values and the row(s) have been removed (Rows are zero indexed).\n",
      "  warnings.warn(\"Row(s) {} contained NaN values and the row(s) have been \"\n"
     ]
    },
    {
     "name": "stdout",
     "output_type": "stream",
     "text": [
      "fit=0.782\n",
      "i=12 starts\n"
     ]
    },
    {
     "name": "stderr",
     "output_type": "stream",
     "text": [
      "c:\\Users\\User\\Anaconda3\\envs\\pytorch2\\Lib\\site-packages\\HydroErr\\HydroErr.py:6248: UserWarning: Row(s) [6546 6547 6548 6549 6550 6551 6552 6553 6554 6555 6556 6557 6558 6559\n",
      " 6560 6561 6562 6563 6564 6565 6566 6567 6568 6569 6570 6571 6572 6573\n",
      " 6574] contained NaN values and the row(s) have been removed (Rows are zero indexed).\n",
      "  warnings.warn(\"Row(s) {} contained NaN values and the row(s) have been \"\n"
     ]
    },
    {
     "name": "stdout",
     "output_type": "stream",
     "text": [
      "fit=0.776\n",
      "i=13 starts\n",
      "fit=0.76\n",
      "i=14 starts\n"
     ]
    },
    {
     "name": "stderr",
     "output_type": "stream",
     "text": [
      "c:\\Users\\User\\Anaconda3\\envs\\pytorch2\\Lib\\site-packages\\HydroErr\\HydroErr.py:6248: UserWarning: Row(s) [6485 6486 6487 6488 6489 6490 6491 6492 6493 6494 6495 6496 6497 6498\n",
      " 6499 6500 6501 6502 6503 6504 6505 6506 6507 6508 6509 6510 6511 6512\n",
      " 6513 6514 6515 6516 6517 6518 6519 6520 6521 6522 6523 6524 6525 6526\n",
      " 6527 6528 6529 6530 6531 6532 6533 6534 6535 6536 6537 6538 6539 6540\n",
      " 6541 6542 6543 6544 6545 6546 6547 6548 6549 6550 6551 6552 6553 6554\n",
      " 6555 6556 6557 6558 6559 6560 6561 6562 6563 6564 6565 6566 6567 6568\n",
      " 6569 6570 6571 6572 6573 6574] contained NaN values and the row(s) have been removed (Rows are zero indexed).\n",
      "  warnings.warn(\"Row(s) {} contained NaN values and the row(s) have been \"\n"
     ]
    },
    {
     "name": "stdout",
     "output_type": "stream",
     "text": [
      "fit=0.677\n",
      "i=15 starts\n"
     ]
    },
    {
     "name": "stderr",
     "output_type": "stream",
     "text": [
      "c:\\Users\\User\\Anaconda3\\envs\\pytorch2\\Lib\\site-packages\\HydroErr\\HydroErr.py:6248: UserWarning: Row(s) [6505 6506 6507 6508 6509 6510 6511 6512 6513 6514 6515 6516 6517 6518\n",
      " 6519 6520 6521 6522 6523 6524 6525 6526 6527 6528 6529 6530 6531 6532\n",
      " 6533 6534 6535 6536 6537 6538 6539 6540 6541 6542 6543 6544 6545 6546\n",
      " 6547 6548 6549 6550 6551 6552 6553 6554 6555 6556 6557 6558 6559 6560\n",
      " 6561 6562 6563 6564 6565 6566 6567 6568 6569 6570 6571 6572 6573 6574] contained NaN values and the row(s) have been removed (Rows are zero indexed).\n",
      "  warnings.warn(\"Row(s) {} contained NaN values and the row(s) have been \"\n"
     ]
    },
    {
     "name": "stdout",
     "output_type": "stream",
     "text": [
      "fit=0.691\n",
      "i=16 starts\n"
     ]
    },
    {
     "name": "stderr",
     "output_type": "stream",
     "text": [
      "c:\\Users\\User\\Anaconda3\\envs\\pytorch2\\Lib\\site-packages\\HydroErr\\HydroErr.py:6248: UserWarning: Row(s) [6118 6119 6120 6121 6122 6123 6124 6125 6126 6127 6128 6129 6130 6131\n",
      " 6132 6133 6134 6135 6136 6137 6138 6139 6140 6141 6142 6143 6144 6145\n",
      " 6146 6147 6148 6149 6150 6151 6152 6153 6154 6155 6156 6157 6158 6159\n",
      " 6160 6161 6162 6163 6164 6165 6166 6167 6168 6169 6170 6171 6172 6173\n",
      " 6174 6175 6176 6177 6178 6179 6180 6181 6182 6183 6184 6185 6186 6187\n",
      " 6188 6189 6190 6191 6192 6193 6194 6195 6196 6197 6198 6199 6200 6201\n",
      " 6202 6203 6204 6205 6206 6207 6208 6209 6210 6211 6212 6213 6214 6215\n",
      " 6216 6217 6218 6219 6220 6221 6222 6223 6224 6225 6226 6227 6228 6229\n",
      " 6230 6231 6232 6233 6234 6235 6236 6237 6238 6239 6240 6241 6242 6243\n",
      " 6244 6245 6246 6247 6248 6249 6250 6251 6252 6253 6254 6255 6256 6257\n",
      " 6258 6259 6260 6261 6262 6263 6264 6265 6266 6267 6268 6269 6270 6271\n",
      " 6272 6273 6274 6275 6276 6277 6278 6279 6280 6281 6282 6283 6284 6285\n",
      " 6286 6287 6288 6289 6290 6291 6292 6293 6294 6295 6296 6297 6298 6299\n",
      " 6300 6301 6302 6303 6304 6305 6306 6307 6308 6309 6310 6311 6312 6313\n",
      " 6314 6315 6316 6317 6318 6319 6320 6321 6322 6323 6324 6325 6326 6327\n",
      " 6328 6329 6330 6331 6332 6333 6334 6335 6336 6337 6338 6339 6340 6341\n",
      " 6342 6343 6344 6345 6346 6347 6348 6349 6350 6351 6352 6353 6354 6355\n",
      " 6356 6357 6358 6359 6360 6361 6362 6363 6364 6365 6366 6367 6368 6369\n",
      " 6370 6371 6372 6373 6374 6375 6376 6377 6378 6379 6380 6381 6382 6383\n",
      " 6384 6385 6386 6387 6388 6389 6390 6391 6392 6393 6394 6395 6396 6397\n",
      " 6398 6399 6400 6401 6402 6403 6404 6405 6406 6407 6408 6409 6410 6411\n",
      " 6412 6413 6414 6415 6416 6417 6418 6419 6420 6421 6422 6423 6424 6425\n",
      " 6426 6427 6428 6429 6430 6431 6432 6433 6434 6435 6436 6437 6438 6439\n",
      " 6440 6441 6442 6443 6444 6445 6446 6447 6448 6449 6450 6451 6452 6453\n",
      " 6454 6455 6456 6457 6458 6459 6460 6461 6462 6463 6464 6465 6466 6467\n",
      " 6468 6469 6470 6471 6472 6473 6474 6475 6476 6477 6478 6479 6480 6481\n",
      " 6482 6483 6484 6485 6486 6487 6488 6489 6490 6491 6492 6493 6494 6495\n",
      " 6496 6497 6498 6499 6500 6501 6502 6503 6504 6505 6506 6507 6508 6509\n",
      " 6510 6511 6512 6513 6514 6515 6516 6517 6518 6519 6520 6521 6522 6523\n",
      " 6524 6525 6526 6527 6528 6529 6530 6531 6532 6533 6534 6535 6536 6537\n",
      " 6538 6539 6540 6541 6542 6543 6544 6545 6546 6547 6548 6549 6550 6551\n",
      " 6552 6553 6554 6555 6556 6557 6558 6559 6560 6561 6562 6563 6564 6565\n",
      " 6566 6567 6568 6569 6570 6571 6572 6573 6574] contained NaN values and the row(s) have been removed (Rows are zero indexed).\n",
      "  warnings.warn(\"Row(s) {} contained NaN values and the row(s) have been \"\n"
     ]
    },
    {
     "name": "stdout",
     "output_type": "stream",
     "text": [
      "fit=0.583\n",
      "i=17 starts\n",
      "fit=0.66\n",
      "i=18 starts\n",
      "fit=0.681\n",
      "i=19 starts\n",
      "fit=0.681\n",
      "i=20 starts\n",
      "fit=0.708\n",
      "i=21 starts\n"
     ]
    },
    {
     "name": "stderr",
     "output_type": "stream",
     "text": [
      "c:\\Users\\User\\Anaconda3\\envs\\pytorch2\\Lib\\site-packages\\HydroErr\\HydroErr.py:6248: UserWarning: Row(s) [6483 6484 6485 6486 6487 6488 6489 6490 6491 6492 6493 6494 6495 6496\n",
      " 6497 6498 6499 6500 6501 6502 6503 6504 6505 6506 6507 6508 6509 6510\n",
      " 6511 6512 6513 6514 6515 6516 6517 6518 6519 6520 6521 6522 6523 6524\n",
      " 6525 6526 6527 6528 6529 6530 6531 6532 6533 6534 6535 6536 6537 6538\n",
      " 6539 6540 6541 6542 6543 6544 6545 6546 6547 6548 6549 6550 6551 6552] contained NaN values and the row(s) have been removed (Rows are zero indexed).\n",
      "  warnings.warn(\"Row(s) {} contained NaN values and the row(s) have been \"\n"
     ]
    },
    {
     "name": "stdout",
     "output_type": "stream",
     "text": [
      "fit=0.718\n",
      "i=22 starts\n",
      "fit=0.687\n",
      "i=23 starts\n"
     ]
    },
    {
     "name": "stderr",
     "output_type": "stream",
     "text": [
      "c:\\Users\\User\\Anaconda3\\envs\\pytorch2\\Lib\\site-packages\\HydroErr\\HydroErr.py:6248: UserWarning: Row(s) [6567 6568 6569 6570 6571 6572 6573 6574] contained NaN values and the row(s) have been removed (Rows are zero indexed).\n",
      "  warnings.warn(\"Row(s) {} contained NaN values and the row(s) have been \"\n"
     ]
    },
    {
     "name": "stdout",
     "output_type": "stream",
     "text": [
      "fit=0.677\n",
      "i=24 starts\n"
     ]
    },
    {
     "name": "stderr",
     "output_type": "stream",
     "text": [
      "c:\\Users\\User\\Anaconda3\\envs\\pytorch2\\Lib\\site-packages\\HydroErr\\HydroErr.py:6248: UserWarning: Row(s) [6547 6548 6549 6550 6551 6552 6553 6554 6555 6556 6557 6558 6559 6560\n",
      " 6561 6562 6563 6564 6565 6566 6567 6568 6569 6570 6571 6572 6573 6574] contained NaN values and the row(s) have been removed (Rows are zero indexed).\n",
      "  warnings.warn(\"Row(s) {} contained NaN values and the row(s) have been \"\n"
     ]
    },
    {
     "name": "stdout",
     "output_type": "stream",
     "text": [
      "fit=0.765\n",
      "i=25 starts\n",
      "fit=0.478\n",
      "i=26 starts\n"
     ]
    },
    {
     "name": "stderr",
     "output_type": "stream",
     "text": [
      "c:\\Users\\User\\Anaconda3\\envs\\pytorch2\\Lib\\site-packages\\HydroErr\\HydroErr.py:6248: UserWarning: Row(s) [6548 6549 6550 6551 6552 6553 6554 6555 6556 6557 6558 6559 6560 6561\n",
      " 6562 6563 6564 6565 6566 6567 6568 6569 6570 6571 6572 6573 6574] contained NaN values and the row(s) have been removed (Rows are zero indexed).\n",
      "  warnings.warn(\"Row(s) {} contained NaN values and the row(s) have been \"\n"
     ]
    },
    {
     "name": "stdout",
     "output_type": "stream",
     "text": [
      "fit=0.504\n",
      "i=27 starts\n",
      "fit=0.45\n",
      "i=28 starts\n"
     ]
    },
    {
     "name": "stderr",
     "output_type": "stream",
     "text": [
      "c:\\Users\\User\\Anaconda3\\envs\\pytorch2\\Lib\\site-packages\\HydroErr\\HydroErr.py:6248: UserWarning: Row(s) [5022 5023 5024 5025 5026 5027 5028 5029 5030 5031 5032 5033 5034 5035\n",
      " 5036 5037 5038 5039 5040 5041 5042 5043 5044 5045 5046 5047 5048 5049\n",
      " 5050 5051 5052 5053 5054 5055 5056 5057 5058 5059 5060 5061 5062 5063\n",
      " 5064 5065 5066 5067 5068 5069 5070 5071 5072 5073 5074 5075 5076 5077\n",
      " 5078 5079 5080 5081 5082 5083 5084 5085 5086 5087 5088 5089 5090 5091\n",
      " 5092 5093 5094 5095 5096 5097 5098 5099 5100 5101 5102 5103 5104 5105\n",
      " 5106 5107 5108 5109 5110 5111 5112 5113 6483 6484 6485 6486 6487 6488\n",
      " 6489 6490 6491 6492 6493 6494 6495 6496 6497 6498 6499 6500 6501 6502\n",
      " 6503 6504 6505 6506 6507 6508 6509 6510 6511 6512 6513 6514 6515 6516\n",
      " 6517 6518 6519 6520 6521 6522 6523 6524 6525 6526 6527 6528 6529 6530\n",
      " 6531 6532 6533 6534 6535 6536 6537 6538 6539 6540 6541 6542 6543 6544\n",
      " 6545 6546 6547 6548 6549 6550 6551 6552 6553 6554 6555 6556 6557 6558\n",
      " 6559 6560 6561 6562 6563 6564 6565 6566 6567 6568 6569 6570 6571 6572\n",
      " 6573 6574] contained NaN values and the row(s) have been removed (Rows are zero indexed).\n",
      "  warnings.warn(\"Row(s) {} contained NaN values and the row(s) have been \"\n"
     ]
    },
    {
     "name": "stdout",
     "output_type": "stream",
     "text": [
      "fit=0.769\n",
      "i=29 starts\n"
     ]
    },
    {
     "name": "stderr",
     "output_type": "stream",
     "text": [
      "c:\\Users\\User\\Anaconda3\\envs\\pytorch2\\Lib\\site-packages\\HydroErr\\HydroErr.py:6248: UserWarning: Row(s) [  0   1   2   3   4   5   6   7   8   9  10  11  12  13  14  15  16  17\n",
      "  18  19  20  21  22  23  24  25  26  27  28  29  30  31  32  33  34  35\n",
      "  36  37  38  39  40  41  42  43  44  45  46  47  48  49  50  51  52  53\n",
      "  54  55  56  57  58  59  60  61  62  63  64  65  66  67  68  69  70  71\n",
      "  72  73  74  75  76  77  78  79  80  81  82  83  84  85  86  87  88  89\n",
      "  90  91  92  93  94  95  96  97  98  99 100 101 102 103 104 105 106 107\n",
      " 108 109 110 111 112 113 114 115 116 117 118 119 120 121 122 123 124 125\n",
      " 126 127 128 129 130 131 132 133 134 135 136 137 138 139 140 141 142 143\n",
      " 144 145 146 147 148 149 150 151 152 153 154 155 156 157 158 159 160 161\n",
      " 162 163 164 165 166 167 168 169 170 171 172 173 174 175 176 177 178 179\n",
      " 180 181 182 183 184 185 186 187 188 189 190 191 192 193 194 195 196 197\n",
      " 198 199 200 201 202 203 204 205 206 207 208 209 210 211 212 213 214 215\n",
      " 216 217 218 219 220 221 222 223 224 225 226 227 228 229 230 231 232 233\n",
      " 234 235 236 237 238 239 240 241 242 243 244 245 246 247 248 249 250 251\n",
      " 252 253 254 255 256 257 258 259 260 261 262 263 264 265 266 267 268 269\n",
      " 270 271 272 273 274 275 276 277 278 279 280 281 282 283 284 285 286 287\n",
      " 288 289 290 291 292 293 294 295 296 297 298 299 300 301 302 303 304 305\n",
      " 306 307 308 309 310 311 312 313 314 315 316 317 318 319 320 321 322 323\n",
      " 324 325 326 327 328 329 330 331 332 333 334 335 336 337 338 339 340 341\n",
      " 342 343 344 345 346 347 348 349 350 351 352 353 354 355 356 357 358 359\n",
      " 360 361 362 363 364 365 366 367 368 369 370 371 372 373 374 375 376 377\n",
      " 378 379 380 381 382 383 384 385 386 387 388 389 390 391 392 393 394 395\n",
      " 396 397 398 399 400 401 402 403 404 405 406 407 408 409 410 411 412 413\n",
      " 414 415 416 417 418 419 420 421 422 423 424 425 426 427 428 429 430 431\n",
      " 432 433 434 435 436 437 438 439 440 441 442 443 444 445 446 447 448 449\n",
      " 450 451 452 453 454 455 456 457 458 459 460 461 462 463 464 465 466 467\n",
      " 468 469 470 471 472 473 474 475 476 477 478 479 480 481 482 483 484 485\n",
      " 486 487 488 489 490 491 492 493 494 495 496 497 498 499 500 501 502 503\n",
      " 504 505 506 507 508 509 510 511 512 513 514 515 516 517 518 519 520 521\n",
      " 522 523 524 525 526 527 528 529 530 531 532 533 534 535 536 537 538 539\n",
      " 540 541 542 543 544 545 546 547 548 549 550 551 552 553 554 555 556 557\n",
      " 558 559 560 561 562 563 564 565 566 567 568 569 570 571 572 573 574 575\n",
      " 576] contained NaN values and the row(s) have been removed (Rows are zero indexed).\n",
      "  warnings.warn(\"Row(s) {} contained NaN values and the row(s) have been \"\n",
      "c:\\Users\\User\\Anaconda3\\envs\\pytorch2\\Lib\\site-packages\\HydroErr\\HydroErr.py:6248: UserWarning: Row(s) [6497 6498 6499 6500 6501 6502 6503 6504 6505 6506 6507 6508 6509 6510\n",
      " 6511 6512 6513 6514 6515 6516 6517 6518 6519 6520 6521 6522 6523 6524\n",
      " 6525 6526 6527 6528 6529 6530 6531 6532 6533 6534 6535 6536 6537 6538\n",
      " 6539 6540 6541 6542 6543 6544 6545 6546 6547 6548 6549 6550 6551 6552\n",
      " 6553 6554 6555 6556 6557 6558 6559 6560 6561 6562 6563 6564 6565 6566\n",
      " 6567 6568 6569 6570 6571 6572 6573 6574] contained NaN values and the row(s) have been removed (Rows are zero indexed).\n",
      "  warnings.warn(\"Row(s) {} contained NaN values and the row(s) have been \"\n"
     ]
    },
    {
     "name": "stdout",
     "output_type": "stream",
     "text": [
      "fit=0.67\n",
      "i=30 starts\n"
     ]
    },
    {
     "name": "stderr",
     "output_type": "stream",
     "text": [
      "c:\\Users\\User\\Anaconda3\\envs\\pytorch2\\Lib\\site-packages\\HydroErr\\HydroErr.py:6248: UserWarning: Row(s) [6498 6499 6500 6501 6502 6503 6504 6505 6506 6507 6508 6509 6510 6511\n",
      " 6512 6513 6514 6515 6516 6517 6518 6519 6520 6521 6522 6523 6524 6525\n",
      " 6526 6527 6528 6529 6530 6531 6532 6533 6534 6535 6536 6537 6538 6539\n",
      " 6540 6541 6542 6543 6544 6545 6546 6547 6548 6549 6550 6551 6552 6553\n",
      " 6554 6555 6556 6557 6558 6559 6560 6561 6562 6563 6564 6565 6566 6567\n",
      " 6568 6569 6570 6571 6572 6573 6574] contained NaN values and the row(s) have been removed (Rows are zero indexed).\n",
      "  warnings.warn(\"Row(s) {} contained NaN values and the row(s) have been \"\n"
     ]
    },
    {
     "name": "stdout",
     "output_type": "stream",
     "text": [
      "fit=0.777\n",
      "i=31 starts\n",
      "fit=0.637\n",
      "i=32 starts\n",
      "fit=0.665\n",
      "i=33 starts\n",
      "fit=0.831\n",
      "i=34 starts\n",
      "fit=0.778\n",
      "i=35 starts\n",
      "fit=0.78\n",
      "i=36 starts\n",
      "fit=0.684\n",
      "i=37 starts\n"
     ]
    },
    {
     "name": "stderr",
     "output_type": "stream",
     "text": [
      "c:\\Users\\User\\Anaconda3\\envs\\pytorch2\\Lib\\site-packages\\HydroErr\\HydroErr.py:6248: UserWarning: Row(s) [6530 6531 6532 6533 6534 6535 6536 6537 6538 6539 6540 6541 6542 6543\n",
      " 6544 6545 6546 6547 6548 6549 6550 6551 6552 6553 6554 6555 6556 6557\n",
      " 6558 6559 6560 6561 6562 6563 6564 6565 6566 6567 6568 6569 6570 6571\n",
      " 6572 6573 6574] contained NaN values and the row(s) have been removed (Rows are zero indexed).\n",
      "  warnings.warn(\"Row(s) {} contained NaN values and the row(s) have been \"\n"
     ]
    },
    {
     "name": "stdout",
     "output_type": "stream",
     "text": [
      "fit=0.814\n",
      "i=38 starts\n"
     ]
    },
    {
     "name": "stderr",
     "output_type": "stream",
     "text": [
      "c:\\Users\\User\\Anaconda3\\envs\\pytorch2\\Lib\\site-packages\\HydroErr\\HydroErr.py:6248: UserWarning: Row(s) [6550 6551 6552 6553 6554 6555 6556 6557 6558 6559 6560 6561 6562 6563\n",
      " 6564 6565 6566 6567 6568 6569 6570 6571 6572 6573 6574] contained NaN values and the row(s) have been removed (Rows are zero indexed).\n",
      "  warnings.warn(\"Row(s) {} contained NaN values and the row(s) have been \"\n"
     ]
    },
    {
     "name": "stdout",
     "output_type": "stream",
     "text": [
      "fit=0.745\n",
      "i=39 starts\n"
     ]
    },
    {
     "name": "stderr",
     "output_type": "stream",
     "text": [
      "c:\\Users\\User\\Anaconda3\\envs\\pytorch2\\Lib\\site-packages\\HydroErr\\HydroErr.py:6248: UserWarning: Row(s) [6572 6573 6574] contained NaN values and the row(s) have been removed (Rows are zero indexed).\n",
      "  warnings.warn(\"Row(s) {} contained NaN values and the row(s) have been \"\n"
     ]
    },
    {
     "name": "stdout",
     "output_type": "stream",
     "text": [
      "fit=0.838\n",
      "i=40 starts\n",
      "fit=0.731\n",
      "i=41 starts\n"
     ]
    },
    {
     "name": "stderr",
     "output_type": "stream",
     "text": [
      "c:\\Users\\User\\Anaconda3\\envs\\pytorch2\\Lib\\site-packages\\HydroErr\\HydroErr.py:6248: UserWarning: Row(s) [6544 6545 6546 6547 6548 6549 6550 6551 6552 6553 6554 6555 6556 6557\n",
      " 6558 6559 6560 6561 6562 6563 6564 6565 6566 6567 6568 6569 6570 6571\n",
      " 6572 6573 6574] contained NaN values and the row(s) have been removed (Rows are zero indexed).\n",
      "  warnings.warn(\"Row(s) {} contained NaN values and the row(s) have been \"\n"
     ]
    },
    {
     "name": "stdout",
     "output_type": "stream",
     "text": [
      "fit=0.642\n",
      "i=42 starts\n"
     ]
    },
    {
     "name": "stderr",
     "output_type": "stream",
     "text": [
      "c:\\Users\\User\\Anaconda3\\envs\\pytorch2\\Lib\\site-packages\\HydroErr\\HydroErr.py:6248: UserWarning: Row(s) [6559 6560 6561 6562 6563 6564 6565 6566 6567 6568 6569 6570 6571 6572\n",
      " 6573 6574] contained NaN values and the row(s) have been removed (Rows are zero indexed).\n",
      "  warnings.warn(\"Row(s) {} contained NaN values and the row(s) have been \"\n"
     ]
    },
    {
     "name": "stdout",
     "output_type": "stream",
     "text": [
      "fit=0.705\n",
      "i=43 starts\n",
      "fit=0.583\n",
      "i=44 starts\n",
      "fit=0.606\n",
      "i=45 starts\n"
     ]
    },
    {
     "name": "stderr",
     "output_type": "stream",
     "text": [
      "c:\\Users\\User\\Anaconda3\\envs\\pytorch2\\Lib\\site-packages\\HydroErr\\HydroErr.py:6248: UserWarning: Row(s) [6140 6141 6142 6143 6144 6145 6146 6147 6148 6149 6150 6151 6152 6153\n",
      " 6154 6155 6156 6157 6158 6159 6160 6161 6162 6163 6164 6165 6166 6167\n",
      " 6168 6169 6170 6171 6172 6173 6174 6175 6176 6177 6178 6179 6180 6181\n",
      " 6182 6183 6184 6185 6186 6187 6188 6189 6190 6191 6192 6193 6194 6195\n",
      " 6196 6197 6198 6199 6200 6201 6202 6203 6204 6205 6206 6207 6208 6209\n",
      " 6210 6211 6212 6213 6214 6215 6216 6217 6218 6219 6220 6221 6222 6223\n",
      " 6224 6225 6226 6227 6228 6229 6230 6231 6232 6233 6234 6235 6236 6237\n",
      " 6238 6239 6240 6241 6242 6243 6244 6245 6246 6247 6248 6249 6250 6251\n",
      " 6252 6253 6254 6255 6256 6257 6258 6259 6260 6261 6262 6263 6264 6265\n",
      " 6266 6267 6268 6269 6270 6271 6272 6273 6274 6275 6276 6277 6278 6279\n",
      " 6280 6281 6282 6283 6284 6285 6286 6287 6288 6289 6290 6291 6292 6293\n",
      " 6294 6295 6296 6297 6298 6299 6300 6301 6302 6303 6304 6305 6306 6307\n",
      " 6308 6309 6310 6311 6312 6313 6314 6315 6316 6317 6318 6319 6320 6321\n",
      " 6322 6323 6324 6325 6326 6327 6328 6329 6330 6331 6332 6333 6334 6335\n",
      " 6336 6337 6338 6339 6340 6341 6342 6343 6344 6345 6346 6347 6348 6349\n",
      " 6350 6351 6352 6353 6354 6355 6356 6357 6358 6359 6360 6361 6362 6363\n",
      " 6364 6365 6366 6367 6368 6369 6370 6371 6372 6373 6374 6375 6376 6377\n",
      " 6378 6379 6380 6381 6382 6383 6384 6385 6386 6387 6388 6389 6390 6391\n",
      " 6392 6393 6394 6395 6396 6397 6398 6399 6400 6401 6402 6403 6404 6405\n",
      " 6406 6407 6408 6409 6410 6411 6412 6413 6414 6415 6416 6417 6418 6419\n",
      " 6420 6421 6422 6423 6424 6425 6426 6427 6428 6429 6430 6431 6432 6433\n",
      " 6434 6435 6436 6437 6438 6439 6440 6441 6442 6443 6444 6445 6446 6447\n",
      " 6448 6449 6450 6451 6452 6453 6454 6455 6456 6457 6458 6459 6460 6461\n",
      " 6462 6463 6464 6465 6466 6467 6468 6469 6470 6471 6472 6473 6474 6475\n",
      " 6476 6477 6478 6479 6480 6481 6482 6483 6484 6485 6486 6487 6488 6489\n",
      " 6490 6491 6492 6493 6494 6495 6496 6497 6498 6499 6500 6501 6502 6503\n",
      " 6504 6505 6506 6507 6508 6509 6510 6511 6512 6513 6514 6515 6516 6517\n",
      " 6518 6519 6520 6521 6522 6523 6524 6525 6526 6527 6528 6529 6530 6531\n",
      " 6532 6533 6534 6535 6536 6537 6538 6539 6540 6541 6542 6543 6544 6545\n",
      " 6546 6547 6548 6549 6550 6551 6552 6553 6554 6555 6556 6557 6558 6559\n",
      " 6560 6561 6562 6563 6564 6565 6566 6567 6568 6569 6570 6571 6572 6573\n",
      " 6574] contained NaN values and the row(s) have been removed (Rows are zero indexed).\n",
      "  warnings.warn(\"Row(s) {} contained NaN values and the row(s) have been \"\n"
     ]
    },
    {
     "name": "stdout",
     "output_type": "stream",
     "text": [
      "fit=0.546\n",
      "i=46 starts\n"
     ]
    },
    {
     "name": "stderr",
     "output_type": "stream",
     "text": [
      "c:\\Users\\User\\Anaconda3\\envs\\pytorch2\\Lib\\site-packages\\HydroErr\\HydroErr.py:6248: UserWarning: Row(s) [6153 6154 6155 6156 6157 6158 6159 6160 6161 6162 6163 6164 6165 6166\n",
      " 6167 6168 6169 6170 6171 6172 6173 6174 6175 6176 6177 6178 6179 6180\n",
      " 6181 6182 6183 6184 6185 6186 6187 6188 6189 6190 6191 6192 6193 6194\n",
      " 6195 6196 6197 6198 6199 6200 6201 6202 6203 6204 6205 6206 6207 6208\n",
      " 6209 6210 6211 6212 6213 6214 6215 6216 6217 6218 6219 6220 6221 6222\n",
      " 6223 6224 6225 6226 6227 6228 6229 6230 6231 6232 6233 6234 6235 6236\n",
      " 6237 6238 6239 6240 6241 6242 6243 6244 6245 6246 6247 6248 6249 6250\n",
      " 6251 6252 6253 6254 6255 6256 6257 6258 6259 6260 6261 6262 6263 6264\n",
      " 6265 6266 6267 6268 6269 6270 6271 6272 6273 6274 6275 6276 6277 6278\n",
      " 6279 6280 6281 6282 6283 6284 6285 6286 6287 6288 6289 6290 6291 6292\n",
      " 6293 6294 6295 6296 6297 6298 6299 6300 6301 6302 6303 6304 6305 6306\n",
      " 6307 6308 6309 6310 6311 6312 6313 6314 6315 6316 6317 6318 6319 6320\n",
      " 6321 6322 6323 6324 6325 6326 6327 6328 6329 6330 6331 6332 6333 6334\n",
      " 6335 6336 6337 6338 6339 6340 6341 6342 6343 6344 6345 6346 6347 6348\n",
      " 6349 6350 6351 6352 6353 6354 6355 6356 6357 6358 6359 6360 6361 6362\n",
      " 6363 6364 6365 6366 6367 6368 6369 6370 6371 6372 6373 6374 6375 6376\n",
      " 6377 6378 6379 6380 6381 6382 6383 6384 6385 6386 6387 6388 6389 6390\n",
      " 6391 6392 6393 6394 6395 6396 6397 6398 6399 6400 6401 6402 6403 6404\n",
      " 6405 6406 6407 6408 6409 6410 6411 6412 6413 6414 6415 6416 6417 6418\n",
      " 6419 6420 6421 6422 6423 6424 6425 6426 6427 6428 6429 6430 6431 6432\n",
      " 6433 6434 6435 6436 6437 6438 6439 6440 6441 6442 6443 6444 6445 6446\n",
      " 6447 6448 6449 6450 6451 6452 6453 6454 6455 6456 6457 6458 6459 6460\n",
      " 6461 6462 6463 6464 6465 6466 6467 6468 6469 6470 6471 6472 6473 6474\n",
      " 6475 6476 6477 6478 6479 6480 6481 6482 6483 6484 6485 6486 6487 6488\n",
      " 6489 6490 6491 6492 6493 6494 6495 6496 6497 6498 6499 6500 6501 6502\n",
      " 6503 6504 6505 6506 6507 6508 6509 6510 6511 6512 6513 6514 6515 6516\n",
      " 6517 6518 6519 6520 6521 6522 6523 6524 6525 6526 6527 6528 6529 6530\n",
      " 6531 6532 6533 6534 6535 6536 6537 6538 6539 6540 6541 6542 6543 6544\n",
      " 6545 6546 6547 6548 6549 6550 6551 6552 6553 6554 6555 6556 6557 6558\n",
      " 6559 6560 6561 6562 6563 6564 6565 6566 6567 6568 6569 6570 6571 6572\n",
      " 6573 6574] contained NaN values and the row(s) have been removed (Rows are zero indexed).\n",
      "  warnings.warn(\"Row(s) {} contained NaN values and the row(s) have been \"\n"
     ]
    },
    {
     "name": "stdout",
     "output_type": "stream",
     "text": [
      "fit=0.601\n",
      "i=47 starts\n"
     ]
    },
    {
     "name": "stderr",
     "output_type": "stream",
     "text": [
      "c:\\Users\\User\\Anaconda3\\envs\\pytorch2\\Lib\\site-packages\\HydroErr\\HydroErr.py:6248: UserWarning: Row(s) [6181 6182 6183 6184 6185 6186 6187 6188 6189 6190 6191 6192 6193 6194\n",
      " 6195 6196 6197 6198 6199 6200 6201 6202 6203 6204 6205 6206 6207 6208\n",
      " 6209 6210 6211 6212 6213 6214 6215 6216 6217 6218 6219 6220 6221 6222\n",
      " 6223 6224 6225 6226 6227 6228 6229 6230 6231 6232 6233 6234 6235 6236\n",
      " 6237 6238 6239 6240 6241 6242 6243 6244 6245 6246 6247 6248 6249 6250\n",
      " 6251 6252 6253 6254 6255 6256 6257 6258 6259 6260 6261 6262 6263 6264\n",
      " 6265 6266 6267 6268 6269 6270 6271 6272 6273 6274 6275 6276 6277 6278\n",
      " 6279 6280 6281 6282 6283 6284 6285 6286 6287 6288 6289 6290 6291 6292\n",
      " 6293 6294 6295 6296 6297 6298 6299 6300 6301 6302 6303 6304 6305 6306\n",
      " 6307 6308 6309 6310 6311 6312 6313 6314 6315 6316 6317 6318 6319 6320\n",
      " 6321 6322 6323 6324 6325 6326 6327 6328 6329 6330 6331 6332 6333 6334\n",
      " 6335 6336 6337 6338 6339 6340 6341 6342 6343 6344 6345 6346 6347 6348\n",
      " 6349 6350 6351 6352 6353 6354 6355 6356 6357 6358 6359 6360 6361 6362\n",
      " 6363 6364 6365 6366 6367 6368 6369 6370 6371 6372 6373 6374 6375 6376\n",
      " 6377 6378 6379 6380 6381 6382 6383 6384 6385 6386 6387 6388 6389 6390\n",
      " 6391 6392 6393 6394 6395 6396 6397 6398 6399 6400 6401 6402 6403 6404\n",
      " 6405 6406 6407 6408 6409 6410 6411 6412 6413 6414 6415 6416 6417 6418\n",
      " 6419 6420 6421 6422 6423 6424 6425 6426 6427 6428 6429 6430 6431 6432\n",
      " 6433 6434 6435 6436 6437 6438 6439 6440 6441 6442 6443 6444 6445 6446\n",
      " 6447 6448 6449 6450 6451 6452 6453 6454 6455 6456 6457 6458 6459 6460\n",
      " 6461 6462 6463 6464 6465 6466 6467 6468 6469 6470 6471 6472 6473 6474\n",
      " 6475 6476 6477 6478 6479 6480 6481 6482 6483 6484 6485 6486 6487 6488\n",
      " 6489 6490 6491 6492 6493 6494 6495 6496 6497 6498 6499 6500 6501 6502\n",
      " 6503 6504 6505 6506 6507 6508 6509 6510 6511 6512 6513 6514 6515 6516\n",
      " 6517 6518 6519 6520 6521 6522 6523 6524 6525 6526 6527 6528 6529 6530\n",
      " 6531 6532 6533 6534 6535 6536 6537 6538 6539 6540 6541 6542 6543 6544\n",
      " 6545 6546 6547 6548 6549 6550 6551 6552 6553 6554 6555 6556 6557 6558\n",
      " 6559 6560 6561 6562 6563 6564 6565 6566 6567 6568 6569 6570 6571 6572\n",
      " 6573 6574] contained NaN values and the row(s) have been removed (Rows are zero indexed).\n",
      "  warnings.warn(\"Row(s) {} contained NaN values and the row(s) have been \"\n"
     ]
    },
    {
     "name": "stdout",
     "output_type": "stream",
     "text": [
      "fit=0.515\n",
      "i=48 starts\n",
      "fit=0.602\n",
      "i=49 starts\n",
      "fit=0.637\n",
      "i=50 starts\n",
      "fit=0.499\n",
      "i=51 starts\n",
      "fit=0.645\n",
      "i=52 starts\n",
      "fit=0.562\n",
      "i=53 starts\n"
     ]
    },
    {
     "name": "stderr",
     "output_type": "stream",
     "text": [
      "c:\\Users\\User\\Anaconda3\\envs\\pytorch2\\Lib\\site-packages\\HydroErr\\HydroErr.py:6248: UserWarning: Row(s) [6558 6559 6560 6561 6562 6563 6564 6565 6566 6567 6568 6569 6570 6571\n",
      " 6572 6573 6574] contained NaN values and the row(s) have been removed (Rows are zero indexed).\n",
      "  warnings.warn(\"Row(s) {} contained NaN values and the row(s) have been \"\n"
     ]
    },
    {
     "name": "stdout",
     "output_type": "stream",
     "text": [
      "fit=0.694\n",
      "i=54 starts\n",
      "fit=0.656\n",
      "i=55 starts\n"
     ]
    },
    {
     "name": "stderr",
     "output_type": "stream",
     "text": [
      "c:\\Users\\User\\Anaconda3\\envs\\pytorch2\\Lib\\site-packages\\HydroErr\\HydroErr.py:6248: UserWarning: Row(s) [6554 6555 6556 6557 6558 6559 6560 6561 6562 6563 6564 6565 6566 6567\n",
      " 6568 6569 6570 6571 6572 6573 6574] contained NaN values and the row(s) have been removed (Rows are zero indexed).\n",
      "  warnings.warn(\"Row(s) {} contained NaN values and the row(s) have been \"\n"
     ]
    },
    {
     "name": "stdout",
     "output_type": "stream",
     "text": [
      "fit=0.557\n",
      "i=56 starts\n"
     ]
    },
    {
     "name": "stderr",
     "output_type": "stream",
     "text": [
      "c:\\Users\\User\\Anaconda3\\envs\\pytorch2\\Lib\\site-packages\\HydroErr\\HydroErr.py:6248: UserWarning: Row(s) [6496 6497 6498 6499 6500 6501 6502 6503 6504 6505 6506 6507 6508 6509\n",
      " 6510 6511 6512 6513 6514 6515 6516 6517 6518 6519 6520 6521 6522 6523\n",
      " 6524 6525 6526 6527 6528 6529 6530 6531 6532 6533 6534 6535 6536 6537\n",
      " 6538 6539 6540 6541 6542 6543 6544 6545 6546 6547 6548 6549 6550 6551\n",
      " 6552 6553 6554 6555 6556 6557 6558 6559 6560 6561 6562 6563 6564 6565\n",
      " 6566 6567 6568 6569 6570 6571 6572 6573 6574] contained NaN values and the row(s) have been removed (Rows are zero indexed).\n",
      "  warnings.warn(\"Row(s) {} contained NaN values and the row(s) have been \"\n"
     ]
    },
    {
     "name": "stdout",
     "output_type": "stream",
     "text": [
      "fit=0.589\n",
      "i=57 starts\n"
     ]
    },
    {
     "name": "stderr",
     "output_type": "stream",
     "text": [
      "c:\\Users\\User\\Anaconda3\\envs\\pytorch2\\Lib\\site-packages\\HydroErr\\HydroErr.py:6248: UserWarning: Row(s) [6517 6518 6519 6520 6521 6522 6523 6524 6525 6526 6527 6528 6529 6530\n",
      " 6531 6532 6533 6534 6535 6536 6537 6538 6539 6540 6541 6542 6543 6544\n",
      " 6545 6546 6547 6548 6549 6550 6551 6552 6553 6554 6555 6556 6557 6558\n",
      " 6559 6560 6561 6562 6563 6564 6565 6566 6567 6568 6569 6570 6571 6572\n",
      " 6573 6574] contained NaN values and the row(s) have been removed (Rows are zero indexed).\n",
      "  warnings.warn(\"Row(s) {} contained NaN values and the row(s) have been \"\n"
     ]
    },
    {
     "name": "stdout",
     "output_type": "stream",
     "text": [
      "fit=0.693\n",
      "i=58 starts\n",
      "fit=0.725\n",
      "i=59 starts\n",
      "fit=0.661\n",
      "i=60 starts\n",
      "fit=0.617\n",
      "i=61 starts\n",
      "fit=0.66\n",
      "i=62 starts\n",
      "fit=0.651\n",
      "i=63 starts\n"
     ]
    },
    {
     "name": "stderr",
     "output_type": "stream",
     "text": [
      "c:\\Users\\User\\Anaconda3\\envs\\pytorch2\\Lib\\site-packages\\HydroErr\\HydroErr.py:6248: UserWarning: Row(s) [6489 6490 6491 6492 6493 6494 6495 6496 6497 6498 6499 6500 6501 6502\n",
      " 6503 6504 6505 6506 6507 6508 6509 6510 6511 6512 6513 6514 6515 6516\n",
      " 6517 6518 6519 6520 6521 6522 6523 6524 6525 6526 6527 6528 6529 6530\n",
      " 6531 6532 6533 6534 6535 6536 6537 6538 6539 6540 6541 6542 6543 6544\n",
      " 6545 6546 6547 6548 6549 6550 6551 6552 6553 6554 6555 6556 6557 6558\n",
      " 6559 6560 6561 6562 6563 6564 6565 6566 6567 6568 6569 6570 6571 6572\n",
      " 6573 6574] contained NaN values and the row(s) have been removed (Rows are zero indexed).\n",
      "  warnings.warn(\"Row(s) {} contained NaN values and the row(s) have been \"\n"
     ]
    },
    {
     "name": "stdout",
     "output_type": "stream",
     "text": [
      "fit=0.698\n",
      "i=64 starts\n",
      "fit=0.589\n",
      "i=65 starts\n",
      "fit=0.554\n",
      "i=66 starts\n",
      "fit=0.672\n",
      "i=67 starts\n",
      "fit=0.753\n",
      "i=68 starts\n",
      "fit=0.557\n",
      "i=69 starts\n",
      "fit=0.473\n",
      "i=70 starts\n"
     ]
    },
    {
     "name": "stderr",
     "output_type": "stream",
     "text": [
      "c:\\Users\\User\\Anaconda3\\envs\\pytorch2\\Lib\\site-packages\\HydroErr\\HydroErr.py:6248: UserWarning: Row(s) [6525 6526 6527 6528 6529 6530 6531 6532 6533 6534 6535 6536 6537 6538\n",
      " 6539 6540 6541 6542 6543 6544 6545 6546 6547 6548 6549 6550 6551 6552\n",
      " 6553 6554 6555 6556 6557 6558 6559 6560 6561 6562 6563 6564 6565 6566\n",
      " 6567 6568 6569 6570 6571 6572 6573 6574] contained NaN values and the row(s) have been removed (Rows are zero indexed).\n",
      "  warnings.warn(\"Row(s) {} contained NaN values and the row(s) have been \"\n"
     ]
    },
    {
     "name": "stdout",
     "output_type": "stream",
     "text": [
      "fit=0.68\n",
      "i=71 starts\n",
      "fit=0.566\n",
      "i=72 starts\n"
     ]
    },
    {
     "name": "stderr",
     "output_type": "stream",
     "text": [
      "c:\\Users\\User\\Anaconda3\\envs\\pytorch2\\Lib\\site-packages\\HydroErr\\HydroErr.py:6248: UserWarning: Row(s) [6552 6553 6554 6555 6556 6557 6558 6559 6560 6561 6562 6563 6564 6565\n",
      " 6566 6567 6568 6569 6570 6571 6572 6573 6574] contained NaN values and the row(s) have been removed (Rows are zero indexed).\n",
      "  warnings.warn(\"Row(s) {} contained NaN values and the row(s) have been \"\n"
     ]
    },
    {
     "name": "stdout",
     "output_type": "stream",
     "text": [
      "fit=0.528\n",
      "i=73 starts\n"
     ]
    },
    {
     "name": "stderr",
     "output_type": "stream",
     "text": [
      "c:\\Users\\User\\Anaconda3\\envs\\pytorch2\\Lib\\site-packages\\HydroErr\\HydroErr.py:6248: UserWarning: Row(s) [6551 6552 6553 6554 6555 6556 6557 6558 6559 6560 6561 6562 6563 6564\n",
      " 6565 6566 6567 6568 6569 6570 6571 6572 6573 6574] contained NaN values and the row(s) have been removed (Rows are zero indexed).\n",
      "  warnings.warn(\"Row(s) {} contained NaN values and the row(s) have been \"\n"
     ]
    },
    {
     "name": "stdout",
     "output_type": "stream",
     "text": [
      "fit=0.583\n",
      "i=74 starts\n",
      "fit=0.526\n",
      "i=75 starts\n",
      "fit=0.555\n",
      "i=76 starts\n",
      "fit=0.643\n",
      "i=77 starts\n"
     ]
    },
    {
     "name": "stderr",
     "output_type": "stream",
     "text": [
      "c:\\Users\\User\\Anaconda3\\envs\\pytorch2\\Lib\\site-packages\\HydroErr\\HydroErr.py:6248: UserWarning: Row(s) [6553 6554 6555 6556 6557 6558 6559 6560 6561 6562 6563 6564 6565 6566\n",
      " 6567 6568 6569 6570 6571 6572 6573 6574] contained NaN values and the row(s) have been removed (Rows are zero indexed).\n",
      "  warnings.warn(\"Row(s) {} contained NaN values and the row(s) have been \"\n"
     ]
    },
    {
     "name": "stdout",
     "output_type": "stream",
     "text": [
      "fit=0.666\n",
      "i=78 starts\n",
      "fit=0.583\n",
      "i=79 starts\n"
     ]
    },
    {
     "name": "stderr",
     "output_type": "stream",
     "text": [
      "c:\\Users\\User\\Anaconda3\\envs\\pytorch2\\Lib\\site-packages\\HydroErr\\HydroErr.py:6248: UserWarning: Row(s) [6490 6491 6492 6493 6494 6495 6496 6497 6498 6499 6500 6501 6502 6503\n",
      " 6504 6505 6506 6507 6508 6509 6510 6511 6512 6513 6514 6515 6516 6517\n",
      " 6518 6519 6520 6521 6522 6523 6524 6525 6526 6527 6528 6529 6530 6531\n",
      " 6532 6533 6534 6535 6536 6537 6538 6539 6540 6541 6542 6543 6544 6545\n",
      " 6546 6547 6548 6549 6550 6551 6552 6553 6554 6555 6556 6557 6558 6559\n",
      " 6560 6561 6562 6563 6564 6565 6566 6567 6568 6569 6570 6571 6572 6573\n",
      " 6574] contained NaN values and the row(s) have been removed (Rows are zero indexed).\n",
      "  warnings.warn(\"Row(s) {} contained NaN values and the row(s) have been \"\n"
     ]
    },
    {
     "name": "stdout",
     "output_type": "stream",
     "text": [
      "fit=0.587\n",
      "i=80 starts\n",
      "fit=0.63\n",
      "i=81 starts\n"
     ]
    },
    {
     "name": "stderr",
     "output_type": "stream",
     "text": [
      "c:\\Users\\User\\Anaconda3\\envs\\pytorch2\\Lib\\site-packages\\HydroErr\\HydroErr.py:6248: UserWarning: Row(s) [6510 6511 6512 6513 6514 6515 6516 6517 6518 6519 6520 6521 6522 6523\n",
      " 6524 6525 6526 6527 6528 6529 6530 6531 6532 6533 6534 6535 6536 6537\n",
      " 6538 6539 6540 6541 6542 6543 6544 6545 6546 6547 6548 6549 6550 6551\n",
      " 6552 6553 6554 6555 6556 6557 6558 6559 6560 6561 6562 6563 6564 6565\n",
      " 6566 6567 6568 6569 6570 6571 6572 6573 6574] contained NaN values and the row(s) have been removed (Rows are zero indexed).\n",
      "  warnings.warn(\"Row(s) {} contained NaN values and the row(s) have been \"\n"
     ]
    },
    {
     "name": "stdout",
     "output_type": "stream",
     "text": [
      "fit=0.659\n",
      "i=82 starts\n",
      "fit=0.57\n",
      "i=83 starts\n",
      "fit=0.456\n",
      "i=84 starts\n",
      "fit=0.601\n",
      "i=85 starts\n",
      "fit=0.624\n",
      "i=86 starts\n"
     ]
    },
    {
     "name": "stderr",
     "output_type": "stream",
     "text": [
      "c:\\Users\\User\\Anaconda3\\envs\\pytorch2\\Lib\\site-packages\\HydroErr\\HydroErr.py:6248: UserWarning: Row(s) [6139 6140 6141 6142 6143 6144 6145 6146 6147 6148 6149 6150 6151 6152\n",
      " 6153 6154 6155 6156 6157 6158 6159 6160 6161 6162 6163 6164 6165 6166\n",
      " 6167 6168 6169 6170 6171 6172 6173 6174 6175 6176 6177 6178 6179 6180\n",
      " 6181 6182 6183 6184 6185 6186 6187 6188 6189 6190 6191 6192 6193 6194\n",
      " 6195 6196 6197 6198 6199 6200 6201 6202 6203 6204 6205 6206 6207 6208\n",
      " 6209 6210 6211 6212 6213 6214 6215 6216 6217 6218 6219 6220 6221 6222\n",
      " 6223 6224 6225 6226 6227 6228 6229 6230 6231 6232 6233 6234 6235 6236\n",
      " 6237 6238 6239 6240 6241 6242 6243 6244 6245 6246 6247 6248 6249 6250\n",
      " 6251 6252 6253 6254 6255 6256 6257 6258 6259 6260 6261 6262 6263 6264\n",
      " 6265 6266 6267 6268 6269 6270 6271 6272 6273 6274 6275 6276 6277 6278\n",
      " 6279 6280 6281 6282 6283 6284 6285 6286 6287 6288 6289 6290 6291 6292\n",
      " 6293 6294 6295 6296 6297 6298 6299 6300 6301 6302 6303 6304 6305 6306\n",
      " 6307 6308 6309 6310 6311 6312 6313 6314 6315 6316 6317 6318 6319 6320\n",
      " 6321 6322 6323 6324 6325 6326 6327 6328 6329 6330 6331 6332 6333 6334\n",
      " 6335 6336 6337 6338 6339 6340 6341 6342 6343 6344 6345 6346 6347 6348\n",
      " 6349 6350 6351 6352 6353 6354 6355 6356 6357 6358 6359 6360 6361 6362\n",
      " 6363 6364 6365 6366 6367 6368 6369 6370 6371 6372 6373 6374 6375 6376\n",
      " 6377 6378 6379 6380 6381 6382 6383 6384 6385 6386 6387 6388 6389 6390\n",
      " 6391 6392 6393 6394 6395 6396 6397 6398 6399 6400 6401 6402 6403 6404\n",
      " 6405 6406 6407 6408 6409 6410 6411 6412 6413 6414 6415 6416 6417 6418\n",
      " 6419 6420 6421 6422 6423 6424 6425 6426 6427 6428 6429 6430 6431 6432\n",
      " 6433 6434 6435 6436 6437 6438 6439 6440 6441 6442 6443 6444 6445 6446\n",
      " 6447 6448 6449 6450 6451 6452 6453 6454 6455 6456 6457 6458 6459 6460\n",
      " 6461 6462 6463 6464 6465 6466 6467 6468 6469 6470 6471 6472 6473 6474\n",
      " 6475 6476 6477 6478 6479 6480 6481 6482 6483 6484 6485 6486 6487 6488\n",
      " 6489 6490 6491 6492 6493 6494 6495 6496 6497 6498 6499 6500 6501 6502\n",
      " 6503 6504 6505 6506 6507 6508 6509 6510 6511 6512 6513 6514 6515 6516\n",
      " 6517 6518 6519 6520 6521 6522 6523 6524 6525 6526 6527 6528 6529 6530\n",
      " 6531 6532 6533 6534 6535 6536 6537 6538 6539 6540 6541 6542 6543 6544\n",
      " 6545 6546 6547 6548 6549 6550 6551 6552 6553 6554 6555 6556 6557 6558\n",
      " 6559 6560 6561 6562 6563 6564 6565 6566 6567 6568 6569 6570 6571 6572\n",
      " 6573 6574] contained NaN values and the row(s) have been removed (Rows are zero indexed).\n",
      "  warnings.warn(\"Row(s) {} contained NaN values and the row(s) have been \"\n"
     ]
    },
    {
     "name": "stdout",
     "output_type": "stream",
     "text": [
      "fit=0.703\n",
      "i=87 starts\n",
      "fit=0.699\n",
      "i=88 starts\n",
      "fit=0.69\n",
      "i=89 starts\n",
      "fit=0.622\n",
      "i=90 starts\n"
     ]
    },
    {
     "name": "stderr",
     "output_type": "stream",
     "text": [
      "c:\\Users\\User\\Anaconda3\\envs\\pytorch2\\Lib\\site-packages\\HydroErr\\HydroErr.py:6248: UserWarning: Row(s) [5022 5023 5024 ... 6572 6573 6574] contained NaN values and the row(s) have been removed (Rows are zero indexed).\n",
      "  warnings.warn(\"Row(s) {} contained NaN values and the row(s) have been \"\n"
     ]
    },
    {
     "name": "stdout",
     "output_type": "stream",
     "text": [
      "fit=0.585\n",
      "i=91 starts\n",
      "fit=0.534\n",
      "i=92 starts\n",
      "fit=0.614\n",
      "i=93 starts\n"
     ]
    },
    {
     "name": "stderr",
     "output_type": "stream",
     "text": [
      "c:\\Users\\User\\Anaconda3\\envs\\pytorch2\\Lib\\site-packages\\HydroErr\\HydroErr.py:6248: UserWarning: Row(s) [   0    1    2 ... 1213 1214 1215] contained NaN values and the row(s) have been removed (Rows are zero indexed).\n",
      "  warnings.warn(\"Row(s) {} contained NaN values and the row(s) have been \"\n",
      "c:\\Users\\User\\Anaconda3\\envs\\pytorch2\\Lib\\site-packages\\HydroErr\\HydroErr.py:6248: UserWarning: Row(s) [6502 6503 6504 6505 6506 6507 6508 6509 6510 6511 6512 6513 6514 6515\n",
      " 6516 6517 6518 6519 6520 6521 6522 6523 6524 6525 6526 6527 6528 6529\n",
      " 6530 6531 6532 6533 6534 6535 6536 6537 6538 6539 6540 6541 6542 6543\n",
      " 6544 6545 6546 6547 6548 6549 6550 6551 6552 6553 6554 6555 6556 6557\n",
      " 6558 6559 6560 6561 6562 6563 6564 6565 6566 6567 6568 6569 6570 6571\n",
      " 6572 6573 6574] contained NaN values and the row(s) have been removed (Rows are zero indexed).\n",
      "  warnings.warn(\"Row(s) {} contained NaN values and the row(s) have been \"\n"
     ]
    },
    {
     "name": "stdout",
     "output_type": "stream",
     "text": [
      "fit=0.58\n",
      "i=94 starts\n"
     ]
    },
    {
     "name": "stderr",
     "output_type": "stream",
     "text": [
      "c:\\Users\\User\\Anaconda3\\envs\\pytorch2\\Lib\\site-packages\\HydroErr\\HydroErr.py:6248: UserWarning: Row(s) [6560 6561 6562 6563 6564 6565 6566 6567 6568 6569 6570 6571 6572 6573\n",
      " 6574] contained NaN values and the row(s) have been removed (Rows are zero indexed).\n",
      "  warnings.warn(\"Row(s) {} contained NaN values and the row(s) have been \"\n"
     ]
    },
    {
     "name": "stdout",
     "output_type": "stream",
     "text": [
      "fit=0.679\n",
      "i=95 starts\n",
      "fit=0.685\n",
      "i=96 starts\n",
      "fit=0.426\n",
      "i=97 starts\n"
     ]
    },
    {
     "name": "stderr",
     "output_type": "stream",
     "text": [
      "c:\\Users\\User\\Anaconda3\\envs\\pytorch2\\Lib\\site-packages\\HydroErr\\HydroErr.py:6248: UserWarning: Row(s) [6504 6505 6506 6507 6508 6509 6510 6511 6512 6513 6514 6515 6516 6517\n",
      " 6518 6519 6520 6521 6522 6523 6524 6525 6526 6527 6528 6529 6530 6531\n",
      " 6532 6533 6534 6535 6536 6537 6538 6539 6540 6541 6542 6543 6544 6545\n",
      " 6546 6547 6548 6549 6550 6551 6552 6553 6554 6555 6556 6557 6558 6559\n",
      " 6560 6561 6562 6563 6564 6565 6566 6567 6568 6569 6570 6571 6572 6573\n",
      " 6574] contained NaN values and the row(s) have been removed (Rows are zero indexed).\n",
      "  warnings.warn(\"Row(s) {} contained NaN values and the row(s) have been \"\n"
     ]
    },
    {
     "name": "stdout",
     "output_type": "stream",
     "text": [
      "fit=0.625\n",
      "i=98 starts\n"
     ]
    },
    {
     "name": "stderr",
     "output_type": "stream",
     "text": [
      "c:\\Users\\User\\Anaconda3\\envs\\pytorch2\\Lib\\site-packages\\HydroErr\\HydroErr.py:6248: UserWarning: Row(s) [5753 5754 5755 5756 5757 5758 5759 5760 5761 5762 5763 5764 5765 5766\n",
      " 5767 5768 5769 5770 5771 5772 5773 5774 5775 5776 5777 5778 5779 5780\n",
      " 5781 5782 5783 5784 5785 5786 5787 5788 5789 5790 5791 5792 5793 5794\n",
      " 5795 5796 5797 5798 5799 5800 5801 5802 5803 5804 5805 5806 5807 5808\n",
      " 5809 5810 5811 5812 5813 5814 5815 5816 5817 5818 5819 5820 5821 5822\n",
      " 5823 5824 5825 5826 5827 5828 5829 5830 5831 5832 5833 5834 5835 5836\n",
      " 5837 5838 5839 5840 5841 5842 5843 5844 5845 5846 5847 5848 5849 5850\n",
      " 5851 5852 5853 5854 5855 5856 5857 5858 5859 5860 5861 5862 5863 5864\n",
      " 5865 5866 5867 5868 5869 5870 5871 5872 5873 5874 5875 5876 5877 5878\n",
      " 5879 5880 5881 5882 5883 5884 5885 5886 5887 5888 5889 5890 5891 5892\n",
      " 5893 5894 5895 5896 5897 5898 5899 5900 5901 5902 5903 5904 5905 5906\n",
      " 5907 5908 5909 5910 5911 5912 5913 5914 5915 5916 5917 5918 5919 5920\n",
      " 5921 5922 5923 5924 5925 5926 5927 5928 5929 5930 5931 5932 5933 5934\n",
      " 5935 5936 5937 5938 5939 5940 5941 5942 5943 5944 5945 5946 5947 5948\n",
      " 5949 5950 5951 5952 5953 5954 5955 5956 5957 5958 5959 5960 5961 5962\n",
      " 5963 5964 5965 5966 5967 5968 5969 5970 5971 5972 5973 5974 5975 5976\n",
      " 5977 5978 5979 5980 5981 5982 5983 5984 5985 5986 5987 5988 5989 5990\n",
      " 5991 5992 5993 5994 5995 5996 5997 5998 5999 6000 6001 6002 6003 6004\n",
      " 6005 6006 6007 6008 6009 6010 6011 6012 6013 6014 6015 6016 6017 6018\n",
      " 6019 6020 6021 6022 6023 6024 6025 6026 6027 6028 6029 6030 6031 6032\n",
      " 6033 6034 6035 6036 6037 6038 6039 6040 6041 6042 6043 6044 6045 6046\n",
      " 6047 6048 6049 6050 6051 6052 6053 6054 6055 6056 6057 6058 6059 6060\n",
      " 6061 6062 6063 6064 6065 6066 6067 6068 6069 6070 6071 6072 6073 6074\n",
      " 6075 6076 6077 6078 6079 6080 6081 6082 6083 6084 6085 6086 6087 6088\n",
      " 6089 6090 6091 6092 6093 6094 6095 6096 6097 6098 6099 6100 6101 6102\n",
      " 6103 6104 6105 6106 6107 6108 6109 6110 6111 6112 6113 6114 6115 6116\n",
      " 6117 6503 6504 6505 6506 6507 6508 6509 6510 6511 6512 6513 6514 6515\n",
      " 6516 6517 6518 6519 6520 6521 6522 6523 6524 6525 6526 6527 6528 6529\n",
      " 6530 6531 6532 6533 6534 6535 6536 6537 6538 6539 6540 6541 6542 6543\n",
      " 6544 6545 6546 6547 6548 6549 6550 6551 6552 6553 6554 6555 6556 6557\n",
      " 6558 6559 6560 6561 6562 6563 6564 6565 6566 6567 6568 6569 6570 6571\n",
      " 6572 6573 6574] contained NaN values and the row(s) have been removed (Rows are zero indexed).\n",
      "  warnings.warn(\"Row(s) {} contained NaN values and the row(s) have been \"\n"
     ]
    },
    {
     "name": "stdout",
     "output_type": "stream",
     "text": [
      "fit=0.686\n",
      "i=99 starts\n"
     ]
    },
    {
     "name": "stderr",
     "output_type": "stream",
     "text": [
      "c:\\Users\\User\\Anaconda3\\envs\\pytorch2\\Lib\\site-packages\\HydroErr\\HydroErr.py:6248: UserWarning: Row(s) [  0   1   2   3   4   5   6   7   8   9  10  11  12  13  14  15  16  17\n",
      "  18  19  20  21  22  23  24  25  26  27  28  29  30  31  32  33  34  35\n",
      "  36  37  38  39  40  41  42  43  44  45  46  47  48  49  50  51  52  53\n",
      "  54  55  56  57  58  59  60  61  62  63  64  65  66  67  68  69  70  71\n",
      "  72  73  74  75  76  77  78  79  80  81  82  83  84  85  86  87  88  89\n",
      "  90  91  92  93  94  95  96  97  98  99 100 101 102 103 104 105 106 107\n",
      " 108 109 110 111 112 113 114 115 116 117 118 119 120 121 122 123 124 125\n",
      " 126 127 128 129 130 131 132 133 134 135 136 137 138 139 140 141 142 143\n",
      " 144 145 146 147 148 149 150 151 152 153 154 155 156 157 158 159 160 161\n",
      " 162 163 164 165 166 167 168 169 170 171 172 173 174 175 176 177 178 179\n",
      " 180 181 182 183 184 185 186 187 188 189 190 191 192 193 194 195 196 197\n",
      " 198 199 200 201 202 203 204 205 206 207 208 209 210 211 212 213 214 215\n",
      " 216 217 218 219 220 221 222 223 224 225 226 227 228 229 230 231 232 233\n",
      " 234 235 236 237 238 239 240 241 242 243 244 245 246 247 248 249 250 251\n",
      " 252 253 254 255 256 257 258 259 260 261 262 263 264 265 266 267 268 269\n",
      " 270 271 272 273 274 275 276 277 278 279 280 281 282 283 284 285 286 287\n",
      " 288 289 290 291 292 293 294 295 296 297 298 299 300 301 302 303 304 305\n",
      " 306 307 308 309 310 311 312 313 314 315 316 317 318 319 320 321 322 323\n",
      " 324 325 326 327 328 329 330 331 332 333 334 335 336 337 338 339 340 341\n",
      " 342 343 344 345 346 347 348 349 350 351 352 353 354 355 356 357 358 359\n",
      " 360 361 362 363 364 365 366 367 368 369 370 371 372 373 374 375 376 377\n",
      " 378 379 380 381 382 383 384 385 386 387 388 389 390 391 392 393 394 395\n",
      " 396 397 398 399 400 401 402 403 404 405 406 407 408 409 410 411 412 413\n",
      " 414 415 416 417 418 419 420 421 422 423 424 425 426 427 428 429 430 431\n",
      " 432 433 434 435 436 437 438 439 440 441 442 443 444 445 446 447 448 449\n",
      " 450 451 452 453 454 455 456 457 458 459 460 461 462 463 464 465 466 467\n",
      " 468 469 470 471 472 473 474 475 476 477 478 479 480 481 482 483 484 485\n",
      " 486 487 488 489 490 491 492 493 494 495 496 497 498 499 500 501 502 503\n",
      " 504 505 506 507 508 509 510 511 512 513 514 515 516 517 518 519 520 521\n",
      " 522 523 524 525 526 527 528 529 530 531 532 533 534 535 536 537 538 539\n",
      " 540 541 542 543 544 545 546 547 548 549 550 551 552 553 554 555 556 557\n",
      " 558 559 560 561 562 563 564 565 566 567 568 569 570 571 572 573 574 575\n",
      " 576 577 578 579 580 581 582 583 584 585 586 587 588 589 590 591 592 593\n",
      " 594 595 596 597 598 599 600 601 602 603 604 605 606 607 608 609 610 611\n",
      " 612 613 614 615 616 617 618 619 620 621 622 623 624 625 626 627 628 629\n",
      " 630 631 632 633 634 635 636 637 638 639 640 641 642 643 644 645 646 647\n",
      " 648 649 650 651 652 653 654 655 656 657 658 659 660 661 662 663 664 665\n",
      " 666 667 668 669 670 671 672 673 674 675 676 677 678 679 680 681 682 683] contained NaN values and the row(s) have been removed (Rows are zero indexed).\n",
      "  warnings.warn(\"Row(s) {} contained NaN values and the row(s) have been \"\n",
      "c:\\Users\\User\\Anaconda3\\envs\\pytorch2\\Lib\\site-packages\\HydroErr\\HydroErr.py:6248: UserWarning: Row(s) [5114 5115 5116 ... 6572 6573 6574] contained NaN values and the row(s) have been removed (Rows are zero indexed).\n",
      "  warnings.warn(\"Row(s) {} contained NaN values and the row(s) have been \"\n"
     ]
    },
    {
     "name": "stdout",
     "output_type": "stream",
     "text": [
      "fit=0.523\n",
      "i=100 starts\n",
      "fit=0.479\n",
      "i=101 starts\n",
      "fit=0.707\n",
      "i=102 starts\n"
     ]
    },
    {
     "name": "stderr",
     "output_type": "stream",
     "text": [
      "c:\\Users\\User\\Anaconda3\\envs\\pytorch2\\Lib\\site-packages\\HydroErr\\HydroErr.py:6248: UserWarning: Row(s) [   0    1    2 ... 1548 1549 1550] contained NaN values and the row(s) have been removed (Rows are zero indexed).\n",
      "  warnings.warn(\"Row(s) {} contained NaN values and the row(s) have been \"\n"
     ]
    },
    {
     "name": "stdout",
     "output_type": "stream",
     "text": [
      "fit=0.65\n",
      "i=103 starts\n"
     ]
    },
    {
     "name": "stderr",
     "output_type": "stream",
     "text": [
      "c:\\Users\\User\\Anaconda3\\envs\\pytorch2\\Lib\\site-packages\\HydroErr\\HydroErr.py:6248: UserWarning: Row(s) [  0   1   2   3   4   5   6   7   8   9  10  11  12  13  14  15  16  17\n",
      "  18  19  20  21  22  23  24  25  26  27  28  29  30  31  32  33  34  35\n",
      "  36  37  38  39  40  41  42  43  44  45  46  47  48  49  50  51  52  53\n",
      "  54  55  56  57  58  59  60  61  62  63  64  65  66  67  68  69  70  71\n",
      "  72  73  74  75  76  77  78  79  80  81  82  83  84  85  86  87  88  89\n",
      "  90  91  92  93  94  95  96  97  98  99 100 101 102 103 104 105 106 107\n",
      " 108 109 110 111 112 113 114 115 116 117 118 119 120 121 122 123 124 125\n",
      " 126 127 128 129 130 131 132 133 134 135 136 137 138 139 140 141 142 143\n",
      " 144 145 146 147 148 149 150 151 152 153 154 155 156 157 158 159 160 161\n",
      " 162 163 164 165 166 167 168 169 170 171 172 173 174 175 176 177 178 179\n",
      " 180 181 182 183 184 185 186 187 188 189 190 191 192 193 194 195 196 197\n",
      " 198 199 200 201 202 203 204 205 206 207 208 209 210 211 212 213 214 215\n",
      " 216 217 218 219 220 221 222 223 224 225 226 227 228 229 230 231 232 233\n",
      " 234 235 236 237 238 239 240 241 242 243 244 245 246 247 248 249 250 251\n",
      " 252 253 254 255 256 257 258 259 260 261 262 263 264 265 266 267 268 269\n",
      " 270 271 272 273 274 275 276 277 278 279 280 281 282 283 284 285 286 287\n",
      " 288 289 290 291 292 293 294 295 296 297 298 299 300 301 302 303 304 305\n",
      " 306 307 308 309 310 311 312 313 314 315 316 317 318 319 320 321 322 323\n",
      " 324 325 326 327 328 329 330 331 332 333 334 335 336 337 338 339 340 341\n",
      " 342 343 344 345 346 347 348 349 350 351 352 353 354 355 356 357 358 359\n",
      " 360 361 362 363 364] contained NaN values and the row(s) have been removed (Rows are zero indexed).\n",
      "  warnings.warn(\"Row(s) {} contained NaN values and the row(s) have been \"\n"
     ]
    },
    {
     "name": "stdout",
     "output_type": "stream",
     "text": [
      "fit=0.631\n",
      "i=104 starts\n",
      "fit=0.714\n",
      "i=105 starts\n",
      "fit=0.495\n",
      "i=106 starts\n"
     ]
    },
    {
     "name": "stderr",
     "output_type": "stream",
     "text": [
      "c:\\Users\\User\\Anaconda3\\envs\\pytorch2\\Lib\\site-packages\\HydroErr\\HydroErr.py:6248: UserWarning: Row(s) [5705 5706 5707 5708 5709 5710 5711 5712 5713 5714 5715 5716 5717 5718\n",
      " 5719 5720 5721 5722 5723 5724 5725 5726 5727 5728 5729 5730 5731 5732\n",
      " 5733 5734 5735 5736 5737 5738 5739 5740 5741 5742 5743 5744 5745 5746\n",
      " 5747 5748 5749 5750 5751 5752 6505 6506 6507 6508 6509 6510 6511 6512\n",
      " 6513 6514 6515 6516 6517 6518 6519 6520 6521 6522 6523 6524 6525 6526\n",
      " 6527 6528 6529 6530 6531 6532 6533 6534 6535 6536 6537 6538 6539 6540\n",
      " 6541 6542 6543 6544 6545 6546 6547 6548 6549 6550 6551 6552 6553 6554\n",
      " 6555 6556 6557 6558 6559 6560 6561 6562 6563 6564 6565 6566 6567 6568\n",
      " 6569 6570 6571 6572 6573 6574] contained NaN values and the row(s) have been removed (Rows are zero indexed).\n",
      "  warnings.warn(\"Row(s) {} contained NaN values and the row(s) have been \"\n"
     ]
    },
    {
     "name": "stdout",
     "output_type": "stream",
     "text": [
      "fit=0.447\n",
      "i=107 starts\n"
     ]
    },
    {
     "name": "stderr",
     "output_type": "stream",
     "text": [
      "c:\\Users\\User\\Anaconda3\\envs\\pytorch2\\Lib\\site-packages\\HydroErr\\HydroErr.py:6248: UserWarning: Row(s) [ 102  103  104  105  106  107  108  109  110  111  112  113  114  115\n",
      "  116  117  118  119  120  121  122  123  124  125  126  127  128  129\n",
      "  130  131  132  133  134  135  136  137  138  139  140  141  142  143\n",
      "  144  145  146  147  148  149  150  151  152  153  154  155  156  157\n",
      "  158  160  161  162  163  164  165  166  167  168  169  170  171  172\n",
      "  173  174  175  176  177  178  179  180  181  182  183  184  185  186\n",
      "  187  188  189  190  191  192  193  194  195  196  197  198  199  200\n",
      "  201  202  203  204  205  206  207  209  210  211  212  213  214  215\n",
      "  216  394  395  396  397  398  399  400  401  402  403  404  405  406\n",
      "  407  408  409  410  411  412  413  414  415  416  417  418  419  420\n",
      "  421  422  423  424  425  426  427  428  429  430  431  432  433  434\n",
      "  435  436  437  438  439  440  441  442  443  444  445  446  447  448\n",
      "  449  450  451  452  453  454  526  527  528  529  530  531  532  533\n",
      "  534  535  536  537  538  539  540  541  542  543  544  545  546  547\n",
      "  548  549  550  551  552  553  554  555  556  557  558  559  560  561\n",
      "  562  563  564  565  566  567  568  569  570  571  572  573  574  575\n",
      "  576  577  578  579  580  581  582  583  584  585  586  587  588  589\n",
      "  590  591  592  593  595  596  597  598  599  600  601  602  603  604\n",
      "  605  606  607  608  609  610  611  612  613  614  615  616  617  618\n",
      "  619  620  621  622  623  624  625  626  627  628  629  630  631  632\n",
      "  633  634  635  636  637  638  639  640  641  642  643  644  645  646\n",
      "  647  649  650  651  652  653  654  655  656  657  658  659  660  661\n",
      "  662  663  664  665  666  667  668  669  670  671  672  673  674  675\n",
      "  676  677  678  679  680  681  682  683  684  685  686  687  730  731\n",
      "  732  733  734  735  736  737  738  739  814  815  816  817  818  819\n",
      "  820  821  822  823  824  825  826  827  828  829  830  832  833  834\n",
      "  835  836  837  838  839  840  841  842  843  844  845  846  847  848\n",
      "  849  850  851  852  853  854  855  856  857  858  859  860  861  862\n",
      "  863  864  865  866  867  868  869  870  871  872  873  874  875  876\n",
      "  877  878  879  880  881  882  883  884  885  886  887  888  889  890\n",
      "  954  955  956  957  958  959  960  961  962  963  964  965  966  967\n",
      "  968  969  970  971  972  973  974  975  976  977  978  979  980  981\n",
      "  982  983  984  985  986  987  988  989  990  991  992  993  994  995\n",
      "  996  997  998  999 1000 1001 1002 1003 1004 1006 1007 1008 1009 1010\n",
      " 1011 1012 1013 1014 1015 1016 1017 1018 1019 1020 1021 1022 1023 1024\n",
      " 1025 1026 1027 1028 1029 1030 1031 1032 1033 1034 1035 1036 1037 1038\n",
      " 1039 1040 1041 1042 1043 1044 1045 1046 1047 1048 1049 1050 1051 1052\n",
      " 1053 1054 1055 1056 1057 1058 1059 1060 1061 1062 1063 1064 1065 1066\n",
      " 1067 1068 1069 1070 1071 1072 1073 1074 1076 1077 1078 1079 1080 1081\n",
      " 1082 1083 1084 1085 1086 1087 1088 1089 1090 1091 1092 1093 1094 1095\n",
      " 1115 1116 1117 1118 1119 1120 1121 1122 1123 1124 1125 1126 1127 1128\n",
      " 1129 1130 1132 1133 1134 1135 1136 1137 1138 1139 1140 1141 1142 1143\n",
      " 1144 1145 1146 1147 1148 1149 1150 1151 1152 1153 1154 1155 1156 1157\n",
      " 1158 1159 1160 1161 1162 1163 1164 1165 1166 1167 1168 1169 1170 1171\n",
      " 1172 1173 1174 1175 1176 1177 1178 1179 1180 1181 1182 1183 1184 1185\n",
      " 1186 1187 1188 1189 1190 1191 1192 1193 1195 1196 1197 1198 1199 1200\n",
      " 1201 1202 1203 1204 1205 1206 1207 1208 1209 1210 1211 1212 1213 1214\n",
      " 1215 1216 1217 1218 1219 1220 1221 1222 1223 1224 1225 1226 1227 1228\n",
      " 1229 1230 1231 1232 1233 1234 1235 1236 1237 1238 1239 1240 1241 1242\n",
      " 1243 1244 1245 1246 1247 1248 1249 1250 1251 1252 1253 1254 1255] contained NaN values and the row(s) have been removed (Rows are zero indexed).\n",
      "  warnings.warn(\"Row(s) {} contained NaN values and the row(s) have been \"\n"
     ]
    },
    {
     "name": "stdout",
     "output_type": "stream",
     "text": [
      "fit=0.489\n",
      "i=108 starts\n",
      "fit=0.648\n",
      "i=109 starts\n",
      "fit=0.668\n",
      "i=110 starts\n",
      "fit=0.302\n",
      "i=111 starts\n",
      "fit=0.393\n",
      "i=112 starts\n",
      "fit=0.497\n",
      "i=113 starts\n"
     ]
    },
    {
     "name": "stderr",
     "output_type": "stream",
     "text": [
      "c:\\Users\\User\\Anaconda3\\envs\\pytorch2\\Lib\\site-packages\\HydroErr\\HydroErr.py:6248: UserWarning: Row(s) [6491 6492 6493 6494 6495 6496 6497 6498 6499 6500 6501 6502 6503 6504\n",
      " 6505 6506 6507 6508 6509 6510 6511 6512 6513 6514 6515 6516 6517 6518\n",
      " 6519 6520 6521 6522 6523 6524 6525 6526 6527 6528 6529 6530 6531 6532\n",
      " 6533 6534 6535 6536 6537 6538 6539 6540 6541 6542 6543 6544 6545 6546\n",
      " 6547 6548 6549 6550 6551 6552 6553 6554 6555 6556 6557 6558 6559 6560\n",
      " 6561 6562 6563 6564 6565 6566 6567 6568 6569 6570 6571 6572 6573 6574] contained NaN values and the row(s) have been removed (Rows are zero indexed).\n",
      "  warnings.warn(\"Row(s) {} contained NaN values and the row(s) have been \"\n"
     ]
    },
    {
     "name": "stdout",
     "output_type": "stream",
     "text": [
      "fit=0.415\n",
      "i=114 starts\n",
      "fit=0.367\n",
      "i=115 starts\n"
     ]
    },
    {
     "name": "stderr",
     "output_type": "stream",
     "text": [
      "c:\\Users\\User\\Anaconda3\\envs\\pytorch2\\Lib\\site-packages\\HydroErr\\HydroErr.py:6248: UserWarning: Row(s) [273 274 275 276 277 278 279 280 281 282 283 284 285 286 287 288 289 290\n",
      " 291 292 293 294 295 296 297 298 299 300 301 302 303 304 305 306 307 308\n",
      " 309 310 311 312 313 314 315 316 317 318 319 320 321 322 323 324 325 326\n",
      " 327 328 329 330 331 332 333 334 335 336 337 338 339 340 341 342 343 344\n",
      " 345 346 347 348 349 350 351 352 353 354 355 356 357 358 359 360 361 362\n",
      " 363 364 365 366 367 368 369 370 371 372 373 374 375 376 377 378 379 380\n",
      " 381 382 383 384 385 386 387 388 389 390 391 392 393 394 395 396 397 398\n",
      " 399 400 401 402 403 404 405 406 407 408 409 410 411 412 413 414 415 416\n",
      " 417 418 419 420 421 422 423 424 425 426 427 428 429 430 431 432 433 434\n",
      " 435 436 437 438 439 440 441 442 443 444 445 446 447 448 449 450 451 452\n",
      " 453 454 455 456 457 458 459 460 461 462 463 464 465 466 467 468 469 470\n",
      " 471 472 473 474 475 476 477 478 479 480 481 482 483 484 485 486 487 488\n",
      " 489 490 491 492 493 494 495 496 497 498 499 500 501 502 503 504 505 506\n",
      " 507 508 509 510 511 512 513 514 515 516 517 518 519 520 521 522 523 524\n",
      " 525 526 527 528 529 530 531 532 533 534 535 536 537 538 539 540 541 542\n",
      " 543 544 545 546 547 548 549 550 551 552 553 554 555 556 557 558 559 560\n",
      " 561 562 563 564 565 566 567 568 569 570 571 572 573 574 575 576 577 578\n",
      " 579 580 581 582 583 584 585 586 587 588 589 590 591 592 593 594 595 596\n",
      " 597 598 599 600 601 602 603 604 605 606 607 608 609 610 611 612 613 614\n",
      " 615 616 617 618 619 620 621 622 623 624 625 626 627 628 629 630 631 632\n",
      " 633 634 635 636 637] contained NaN values and the row(s) have been removed (Rows are zero indexed).\n",
      "  warnings.warn(\"Row(s) {} contained NaN values and the row(s) have been \"\n"
     ]
    },
    {
     "name": "stdout",
     "output_type": "stream",
     "text": [
      "fit=0.575\n",
      "i=116 starts\n"
     ]
    },
    {
     "name": "stderr",
     "output_type": "stream",
     "text": [
      "c:\\Users\\User\\Anaconda3\\envs\\pytorch2\\Lib\\site-packages\\HydroErr\\HydroErr.py:6248: UserWarning: Row(s) [6484 6485 6486 6487 6488 6489 6490 6491 6492 6493 6494 6495 6496 6497\n",
      " 6498 6499 6500 6501 6502 6503 6504 6505 6506 6507 6508 6509 6510 6511\n",
      " 6512 6513 6514 6515 6516 6517 6518 6519 6520 6521 6522 6523 6524 6525\n",
      " 6526 6527 6528 6529 6530 6531 6532 6533 6534 6535 6536 6537 6538 6539\n",
      " 6540 6541 6542 6543 6544 6545 6546 6547 6548 6549 6550 6551 6552 6553\n",
      " 6554 6555 6556 6557 6558 6559 6560 6561 6562 6563 6564 6565 6566 6567\n",
      " 6568 6569 6570 6571 6572 6573 6574] contained NaN values and the row(s) have been removed (Rows are zero indexed).\n",
      "  warnings.warn(\"Row(s) {} contained NaN values and the row(s) have been \"\n"
     ]
    },
    {
     "name": "stdout",
     "output_type": "stream",
     "text": [
      "fit=0.426\n",
      "i=117 starts\n",
      "fit=0.572\n",
      "i=118 starts\n"
     ]
    },
    {
     "name": "stderr",
     "output_type": "stream",
     "text": [
      "c:\\Users\\User\\Anaconda3\\envs\\pytorch2\\Lib\\site-packages\\HydroErr\\HydroErr.py:6248: UserWarning: Row(s) [6488 6489 6490 6491 6492 6493 6494 6495 6496 6497 6498 6499 6500 6501\n",
      " 6502 6503 6504 6505 6506 6507 6508 6509 6510 6511 6512 6513 6514 6515\n",
      " 6516 6517 6518 6519 6520 6521 6522 6523 6524 6525 6526 6527 6528 6529\n",
      " 6530 6531 6532 6533 6534 6535 6536 6537 6538 6539 6540 6541 6542 6543\n",
      " 6544 6545 6546 6547 6548 6549 6550 6551 6552 6553 6554 6555 6556 6557\n",
      " 6558 6559 6560 6561 6562 6563 6564 6565 6566 6567 6568 6569 6570 6571\n",
      " 6572 6573 6574] contained NaN values and the row(s) have been removed (Rows are zero indexed).\n",
      "  warnings.warn(\"Row(s) {} contained NaN values and the row(s) have been \"\n"
     ]
    },
    {
     "name": "stdout",
     "output_type": "stream",
     "text": [
      "fit=0.592\n",
      "i=119 starts\n"
     ]
    },
    {
     "name": "stderr",
     "output_type": "stream",
     "text": [
      "c:\\Users\\User\\Anaconda3\\envs\\pytorch2\\Lib\\site-packages\\HydroErr\\HydroErr.py:6248: UserWarning: Row(s) [5393 5394 5395 ... 6572 6573 6574] contained NaN values and the row(s) have been removed (Rows are zero indexed).\n",
      "  warnings.warn(\"Row(s) {} contained NaN values and the row(s) have been \"\n"
     ]
    },
    {
     "name": "stdout",
     "output_type": "stream",
     "text": [
      "fit=0.58\n",
      "i=120 starts\n",
      "fit=0.629\n",
      "i=121 starts\n"
     ]
    },
    {
     "name": "stderr",
     "output_type": "stream",
     "text": [
      "c:\\Users\\User\\Anaconda3\\envs\\pytorch2\\Lib\\site-packages\\HydroErr\\HydroErr.py:6248: UserWarning: Row(s) [   0    1    2 ... 1158 1159 1160] contained NaN values and the row(s) have been removed (Rows are zero indexed).\n",
      "  warnings.warn(\"Row(s) {} contained NaN values and the row(s) have been \"\n"
     ]
    },
    {
     "name": "stdout",
     "output_type": "stream",
     "text": [
      "fit=0.71\n",
      "i=122 starts\n",
      "fit=0.039\n",
      "i=123 starts\n"
     ]
    },
    {
     "name": "stderr",
     "output_type": "stream",
     "text": [
      "c:\\Users\\User\\Anaconda3\\envs\\pytorch2\\Lib\\site-packages\\HydroErr\\HydroErr.py:6248: UserWarning: Row(s) [   0    1    2 ... 2096 2097 2098] contained NaN values and the row(s) have been removed (Rows are zero indexed).\n",
      "  warnings.warn(\"Row(s) {} contained NaN values and the row(s) have been \"\n"
     ]
    },
    {
     "name": "stdout",
     "output_type": "stream",
     "text": [
      "fit=0.528\n",
      "i=124 starts\n",
      "fit=0.609\n",
      "i=125 starts\n",
      "fit=0.691\n",
      "i=126 starts\n",
      "fit=0.594\n",
      "i=127 starts\n",
      "fit=0.683\n",
      "i=128 starts\n",
      "fit=0.452\n",
      "i=129 starts\n"
     ]
    },
    {
     "name": "stderr",
     "output_type": "stream",
     "text": [
      "c:\\Users\\User\\Anaconda3\\envs\\pytorch2\\Lib\\site-packages\\HydroErr\\HydroErr.py:6248: UserWarning: Row(s) [   0    1    2 ... 1366 1367 1368] contained NaN values and the row(s) have been removed (Rows are zero indexed).\n",
      "  warnings.warn(\"Row(s) {} contained NaN values and the row(s) have been \"\n"
     ]
    },
    {
     "name": "stdout",
     "output_type": "stream",
     "text": [
      "fit=0.53\n",
      "i=130 starts\n",
      "fit=0.584\n",
      "i=131 starts\n"
     ]
    },
    {
     "name": "stderr",
     "output_type": "stream",
     "text": [
      "c:\\Users\\User\\Anaconda3\\envs\\pytorch2\\Lib\\site-packages\\HydroErr\\HydroErr.py:6248: UserWarning: Row(s) [   0    1    2 ... 2827 2828 2829] contained NaN values and the row(s) have been removed (Rows are zero indexed).\n",
      "  warnings.warn(\"Row(s) {} contained NaN values and the row(s) have been \"\n"
     ]
    },
    {
     "name": "stdout",
     "output_type": "stream",
     "text": [
      "fit=0.657\n",
      "i=132 starts\n",
      "fit=0.653\n",
      "i=133 starts\n",
      "fit=0.725\n",
      "i=134 starts\n"
     ]
    },
    {
     "name": "stderr",
     "output_type": "stream",
     "text": [
      "c:\\Users\\User\\Anaconda3\\envs\\pytorch2\\Lib\\site-packages\\HydroErr\\HydroErr.py:6248: UserWarning: Row(s) [   0    1    2 ... 1731 1732 1733] contained NaN values and the row(s) have been removed (Rows are zero indexed).\n",
      "  warnings.warn(\"Row(s) {} contained NaN values and the row(s) have been \"\n"
     ]
    },
    {
     "name": "stdout",
     "output_type": "stream",
     "text": [
      "fit=0.695\n",
      "i=135 starts\n",
      "fit=0.622\n",
      "i=136 starts\n",
      "fit=0.649\n",
      "i=137 starts\n",
      "fit=0.57\n",
      "i=138 starts\n",
      "fit=0.588\n",
      "i=139 starts\n",
      "fit=0.763\n",
      "i=140 starts\n",
      "fit=0.691\n",
      "i=141 starts\n",
      "fit=0.68\n",
      "i=142 starts\n",
      "fit=0.724\n",
      "i=143 starts\n",
      "fit=0.82\n",
      "i=144 starts\n",
      "fit=0.785\n",
      "i=145 starts\n",
      "fit=0.841\n",
      "i=146 starts\n",
      "fit=0.805\n",
      "i=147 starts\n",
      "fit=0.804\n",
      "i=148 starts\n",
      "fit=0.752\n",
      "i=149 starts\n"
     ]
    },
    {
     "name": "stderr",
     "output_type": "stream",
     "text": [
      "c:\\Users\\User\\Anaconda3\\envs\\pytorch2\\Lib\\site-packages\\HydroErr\\HydroErr.py:6248: UserWarning: Row(s) [   0    1    2 ... 2389 2390 2391] contained NaN values and the row(s) have been removed (Rows are zero indexed).\n",
      "  warnings.warn(\"Row(s) {} contained NaN values and the row(s) have been \"\n",
      "c:\\Users\\User\\Anaconda3\\envs\\pytorch2\\Lib\\site-packages\\HydroErr\\HydroErr.py:6248: UserWarning: Row(s) [6141 6142 6143 6144 6145 6146 6147 6148 6149 6150 6151 6152 6153 6154\n",
      " 6155 6156 6157 6158 6159 6160 6161 6162 6163 6164 6165 6166 6167 6168\n",
      " 6169 6170 6171 6172 6173 6174 6175 6176 6177 6178 6179 6180 6181 6182\n",
      " 6183 6184 6185 6186 6187 6188 6189 6190 6191 6192 6193 6194 6195 6196\n",
      " 6197 6198 6199 6200 6201 6202 6203 6204 6205 6206 6207 6208 6209 6210\n",
      " 6211 6212 6213 6214 6215 6216 6217 6218 6219 6220 6221 6222 6223 6224\n",
      " 6225 6226 6227 6228 6229 6230 6231 6232 6233 6234 6235 6236 6237 6238\n",
      " 6239 6240 6241 6242 6243 6244 6245 6246 6247 6248 6249 6250 6251 6252\n",
      " 6253 6254 6255 6256 6257 6258 6259 6260 6261 6262 6263 6264 6265 6266\n",
      " 6267 6268 6269 6270 6271 6272 6273 6274 6275 6276 6277 6278 6279 6280\n",
      " 6281 6282 6283 6284 6285 6286 6287 6288 6289 6290 6291 6292 6293 6294\n",
      " 6295 6296 6297 6298 6299 6300 6301 6302 6303 6304 6305 6306 6307 6308\n",
      " 6309 6310 6311 6312 6313 6314 6315 6316 6317 6318 6319 6320 6321 6322\n",
      " 6323 6324 6325 6326 6327 6328 6329 6330 6331 6332 6333 6334 6335 6336\n",
      " 6337 6338 6339 6340 6341 6342 6343 6344 6345 6346 6347 6348 6349 6350\n",
      " 6351 6352 6353 6354 6355 6356 6357 6358 6359 6360 6361 6362 6363 6364\n",
      " 6365 6366 6367 6368 6369 6370 6371 6372 6373 6374 6375 6376 6377 6378\n",
      " 6379 6380 6381 6382 6383 6384 6385 6386 6387 6388 6389 6390 6391 6392\n",
      " 6393 6394 6395 6396 6397 6398 6399 6400 6401 6402 6403 6404 6405 6406\n",
      " 6407 6408 6409 6410 6411 6412 6413 6414 6415 6416 6417 6418 6419 6420\n",
      " 6421 6422 6423 6424 6425 6426 6427 6428 6429 6430 6431 6432 6433 6434\n",
      " 6435 6436 6437 6438 6439 6440 6441 6442 6443 6444 6445 6446 6447 6448\n",
      " 6449 6450 6451 6452 6453 6454 6455 6456 6457 6458 6459 6460 6461 6462\n",
      " 6463 6464 6465 6466 6467 6468 6469 6470 6471 6472 6473 6474 6475 6476\n",
      " 6477 6478 6479 6480 6481 6482 6483 6484 6485 6486 6487 6488 6489 6490\n",
      " 6491 6492 6493 6494 6495 6496 6497 6498 6499 6500 6501 6502 6503 6504\n",
      " 6505 6506 6507 6508 6509 6510 6511 6512 6513 6514 6515 6516 6517 6518\n",
      " 6519 6520 6521 6522 6523 6524 6525 6526 6527 6528 6529 6530 6531 6532\n",
      " 6533 6534 6535 6536 6537 6538 6539 6540 6541 6542 6543 6544 6545 6546\n",
      " 6547 6548 6549 6550 6551 6552 6553 6554 6555 6556 6557 6558 6559 6560\n",
      " 6561 6562 6563 6564 6565 6566 6567 6568 6569 6570 6571 6572 6573 6574] contained NaN values and the row(s) have been removed (Rows are zero indexed).\n",
      "  warnings.warn(\"Row(s) {} contained NaN values and the row(s) have been \"\n"
     ]
    },
    {
     "name": "stdout",
     "output_type": "stream",
     "text": [
      "fit=0.686\n",
      "i=150 starts\n"
     ]
    },
    {
     "name": "stderr",
     "output_type": "stream",
     "text": [
      "c:\\Users\\User\\Anaconda3\\envs\\pytorch2\\Lib\\site-packages\\HydroErr\\HydroErr.py:6248: UserWarning: Row(s) [3560 3561 3562 3563 3564 3565 3566 3567 3568 3569 3570 3571 3572 3573\n",
      " 3574 3575 3576 3577 3578 3579 3580 3581 3582 3583 3584 3585 3586 3587\n",
      " 3588 3589 3590 3591 3592 3593 3594 3595 3596 3597 3598 3599 3600 3601\n",
      " 3602 3603 3604 3605 3606 3607 3608 3609 3610 3611 3612 3613 3614 3615\n",
      " 3616 3617 3618 3619 3620 3621 3622 3623 3624 3625 3626 3627 3628 3629\n",
      " 3630 3631 3632 3633 3634 3635 3636 3637 3638 3639 3640 3641 3642 3643\n",
      " 3644 3645 3646 3647 3648 3649 3650 3651 3652 3653 3654 3655 3656 3657\n",
      " 3658 3659 3660 3661 3662 3663 3664 3665 3666 3667 3668 3669 3670 3671\n",
      " 3672 3673 3674 3675 3676 3677 3678 3679 3680 3681 3682 3683 3684 3685\n",
      " 3686 3687 3688 3689 3690 3691 3692 3693 3694 3695 3696 3697 3698 3699\n",
      " 3700 3701 3702 3703 3704 3705 3706 3707 3708 3709 3710 3711 3712 3713\n",
      " 3714 3715 3716 3717 3718 3719 3720 3721 3722 3723 3724 3725 3726 3727\n",
      " 3728 3729 3730 3731 3732 3733 3734 3735 3736 3737 3738 3739 3740 3741\n",
      " 3742 3743 3744 3745 3746 3747 3748 3749 3750 3751 3752 3753 3754 3755\n",
      " 3756 3757 3758 3759 3760 3761 3762 3763 3764 3765 3766 3767 3768 3769\n",
      " 3770 3771 3772 3773 3774 3775 3776 3777 3778 3779 3780 3781 3782 3783\n",
      " 3784 3785 3786 3787 3788 3789 3790 3791 3792 3793 3794 3795 3796 3797\n",
      " 3798 3799 3800 3801 3802 3803 3804 3805 3806 3807 3808 3809 3810 3811\n",
      " 3812 3813 3814 3815 3816 3817 3818 3819 3820 3821 3822 3823 3824 3825\n",
      " 3826 3827 3828 3829 3830 3831 3832 3833 3834 3835 3836 3837 3838 3839\n",
      " 3840 3841 3842 3843 3844 3845 3846 3847 3848 3849 3850 3851 3852 3853\n",
      " 3854 3855 3856 3857 3858 3859 3860 3861 3862 3863 3864 3865 3866 3867\n",
      " 3868 3869 3870 3871 3872 3873 3874 3875 3876 3877 3878 3879 3880 3881\n",
      " 3882 3883 3884 3885 3886 3887 3888 3889 3890 3891 3892 3893 3894 3895\n",
      " 3896 3897 3898 3899 3900 3901 3902 3903 3904 3905 3906 3907 3908 3909\n",
      " 3910 3911 3912 3913 3914 3915 3916 3917 3918 3919 3920 3921 3922 3923\n",
      " 3924 3925] contained NaN values and the row(s) have been removed (Rows are zero indexed).\n",
      "  warnings.warn(\"Row(s) {} contained NaN values and the row(s) have been \"\n",
      "c:\\Users\\User\\Anaconda3\\envs\\pytorch2\\Lib\\site-packages\\HydroErr\\HydroErr.py:6248: UserWarning: Row(s) [6196 6197 6198 6199 6200 6201 6202 6203 6204 6205 6206 6207 6208 6209\n",
      " 6210 6211 6212 6213 6214 6215 6216 6217 6218 6219 6220 6221 6222 6223\n",
      " 6224 6225 6226 6227 6228 6229 6230 6231 6232 6233 6234 6235 6236 6237\n",
      " 6238 6239 6240 6241 6242 6243 6244 6245 6246 6247 6248 6249 6250 6251\n",
      " 6252 6253 6254 6255 6256 6257 6258 6259 6260 6261 6262 6263 6264 6265\n",
      " 6266 6267 6268 6269 6270 6271 6272 6273 6274 6275 6276 6277 6278 6279\n",
      " 6280 6281 6282 6283 6284 6285 6286 6287 6288 6289 6290 6291 6292 6293\n",
      " 6294 6295 6296 6297 6298 6299 6300 6301 6302 6303 6304 6305 6306 6307\n",
      " 6308 6309 6310 6311 6312 6313 6314 6315 6316 6317 6318 6319 6320 6321\n",
      " 6322 6323 6324 6325 6326 6327 6328 6329 6330 6331 6332 6333 6334 6335\n",
      " 6336 6337 6338 6339 6340 6341 6342 6343 6344 6345 6346 6347 6348 6349\n",
      " 6350 6351 6352 6353 6354 6355 6356 6357 6358 6359 6360 6361 6362 6363\n",
      " 6364 6365 6366 6367 6368 6369 6370 6371 6372 6373 6374 6375 6376 6377\n",
      " 6378 6379 6380 6381 6382 6383 6384 6385 6386 6387 6388 6389 6390 6391\n",
      " 6392 6393 6394 6395 6396 6397 6398 6399 6400 6401 6402 6403 6404 6405\n",
      " 6406 6407 6408 6409 6410 6411 6412 6413 6414 6415 6416 6417 6418 6419\n",
      " 6420 6421 6422 6423 6424 6425 6426 6427 6428 6429 6430 6431 6432 6433\n",
      " 6434 6435 6436 6437 6438 6439 6440 6441 6442 6443 6444 6445 6446 6447\n",
      " 6448 6449 6450 6451 6452 6453 6454 6455 6456 6457 6458 6459 6460 6461\n",
      " 6462 6463 6464 6465 6466 6467 6468 6469 6470 6471 6472 6473 6474 6475\n",
      " 6476 6477 6478 6479 6480 6481 6482 6483 6484 6485 6486 6487 6488 6489\n",
      " 6490 6491 6492 6493 6494 6495 6496 6497 6498 6499 6500 6501 6502 6503\n",
      " 6504 6505 6506 6507 6508 6509 6510 6511 6512 6513 6514 6515 6516 6517\n",
      " 6518 6519 6520 6521 6522 6523 6524 6525 6526 6527 6528 6529 6530 6531\n",
      " 6532 6533 6534 6535 6536 6537 6538 6539 6540 6541 6542 6543 6544 6545\n",
      " 6546 6547 6548 6549 6550 6551 6552 6553 6554 6555 6556 6557 6558 6559\n",
      " 6560 6561 6562 6563 6564 6565 6566 6567 6568 6569 6570 6571 6572 6573\n",
      " 6574] contained NaN values and the row(s) have been removed (Rows are zero indexed).\n",
      "  warnings.warn(\"Row(s) {} contained NaN values and the row(s) have been \"\n"
     ]
    },
    {
     "name": "stdout",
     "output_type": "stream",
     "text": [
      "fit=0.746\n",
      "i=151 starts\n"
     ]
    },
    {
     "name": "stderr",
     "output_type": "stream",
     "text": [
      "c:\\Users\\User\\Anaconda3\\envs\\pytorch2\\Lib\\site-packages\\HydroErr\\HydroErr.py:6248: UserWarning: Row(s) [6155 6156 6157 6158 6159 6160 6161 6162 6163 6164 6165 6166 6167 6168\n",
      " 6169 6170 6171 6172 6173 6174 6175 6176 6177 6178 6179 6180 6181 6182\n",
      " 6183 6184 6185 6186 6187 6188 6189 6190 6191 6192 6193 6194 6195 6196\n",
      " 6197 6198 6199 6200 6201 6202 6203 6204 6205 6206 6207 6208 6209 6210\n",
      " 6211 6212 6213 6214 6215 6216 6217 6218 6219 6220 6221 6222 6223 6224\n",
      " 6225 6226 6227 6228 6229 6230 6231 6232 6233 6234 6235 6236 6237 6238\n",
      " 6239 6240 6241 6242 6243 6244 6245 6246 6247 6248 6249 6250 6251 6252\n",
      " 6253 6254 6255 6256 6257 6258 6259 6260 6261 6262 6263 6264 6265 6266\n",
      " 6267 6268 6269 6270 6271 6272 6273 6274 6275 6276 6277 6278 6279 6280\n",
      " 6281 6282 6283 6284 6285 6286 6287 6288 6289 6290 6291 6292 6293 6294\n",
      " 6295 6296 6297 6298 6299 6300 6301 6302 6303 6304 6305 6306 6307 6308\n",
      " 6309 6310 6311 6312 6313 6314 6315 6316 6317 6318 6319 6320 6321 6322\n",
      " 6323 6324 6325 6326 6327 6328 6329 6330 6331 6332 6333 6334 6335 6336\n",
      " 6337 6338 6339 6340 6341 6342 6343 6344 6345 6346 6347 6348 6349 6350\n",
      " 6351 6352 6353 6354 6355 6356 6357 6358 6359 6360 6361 6362 6363 6364\n",
      " 6365 6366 6367 6368 6369 6370 6371 6372 6373 6374 6375 6376 6377 6378\n",
      " 6379 6380 6381 6382 6383 6384 6385 6386 6387 6388 6389 6390 6391 6392\n",
      " 6393 6394 6395 6396 6397 6398 6399 6400 6401 6402 6403 6404 6405 6406\n",
      " 6407 6408 6409 6410 6411 6412 6413 6414 6415 6416 6417 6418 6419 6420\n",
      " 6421 6422 6423 6424 6425 6426 6427 6428 6429 6430 6431 6432 6433 6434\n",
      " 6435 6436 6437 6438 6439 6440 6441 6442 6443 6444 6445 6446 6447 6448\n",
      " 6449 6450 6451 6452 6453 6454 6455 6456 6457 6458 6459 6460 6461 6462\n",
      " 6463 6464 6465 6466 6467 6468 6469 6470 6471 6472 6473 6474 6475 6476\n",
      " 6477 6478 6479 6480 6481 6482 6483 6484 6485 6486 6487 6488 6489 6490\n",
      " 6491 6492 6493 6494 6495 6496 6497 6498 6499 6500 6501 6502 6503 6504\n",
      " 6505 6506 6507 6508 6509 6510 6511 6512 6513 6514 6515 6516 6517 6518\n",
      " 6519 6520 6521 6522 6523 6524 6525 6526 6527 6528 6529 6530 6531 6532\n",
      " 6533 6534 6535 6536 6537 6538 6539 6540 6541 6542 6543 6544 6545 6546\n",
      " 6547 6548 6549 6550 6551 6552 6553 6554 6555 6556 6557 6558 6559 6560\n",
      " 6561 6562 6563 6564 6565 6566 6567 6568 6569 6570 6571 6572 6573 6574] contained NaN values and the row(s) have been removed (Rows are zero indexed).\n",
      "  warnings.warn(\"Row(s) {} contained NaN values and the row(s) have been \"\n"
     ]
    },
    {
     "name": "stdout",
     "output_type": "stream",
     "text": [
      "fit=0.76\n",
      "i=152 starts\n"
     ]
    },
    {
     "name": "stderr",
     "output_type": "stream",
     "text": [
      "c:\\Users\\User\\Anaconda3\\envs\\pytorch2\\Lib\\site-packages\\HydroErr\\HydroErr.py:6248: UserWarning: Row(s) [6198 6199 6200 6201 6202 6203 6204 6205 6206 6207 6208 6209 6210 6211\n",
      " 6212 6213 6214 6215 6216 6217 6218 6219 6220 6221 6222 6223 6224 6225\n",
      " 6226 6227 6228 6229 6230 6231 6232 6233 6234 6235 6236 6237 6238 6239\n",
      " 6240 6241 6242 6243 6244 6245 6246 6247 6248 6249 6250 6251 6252 6253\n",
      " 6254 6255 6256 6257 6258 6259 6260 6261 6262 6263 6264 6265 6266 6267\n",
      " 6268 6269 6270 6271 6272 6273 6274 6275 6276 6277 6278 6279 6280 6281\n",
      " 6282 6283 6284 6285 6286 6287 6288 6289 6290 6291 6292 6293 6294 6295\n",
      " 6296 6297 6298 6299 6300 6301 6302 6303 6304 6305 6306 6307 6308 6309\n",
      " 6310 6311 6312 6313 6314 6315 6316 6317 6318 6319 6320 6321 6322 6323\n",
      " 6324 6325 6326 6327 6328 6329 6330 6331 6332 6333 6334 6335 6336 6337\n",
      " 6338 6339 6340 6341 6342 6343 6344 6345 6346 6347 6348 6349 6350 6351\n",
      " 6352 6353 6354 6355 6356 6357 6358 6359 6360 6361 6362 6363 6364 6365\n",
      " 6366 6367 6368 6369 6370 6371 6372 6373 6374 6375 6376 6377 6378 6379\n",
      " 6380 6381 6382 6383 6384 6385 6386 6387 6388 6389 6390 6391 6392 6393\n",
      " 6394 6395 6396 6397 6398 6399 6400 6401 6402 6403 6404 6405 6406 6407\n",
      " 6408 6409 6410 6411 6412 6413 6414 6415 6416 6417 6418 6419 6420 6421\n",
      " 6422 6423 6424 6425 6426 6427 6428 6429 6430 6431 6432 6433 6434 6435\n",
      " 6436 6437 6438 6439 6440 6441 6442 6443 6444 6445 6446 6447 6448 6449\n",
      " 6450 6451 6452 6453 6454 6455 6456 6457 6458 6459 6460 6461 6462 6463\n",
      " 6464 6465 6466 6467 6468 6469 6470 6471 6472 6473 6474 6475 6476 6477\n",
      " 6478 6479 6480 6481 6482 6483 6484 6485 6486 6487 6488 6489 6490 6491\n",
      " 6492 6493 6494 6495 6496 6497 6498 6499 6500 6501 6502 6503 6504 6505\n",
      " 6506 6507 6508 6509 6510 6511 6512 6513 6514 6515 6516 6517 6518 6519\n",
      " 6520 6521 6522 6523 6524 6525 6526 6527 6528 6529 6530 6531 6532 6533\n",
      " 6534 6535 6536 6537 6538 6539 6540 6541 6542 6543 6544 6545 6546 6547\n",
      " 6548 6549 6550 6551 6552 6553 6554 6555 6556 6557 6558 6559 6560 6561\n",
      " 6562 6563 6564 6565 6566 6567 6568 6569 6570 6571 6572 6573 6574] contained NaN values and the row(s) have been removed (Rows are zero indexed).\n",
      "  warnings.warn(\"Row(s) {} contained NaN values and the row(s) have been \"\n"
     ]
    },
    {
     "name": "stdout",
     "output_type": "stream",
     "text": [
      "fit=0.717\n",
      "i=153 starts\n",
      "fit=0.801\n",
      "i=154 starts\n",
      "fit=0.708\n",
      "i=155 starts\n",
      "fit=0.659\n",
      "i=156 starts\n"
     ]
    },
    {
     "name": "stderr",
     "output_type": "stream",
     "text": [
      "c:\\Users\\User\\Anaconda3\\envs\\pytorch2\\Lib\\site-packages\\HydroErr\\HydroErr.py:6248: UserWarning: Row(s) [1021] contained NaN values and the row(s) have been removed (Rows are zero indexed).\n",
      "  warnings.warn(\"Row(s) {} contained NaN values and the row(s) have been \"\n",
      "c:\\Users\\User\\Anaconda3\\envs\\pytorch2\\Lib\\site-packages\\HydroErr\\HydroErr.py:6248: UserWarning: Row(s) [6555 6556 6557 6558 6559 6560 6561 6562 6563 6564 6565 6566 6567 6568\n",
      " 6569 6570 6571 6572 6573 6574] contained NaN values and the row(s) have been removed (Rows are zero indexed).\n",
      "  warnings.warn(\"Row(s) {} contained NaN values and the row(s) have been \"\n"
     ]
    },
    {
     "name": "stdout",
     "output_type": "stream",
     "text": [
      "fit=0.641\n",
      "i=157 starts\n"
     ]
    },
    {
     "name": "stderr",
     "output_type": "stream",
     "text": [
      "c:\\Users\\User\\Anaconda3\\envs\\pytorch2\\Lib\\site-packages\\HydroErr\\HydroErr.py:6248: UserWarning: Row(s) [1915] contained NaN values and the row(s) have been removed (Rows are zero indexed).\n",
      "  warnings.warn(\"Row(s) {} contained NaN values and the row(s) have been \"\n"
     ]
    },
    {
     "name": "stdout",
     "output_type": "stream",
     "text": [
      "fit=0.587\n",
      "i=158 starts\n",
      "fit=0.615\n",
      "i=159 starts\n",
      "fit=0.617\n",
      "i=160 starts\n",
      "fit=0.626\n",
      "i=161 starts\n"
     ]
    },
    {
     "name": "stderr",
     "output_type": "stream",
     "text": [
      "c:\\Users\\User\\Anaconda3\\envs\\pytorch2\\Lib\\site-packages\\HydroErr\\HydroErr.py:6248: UserWarning: Row(s) [6131 6132 6133 6134 6135 6136 6137 6138 6139 6140 6141 6142 6143 6144\n",
      " 6145 6146 6147 6148 6149 6150 6151 6152 6153 6154 6155 6156 6157 6158\n",
      " 6159 6160 6161 6162 6163 6164 6165 6166 6167 6168 6169 6170 6171 6172\n",
      " 6173 6174 6175 6176 6177 6178 6179 6180 6181 6182 6183 6184 6185 6186\n",
      " 6187 6188 6189 6190 6191 6192 6193 6194 6195 6196 6197 6198 6199 6200\n",
      " 6201 6202 6203 6204 6205 6206 6207 6208 6209 6210 6211 6212 6213 6214\n",
      " 6215 6216 6217 6218 6219 6220 6221 6222 6223 6224 6225 6226 6227 6228\n",
      " 6229 6230 6231 6232 6233 6234 6235 6236 6237 6238 6239 6240 6241 6242\n",
      " 6243 6244 6245 6246 6247 6248 6249 6250 6251 6252 6253 6254 6255 6256\n",
      " 6257 6258 6259 6260 6261 6262 6263 6264 6265 6266 6267 6268 6269 6270\n",
      " 6271 6272 6273 6274 6275 6276 6277 6278 6279 6280 6281 6282 6283 6284\n",
      " 6285 6286 6287 6288 6289 6290 6291 6292 6293 6294 6295 6296 6297 6298\n",
      " 6299 6300 6301 6302 6303 6304 6305 6306 6307 6308 6309 6310 6311 6312\n",
      " 6313 6314 6315 6316 6317 6318 6319 6320 6321 6322 6323 6324 6325 6326\n",
      " 6327 6328 6329 6330 6331 6332 6333 6334 6335 6336 6337 6338 6339 6340\n",
      " 6341 6342 6343 6344 6345 6346 6347 6348 6349 6350 6351 6352 6353 6354\n",
      " 6355 6356 6357 6358 6359 6360 6361 6362 6363 6364 6365 6366 6367 6368\n",
      " 6369 6370 6371 6372 6373 6374 6375 6376 6377 6378 6379 6380 6381 6382\n",
      " 6383 6384 6385 6386 6387 6388 6389 6390 6391 6392 6393 6394 6395 6396\n",
      " 6397 6398 6399 6400 6401 6402 6403 6404 6405 6406 6407 6408 6409 6410\n",
      " 6411 6412 6413 6414 6415 6416 6417 6418 6419 6420 6421 6422 6423 6424\n",
      " 6425 6426 6427 6428 6429 6430 6431 6432 6433 6434 6435 6436 6437 6438\n",
      " 6439 6440 6441 6442 6443 6444 6445 6446 6447 6448 6449 6450 6451 6452\n",
      " 6453 6454 6455 6456 6457 6458 6459 6460 6461 6462 6463 6464 6465 6466\n",
      " 6467 6468 6469 6470 6471 6472 6473 6474 6475 6476 6477 6478 6479 6480\n",
      " 6481 6482 6483 6484 6485 6486 6487 6488 6489 6490 6491 6492 6493 6494\n",
      " 6495 6496 6497 6498 6499 6500 6501 6502 6503 6504 6505 6506 6507 6508\n",
      " 6509 6510 6511 6512 6513 6514 6515 6516 6517 6518 6519 6520 6521 6522\n",
      " 6523 6524 6525 6526 6527 6528 6529 6530 6531 6532 6533 6534 6535 6536\n",
      " 6537 6538 6539 6540 6541 6542 6543 6544 6545 6546 6547 6548 6549 6550\n",
      " 6551 6552 6553 6554 6555 6556 6557 6558 6559 6560 6561 6562 6563 6564\n",
      " 6565 6566 6567 6568 6569 6570 6571 6572 6573 6574] contained NaN values and the row(s) have been removed (Rows are zero indexed).\n",
      "  warnings.warn(\"Row(s) {} contained NaN values and the row(s) have been \"\n"
     ]
    },
    {
     "name": "stdout",
     "output_type": "stream",
     "text": [
      "fit=0.767\n",
      "i=162 starts\n"
     ]
    },
    {
     "name": "stderr",
     "output_type": "stream",
     "text": [
      "c:\\Users\\User\\Anaconda3\\envs\\pytorch2\\Lib\\site-packages\\HydroErr\\HydroErr.py:6248: UserWarning: Row(s) [6152 6153 6154 6155 6156 6157 6158 6159 6160 6161 6162 6163 6164 6165\n",
      " 6166 6167 6168 6169 6170 6171 6172 6173 6174 6175 6176 6177 6178 6179\n",
      " 6180 6181 6182 6183 6184 6185 6186 6187 6188 6189 6190 6191 6192 6193\n",
      " 6194 6195 6196 6197 6198 6199 6200 6201 6202 6203 6204 6205 6206 6207\n",
      " 6208 6209 6210 6211 6212 6213 6214 6215 6216 6217 6218 6219 6220 6221\n",
      " 6222 6223 6224 6225 6226 6227 6228 6229 6230 6231 6232 6233 6234 6235\n",
      " 6236 6237 6238 6239 6240 6241 6242 6243 6244 6245 6246 6247 6248 6249\n",
      " 6250 6251 6252 6253 6254 6255 6256 6257 6258 6259 6260 6261 6262 6263\n",
      " 6264 6265 6266 6267 6268 6269 6270 6271 6272 6273 6274 6275 6276 6277\n",
      " 6278 6279 6280 6281 6282 6283 6284 6285 6286 6287 6288 6289 6290 6291\n",
      " 6292 6293 6294 6295 6296 6297 6298 6299 6300 6301 6302 6303 6304 6305\n",
      " 6306 6307 6308 6309 6310 6311 6312 6313 6314 6315 6316 6317 6318 6319\n",
      " 6320 6321 6322 6323 6324 6325 6326 6327 6328 6329 6330 6331 6332 6333\n",
      " 6334 6335 6336 6337 6338 6339 6340 6341 6342 6343 6344 6345 6346 6347\n",
      " 6348 6349 6350 6351 6352 6353 6354 6355 6356 6357 6358 6359 6360 6361\n",
      " 6362 6363 6364 6365 6366 6367 6368 6369 6370 6371 6372 6373 6374 6375\n",
      " 6376 6377 6378 6379 6380 6381 6382 6383 6384 6385 6386 6387 6388 6389\n",
      " 6390 6391 6392 6393 6394 6395 6396 6397 6398 6399 6400 6401 6402 6403\n",
      " 6404 6405 6406 6407 6408 6409 6410 6411 6412 6413 6414 6415 6416 6417\n",
      " 6418 6419 6420 6421 6422 6423 6424 6425 6426 6427 6428 6429 6430 6431\n",
      " 6432 6433 6434 6435 6436 6437 6438 6439 6440 6441 6442 6443 6444 6445\n",
      " 6446 6447 6448 6449 6450 6451 6452 6453 6454 6455 6456 6457 6458 6459\n",
      " 6460 6461 6462 6463 6464 6465 6466 6467 6468 6469 6470 6471 6472 6473\n",
      " 6474 6475 6476 6477 6478 6479 6480 6481 6482 6483 6484 6485 6486 6487\n",
      " 6488 6489 6490 6491 6492 6493 6494 6495 6496 6497 6498 6499 6500 6501\n",
      " 6502 6503 6504 6505 6506 6507 6508 6509 6510 6511 6512 6513 6514 6515\n",
      " 6516 6517 6518 6519 6520 6521 6522 6523 6524 6525 6526 6527 6528 6529\n",
      " 6530 6531 6532 6533 6534 6535 6536 6537 6538 6539 6540 6541 6542 6543\n",
      " 6544 6545 6546 6547 6548 6549 6550 6551 6552 6553 6554 6555 6556 6557\n",
      " 6558 6559 6560 6561 6562 6563 6564 6565 6566 6567 6568 6569 6570 6571\n",
      " 6572 6573 6574] contained NaN values and the row(s) have been removed (Rows are zero indexed).\n",
      "  warnings.warn(\"Row(s) {} contained NaN values and the row(s) have been \"\n"
     ]
    },
    {
     "name": "stdout",
     "output_type": "stream",
     "text": [
      "fit=0.746\n",
      "i=163 starts\n",
      "fit=0.658\n",
      "i=164 starts\n"
     ]
    },
    {
     "name": "stderr",
     "output_type": "stream",
     "text": [
      "c:\\Users\\User\\Anaconda3\\envs\\pytorch2\\Lib\\site-packages\\HydroErr\\HydroErr.py:6248: UserWarning: Row(s) [273 274 275 276 277 278 279 280 281 282 283 284 285 286 287 288 289 290\n",
      " 291 292 293 294 295 296 297 298 299 300 301 302 303 304 305 306 307 308\n",
      " 309 310 311 312 313 314 315 316 317 318 319 320 321 322 323 324 325 326\n",
      " 327 328 329 330 331 332 333 334 335 336 337 338 339 340 341 342 343 344\n",
      " 345 346 347 348 349 350 351 352 353 354 355 356 357 358 359 360 361 362\n",
      " 363 364 365 366 367 368 369 370 371 372 373 374 375 376 377 378 379 380\n",
      " 381 382 383 384 385 386 387 388 389 390 391 392 393 394 395 396 397 398\n",
      " 399 400 401 402 403 404 405 406 407 408 409 410 411 412 413 414 415 416\n",
      " 417 418 419 420 421 422 423 424 425 426 427 428 429 430 431 432 433 434\n",
      " 435 436 437 438 439 440 441 442 443 444 445 446 447 448 449 450 451 452\n",
      " 453 454 455 456 457 458 459 460 461 462 463 464 465 466 467 468 469 470\n",
      " 471 472 473 474 475 476 477 478 479 480 481 482 483 484 485 486 487 488\n",
      " 489 490 491 492 493 494 495 496 497 498 499 500 501 502 503 504 505 506\n",
      " 507 508 509 510 511 512 513 514 515 516 517 518 519 520 521 522 523 524\n",
      " 525 526 527 528 529 530 531 532 533 534 535 536 537 538 539 540 541 542\n",
      " 543 544 545 546 547 548 549 550 551 552 553 554 555 556 557 558 559 560\n",
      " 561 562 563 564 565 566 567 568 569 570 571 572 573 574 575 576 577 578\n",
      " 579 580 581 582 583 584 585 586 587 588 589 590 591 592 593 594 595 596\n",
      " 597 598 599 600 601 602 603 604 605 606 607 608 609 610 611 612 613 614\n",
      " 615 616 617 618 619 620 621 622 623 624 625 626 627 628 629 630 631 632\n",
      " 633 634 635 636 637 638 639 640 641 642 643 644 645 646 647 648 649 650\n",
      " 651 652 653 654 655 656 657 658 659 660 661 662 663 664 665 666 667 668\n",
      " 669 670 671 672 673 674 675 676 677 678 679 680 681 682 683 684 685 686\n",
      " 687 688 689 690 691 692 693 694 695 696 697 698 699 700 701 702 703 704\n",
      " 705 706 707 708 709 710 711 712 713 714 715 716 717 718 719 720 721 722\n",
      " 723 724 725 726 727 728 729 730 731 732 733 734 735 736 737 738 739 740\n",
      " 741 742 743 744 745 746 747 748 749 750 751 752 753 754 755 756 757 758\n",
      " 759 760 761 762 763 764 765 766 767 768 769 770 771 772 773 774 775 776\n",
      " 777 778 779 780 781 782 783 784 785 786 787 788 789] contained NaN values and the row(s) have been removed (Rows are zero indexed).\n",
      "  warnings.warn(\"Row(s) {} contained NaN values and the row(s) have been \"\n"
     ]
    },
    {
     "name": "stdout",
     "output_type": "stream",
     "text": [
      "fit=0.759\n",
      "i=165 starts\n"
     ]
    },
    {
     "name": "stderr",
     "output_type": "stream",
     "text": [
      "c:\\Users\\User\\Anaconda3\\envs\\pytorch2\\Lib\\site-packages\\HydroErr\\HydroErr.py:6248: UserWarning: Row(s) [6516 6517 6518 6519 6520 6521 6522 6523 6524 6525 6526 6527 6528 6529\n",
      " 6530 6531 6532 6533 6534 6535 6536 6537 6538 6539 6540 6541 6542 6543\n",
      " 6544 6545 6546 6547 6548 6549 6550 6551 6552 6553 6554 6555 6556 6557\n",
      " 6558 6559 6560 6561 6562 6563 6564 6565 6566 6567 6568 6569 6570 6571\n",
      " 6572 6573 6574] contained NaN values and the row(s) have been removed (Rows are zero indexed).\n",
      "  warnings.warn(\"Row(s) {} contained NaN values and the row(s) have been \"\n"
     ]
    },
    {
     "name": "stdout",
     "output_type": "stream",
     "text": [
      "fit=0.593\n",
      "i=166 starts\n"
     ]
    },
    {
     "name": "stderr",
     "output_type": "stream",
     "text": [
      "c:\\Users\\User\\Anaconda3\\envs\\pytorch2\\Lib\\site-packages\\HydroErr\\HydroErr.py:6248: UserWarning: Row(s) [5495 5496 5497 ... 6572 6573 6574] contained NaN values and the row(s) have been removed (Rows are zero indexed).\n",
      "  warnings.warn(\"Row(s) {} contained NaN values and the row(s) have been \"\n"
     ]
    },
    {
     "name": "stdout",
     "output_type": "stream",
     "text": [
      "fit=0.673\n",
      "i=167 starts\n",
      "fit=0.697\n",
      "i=168 starts\n",
      "fit=0.693\n",
      "i=169 starts\n"
     ]
    },
    {
     "name": "stderr",
     "output_type": "stream",
     "text": [
      "c:\\Users\\User\\Anaconda3\\envs\\pytorch2\\Lib\\site-packages\\HydroErr\\HydroErr.py:6248: UserWarning: Row(s) [1370 1371 1372 ... 6572 6573 6574] contained NaN values and the row(s) have been removed (Rows are zero indexed).\n",
      "  warnings.warn(\"Row(s) {} contained NaN values and the row(s) have been \"\n"
     ]
    },
    {
     "name": "stdout",
     "output_type": "stream",
     "text": [
      "fit=0.675\n",
      "i=170 starts\n",
      "fit=0.761\n",
      "i=171 starts\n",
      "fit=0.658\n",
      "i=172 starts\n"
     ]
    },
    {
     "name": "stderr",
     "output_type": "stream",
     "text": [
      "c:\\Users\\User\\Anaconda3\\envs\\pytorch2\\Lib\\site-packages\\HydroErr\\HydroErr.py:6248: UserWarning: Row(s) [4871 4872 4873 4874 4875 4876 4877 4878 4879 4880 4881 4882 4883 4884\n",
      " 4885 4886 4887 4888 4889 4890 4891 4892 4893 4894 4895 4896 4897 4898\n",
      " 4899 4900 4901 4902 4903 4904 4905 4906 4907 4908 4909 4910 4911 4912\n",
      " 4913 4914 4915 4916 4917 4918 4919 4920 4921 4922 4923 4924 4925 4926\n",
      " 4927 4928 4929 4930 4931 4932 4933 4934 4935 4936 4937 4938 4939 4940\n",
      " 4941 4942 4943 4944 4945 4946 4947 4948 4949 4950 4951 4952 4953 4954\n",
      " 4955 4956 4957 4958 4959 4960 4961 4962 4963 4964 4965 4966 4967 4968\n",
      " 4969 4970 4971 4972 4973 4974 4975 4976 4977 4978 4979 4980 4981 4982\n",
      " 4983 4984 4985 4986 4987 4988 4989 4990 4991 4992 4993 4994 4995 4996\n",
      " 4997 4998 4999 5000 5001 5002 5003 5004 5005 5006 5007 5008 5009 5010\n",
      " 5011 5012 5013 5014 5015 5016 5017 5018 5019 5020 5021] contained NaN values and the row(s) have been removed (Rows are zero indexed).\n",
      "  warnings.warn(\"Row(s) {} contained NaN values and the row(s) have been \"\n"
     ]
    },
    {
     "name": "stdout",
     "output_type": "stream",
     "text": [
      "fit=0.606\n",
      "i=173 starts\n"
     ]
    },
    {
     "name": "stderr",
     "output_type": "stream",
     "text": [
      "c:\\Users\\User\\Anaconda3\\envs\\pytorch2\\Lib\\site-packages\\HydroErr\\HydroErr.py:6248: UserWarning: Row(s) [   0    1    2 ... 2462 2463 2464] contained NaN values and the row(s) have been removed (Rows are zero indexed).\n",
      "  warnings.warn(\"Row(s) {} contained NaN values and the row(s) have been \"\n"
     ]
    },
    {
     "name": "stdout",
     "output_type": "stream",
     "text": [
      "fit=0.536\n",
      "i=174 starts\n"
     ]
    },
    {
     "name": "stderr",
     "output_type": "stream",
     "text": [
      "c:\\Users\\User\\Anaconda3\\envs\\pytorch2\\Lib\\site-packages\\HydroErr\\HydroErr.py:6248: UserWarning: Row(s) [6167 6168 6169 6170 6171 6172 6173 6174 6175 6176 6177 6178 6179 6180\n",
      " 6181 6182 6183 6184 6185 6186 6187 6188 6189 6190 6191 6192 6193 6194\n",
      " 6195 6196 6197 6198 6199 6200 6201 6202 6203 6204 6205 6206 6207 6208\n",
      " 6209 6210 6211 6212 6213 6214 6215 6216 6217 6218 6219 6220 6221 6222\n",
      " 6223 6224 6225 6226 6227 6228 6229 6230 6231 6232 6233 6234 6235 6236\n",
      " 6237 6238 6239 6240 6241 6242 6243 6244 6245 6246 6247 6248 6249 6250\n",
      " 6251 6252 6253 6254 6255 6256 6257 6258 6259 6260 6261 6262 6263 6264\n",
      " 6265 6266 6267 6268 6269 6270 6271 6272 6273 6274 6275 6276 6277 6278\n",
      " 6279 6280 6281 6282 6283 6284 6285 6286 6287 6288 6289 6290 6291 6292\n",
      " 6293 6294 6295 6296 6297 6298 6299 6300 6301 6302 6303 6304 6305 6306\n",
      " 6307 6308 6309 6310 6311 6312 6313 6314 6315 6316 6317 6318 6319 6320\n",
      " 6321 6322 6323 6324 6325 6326 6327 6328 6329 6330 6331 6332 6333 6334\n",
      " 6335 6336 6337 6338 6339 6340 6341 6342 6343 6344 6345 6346 6347 6348\n",
      " 6349 6350 6351 6352 6353 6354 6355 6356 6357 6358 6359 6360 6361 6362\n",
      " 6363 6364 6365 6366 6367 6368 6369 6370 6371 6372 6373 6374 6375 6376\n",
      " 6377 6378 6379 6380 6381 6382 6383 6384 6385 6386 6387 6388 6389 6390\n",
      " 6391 6392 6393 6394 6395 6396 6397 6398 6399 6400 6401 6402 6403 6404\n",
      " 6405 6406 6407 6408 6409 6410 6411 6412 6413 6414 6415 6416 6417 6418\n",
      " 6419 6420 6421 6422 6423 6424 6425 6426 6427 6428 6429 6430 6431 6432\n",
      " 6433 6434 6435 6436 6437 6438 6439 6440 6441 6442 6443 6444 6445 6446\n",
      " 6447 6448 6449 6450 6451 6452 6453 6454 6455 6456 6457 6458 6459 6460\n",
      " 6461 6462 6463 6464 6465 6466 6467 6468 6469 6470 6471 6472 6473 6474\n",
      " 6475 6476 6477 6478 6479 6480 6481 6482 6483 6484 6485 6486 6487 6488\n",
      " 6489 6490 6491 6492 6493 6494 6495 6496 6497 6498 6499 6500 6501 6502\n",
      " 6503 6504 6505 6506 6507 6508 6509 6510 6511 6512 6513 6514 6515 6516\n",
      " 6517 6518 6519 6520 6521 6522 6523 6524 6525 6526 6527 6528 6529 6530\n",
      " 6531 6532 6533 6534 6535 6536 6537 6538 6539 6540 6541 6542 6543 6544\n",
      " 6545 6546 6547 6548 6549 6550 6551 6552 6553 6554 6555 6556 6557 6558\n",
      " 6559 6560 6561 6562 6563 6564 6565 6566 6567 6568 6569 6570 6571 6572\n",
      " 6573 6574] contained NaN values and the row(s) have been removed (Rows are zero indexed).\n",
      "  warnings.warn(\"Row(s) {} contained NaN values and the row(s) have been \"\n"
     ]
    },
    {
     "name": "stdout",
     "output_type": "stream",
     "text": [
      "fit=0.583\n",
      "i=175 starts\n",
      "fit=0.645\n",
      "i=176 starts\n",
      "fit=0.6\n",
      "i=177 starts\n"
     ]
    },
    {
     "name": "stderr",
     "output_type": "stream",
     "text": [
      "c:\\Users\\User\\Anaconda3\\envs\\pytorch2\\Lib\\site-packages\\HydroErr\\HydroErr.py:6248: UserWarning: Row(s) [6334 6335 6336 6337 6338 6339 6340 6341 6342 6343 6344 6345 6346 6347\n",
      " 6348 6349 6350 6351 6352 6353 6354 6355 6356 6357 6358 6359 6360 6361\n",
      " 6362 6363 6364 6365 6366 6367 6368 6369 6370 6371 6372 6373 6374 6375\n",
      " 6376 6377 6378 6379 6380 6381 6382 6383 6384 6385 6386 6387 6388 6389\n",
      " 6390 6391 6392 6393 6394 6395 6396 6397 6398 6399 6400 6401 6402 6403\n",
      " 6404 6405 6406 6407 6408 6409 6410 6411 6412 6413 6414 6415 6416 6417\n",
      " 6418 6419 6420 6421 6422 6423 6424 6425 6426 6427 6428 6429 6430 6431\n",
      " 6432 6433 6434 6435 6436 6437 6438 6439 6440 6441 6442 6443 6444 6445\n",
      " 6446 6447 6448 6449 6450 6451 6452 6453 6454 6455 6456 6457 6458 6459\n",
      " 6460 6461 6462 6463 6464 6465 6466 6467 6468 6469 6470 6471 6472 6473\n",
      " 6474 6475 6476 6477 6478 6479 6480 6481 6482 6483 6484 6485 6486 6487\n",
      " 6488 6489 6490 6491 6492 6493 6494 6495 6496 6497 6498 6499 6500 6501\n",
      " 6502 6503 6504 6505 6506 6507 6508 6509 6510 6511 6512 6513 6514 6515\n",
      " 6516 6517 6518 6519 6520 6521 6522 6523 6524 6525 6526 6527 6528 6529\n",
      " 6530 6531 6532 6533 6534 6535 6536 6537 6538 6539 6540 6541 6542 6543\n",
      " 6544 6545 6546 6547 6548 6549 6550 6551 6552 6553 6554 6555 6556 6557\n",
      " 6558 6559 6560 6561 6562 6563 6564 6565 6566 6567 6568 6569 6570 6571\n",
      " 6572 6573 6574] contained NaN values and the row(s) have been removed (Rows are zero indexed).\n",
      "  warnings.warn(\"Row(s) {} contained NaN values and the row(s) have been \"\n"
     ]
    },
    {
     "name": "stdout",
     "output_type": "stream",
     "text": [
      "fit=0.688\n",
      "i=178 starts\n",
      "fit=0.7\n",
      "i=179 starts\n",
      "fit=0.626\n",
      "i=180 starts\n",
      "fit=0.501\n",
      "i=181 starts\n",
      "fit=0.676\n",
      "i=182 starts\n",
      "fit=0.467\n",
      "i=183 starts\n",
      "fit=0.69\n",
      "i=184 starts\n",
      "fit=0.661\n",
      "i=185 starts\n",
      "fit=0.56\n",
      "i=186 starts\n",
      "fit=0.653\n",
      "i=187 starts\n",
      "fit=0.618\n",
      "i=188 starts\n",
      "fit=0.672\n",
      "i=189 starts\n",
      "fit=0.758\n",
      "i=190 starts\n",
      "fit=0.741\n",
      "i=191 starts\n",
      "fit=0.79\n",
      "i=192 starts\n"
     ]
    },
    {
     "name": "stderr",
     "output_type": "stream",
     "text": [
      "c:\\Users\\User\\Anaconda3\\envs\\pytorch2\\Lib\\site-packages\\HydroErr\\HydroErr.py:6248: UserWarning: Row(s) [6561 6562 6563 6564 6565 6566 6567 6568 6569 6570 6571 6572 6573 6574] contained NaN values and the row(s) have been removed (Rows are zero indexed).\n",
      "  warnings.warn(\"Row(s) {} contained NaN values and the row(s) have been \"\n"
     ]
    },
    {
     "name": "stdout",
     "output_type": "stream",
     "text": [
      "fit=0.622\n",
      "i=193 starts\n",
      "fit=0.607\n",
      "i=194 starts\n",
      "fit=0.72\n",
      "i=195 starts\n",
      "fit=0.828\n",
      "i=196 starts\n",
      "fit=0.851\n",
      "i=197 starts\n"
     ]
    },
    {
     "name": "stderr",
     "output_type": "stream",
     "text": [
      "c:\\Users\\User\\Anaconda3\\envs\\pytorch2\\Lib\\site-packages\\HydroErr\\HydroErr.py:6248: UserWarning: Row(s) [6512 6513 6514 6515 6516 6517 6518 6519 6520 6521 6522 6523 6524 6525\n",
      " 6526 6527 6528 6529 6530 6531 6532 6533 6534 6535 6536 6537 6538 6539\n",
      " 6540 6541 6542 6543 6544 6545 6546 6547 6548 6549 6550 6551 6552 6553\n",
      " 6554 6555 6556 6557 6558 6559 6560 6561 6562 6563 6564 6565 6566 6567\n",
      " 6568 6569 6570 6571 6572 6573 6574] contained NaN values and the row(s) have been removed (Rows are zero indexed).\n",
      "  warnings.warn(\"Row(s) {} contained NaN values and the row(s) have been \"\n"
     ]
    },
    {
     "name": "stdout",
     "output_type": "stream",
     "text": [
      "fit=0.889\n",
      "i=198 starts\n",
      "fit=0.834\n",
      "i=199 starts\n",
      "fit=0.693\n",
      "i=200 starts\n",
      "fit=0.858\n",
      "i=201 starts\n",
      "fit=0.841\n",
      "i=202 starts\n",
      "fit=0.843\n",
      "i=203 starts\n",
      "fit=0.739\n",
      "i=204 starts\n",
      "fit=0.677\n",
      "i=205 starts\n",
      "fit=0.817\n",
      "i=206 starts\n",
      "fit=0.551\n",
      "i=207 starts\n",
      "fit=0.727\n",
      "i=208 starts\n",
      "fit=0.726\n",
      "i=209 starts\n"
     ]
    },
    {
     "name": "stderr",
     "output_type": "stream",
     "text": [
      "c:\\Users\\User\\Anaconda3\\envs\\pytorch2\\Lib\\site-packages\\HydroErr\\HydroErr.py:6248: UserWarning: Row(s) [6527 6528 6529 6530 6531 6532 6533 6534 6535 6536 6537 6538 6539 6540\n",
      " 6541 6542 6543 6544 6545 6546 6547 6548 6549 6550 6551 6552 6553 6554\n",
      " 6555 6556 6557 6558 6559 6560 6561 6562 6563 6564 6565 6566 6567 6568\n",
      " 6569 6570 6571 6572 6573 6574] contained NaN values and the row(s) have been removed (Rows are zero indexed).\n",
      "  warnings.warn(\"Row(s) {} contained NaN values and the row(s) have been \"\n"
     ]
    },
    {
     "name": "stdout",
     "output_type": "stream",
     "text": [
      "fit=0.681\n",
      "i=210 starts\n",
      "fit=0.629\n",
      "i=211 starts\n"
     ]
    },
    {
     "name": "stderr",
     "output_type": "stream",
     "text": [
      "c:\\Users\\User\\Anaconda3\\envs\\pytorch2\\Lib\\site-packages\\HydroErr\\HydroErr.py:6248: UserWarning: Row(s) [6537 6538 6539 6540 6541 6542 6543 6544 6545 6546 6547 6548 6549 6550\n",
      " 6551 6552 6553 6554 6555 6556 6557 6558 6559 6560 6561 6562 6563 6564\n",
      " 6565 6566 6567 6568 6569 6570 6571 6572 6573 6574] contained NaN values and the row(s) have been removed (Rows are zero indexed).\n",
      "  warnings.warn(\"Row(s) {} contained NaN values and the row(s) have been \"\n"
     ]
    },
    {
     "name": "stdout",
     "output_type": "stream",
     "text": [
      "fit=0.74\n",
      "i=212 starts\n",
      "fit=0.758\n",
      "i=213 starts\n",
      "fit=0.811\n",
      "i=214 starts\n",
      "fit=0.682\n",
      "i=215 starts\n",
      "fit=0.816\n",
      "i=216 starts\n"
     ]
    },
    {
     "name": "stderr",
     "output_type": "stream",
     "text": [
      "c:\\Users\\User\\Anaconda3\\envs\\pytorch2\\Lib\\site-packages\\HydroErr\\HydroErr.py:6248: UserWarning: Row(s) [6532 6533 6534 6535 6536 6537 6538 6539 6540 6541 6542 6543 6544 6545\n",
      " 6546 6547 6548 6549 6550 6551 6552 6553 6554 6555 6556 6557 6558 6559\n",
      " 6560 6561 6562 6563 6564 6565 6566 6567 6568 6569 6570 6571 6572 6573\n",
      " 6574] contained NaN values and the row(s) have been removed (Rows are zero indexed).\n",
      "  warnings.warn(\"Row(s) {} contained NaN values and the row(s) have been \"\n"
     ]
    },
    {
     "name": "stdout",
     "output_type": "stream",
     "text": [
      "fit=0.759\n",
      "i=217 starts\n",
      "fit=0.434\n",
      "i=218 starts\n"
     ]
    },
    {
     "name": "stderr",
     "output_type": "stream",
     "text": [
      "c:\\Users\\User\\Anaconda3\\envs\\pytorch2\\Lib\\site-packages\\HydroErr\\HydroErr.py:6248: UserWarning: Row(s) [ 0  1  2  3  4  5  6  7  8  9 10 11 12 13 14 15 16 17 18 19 20 21 22 23\n",
      " 24 25 26 27 28 29 30 31 32 33 34 35 36 37 38 39 40 41 42 43 44 45 46 47\n",
      " 48 49 50 51 52 53 54] contained NaN values and the row(s) have been removed (Rows are zero indexed).\n",
      "  warnings.warn(\"Row(s) {} contained NaN values and the row(s) have been \"\n"
     ]
    },
    {
     "name": "stdout",
     "output_type": "stream",
     "text": [
      "fit=0.345\n",
      "i=219 starts\n",
      "fit=0.693\n",
      "i=220 starts\n",
      "fit=0.607\n",
      "i=221 starts\n",
      "fit=0.717\n",
      "i=222 starts\n"
     ]
    },
    {
     "name": "stderr",
     "output_type": "stream",
     "text": [
      "c:\\Users\\User\\Anaconda3\\envs\\pytorch2\\Lib\\site-packages\\HydroErr\\HydroErr.py:6248: UserWarning: Row(s) [6511 6512 6513 6514 6515 6516 6517 6518 6519 6520 6521 6522 6523 6524\n",
      " 6525 6526 6527 6528 6529 6530 6531 6532 6533 6534 6535 6536 6537 6538\n",
      " 6539 6540 6541 6542 6543 6544 6545 6546 6547 6548 6549 6550 6551 6552\n",
      " 6553 6554 6555 6556 6557 6558 6559 6560 6561 6562 6563 6564 6565 6566\n",
      " 6567 6568 6569 6570 6571 6572 6573 6574] contained NaN values and the row(s) have been removed (Rows are zero indexed).\n",
      "  warnings.warn(\"Row(s) {} contained NaN values and the row(s) have been \"\n"
     ]
    },
    {
     "name": "stdout",
     "output_type": "stream",
     "text": [
      "fit=0.764\n",
      "i=223 starts\n",
      "fit=0.599\n",
      "i=224 starts\n",
      "fit=0.344\n",
      "i=225 starts\n",
      "fit=0.243\n",
      "i=226 starts\n",
      "fit=0.333\n",
      "i=227 starts\n",
      "fit=0.406\n",
      "i=228 starts\n",
      "fit=0.418\n",
      "i=229 starts\n",
      "fit=0.521\n",
      "i=230 starts\n",
      "fit=0.553\n",
      "i=231 starts\n"
     ]
    },
    {
     "name": "stderr",
     "output_type": "stream",
     "text": [
      "c:\\Users\\User\\Anaconda3\\envs\\pytorch2\\Lib\\site-packages\\HydroErr\\HydroErr.py:6248: UserWarning: Row(s) [   0    1    2 ... 1274 1275 1276] contained NaN values and the row(s) have been removed (Rows are zero indexed).\n",
      "  warnings.warn(\"Row(s) {} contained NaN values and the row(s) have been \"\n"
     ]
    },
    {
     "name": "stdout",
     "output_type": "stream",
     "text": [
      "fit=0.448\n",
      "i=232 starts\n",
      "fit=0.513\n",
      "i=233 starts\n",
      "fit=0.453\n",
      "i=234 starts\n",
      "fit=0.562\n",
      "i=235 starts\n",
      "fit=0.501\n",
      "i=236 starts\n",
      "fit=0.512\n",
      "i=237 starts\n",
      "fit=0.287\n",
      "i=238 starts\n",
      "fit=0.46\n",
      "i=239 starts\n",
      "fit=0.642\n",
      "i=240 starts\n"
     ]
    },
    {
     "name": "stderr",
     "output_type": "stream",
     "text": [
      "c:\\Users\\User\\Anaconda3\\envs\\pytorch2\\Lib\\site-packages\\HydroErr\\HydroErr.py:6248: UserWarning: Row(s) [6565 6566 6567 6568 6569 6570 6571 6572 6573 6574] contained NaN values and the row(s) have been removed (Rows are zero indexed).\n",
      "  warnings.warn(\"Row(s) {} contained NaN values and the row(s) have been \"\n"
     ]
    },
    {
     "name": "stdout",
     "output_type": "stream",
     "text": [
      "fit=0.445\n",
      "i=241 starts\n",
      "fit=0.401\n",
      "i=242 starts\n"
     ]
    },
    {
     "name": "stderr",
     "output_type": "stream",
     "text": [
      "c:\\Users\\User\\Anaconda3\\envs\\pytorch2\\Lib\\site-packages\\HydroErr\\HydroErr.py:6248: UserWarning: Row(s) [6493 6494 6495 6496 6497 6498 6499 6500 6501 6502 6503 6504 6505 6506\n",
      " 6507 6508 6509 6510 6511 6512 6513 6514 6515 6516 6517 6518 6519 6520\n",
      " 6521 6522 6523 6524 6525 6526 6527 6528 6529 6530 6531 6532 6533 6534\n",
      " 6535 6536 6537 6538 6539 6540 6541 6542 6543 6544 6545 6546 6547 6548\n",
      " 6549 6550 6551 6552 6553 6554 6555 6556 6557 6558 6559 6560 6561 6562\n",
      " 6563 6564 6565 6566 6567 6568 6569 6570 6571 6572 6573 6574] contained NaN values and the row(s) have been removed (Rows are zero indexed).\n",
      "  warnings.warn(\"Row(s) {} contained NaN values and the row(s) have been \"\n"
     ]
    },
    {
     "name": "stdout",
     "output_type": "stream",
     "text": [
      "fit=0.569\n",
      "i=243 starts\n",
      "fit=0.633\n",
      "i=244 starts\n",
      "fit=0.61\n",
      "i=245 starts\n",
      "fit=0.462\n",
      "i=246 starts\n",
      "fit=0.606\n",
      "i=247 starts\n"
     ]
    },
    {
     "name": "stderr",
     "output_type": "stream",
     "text": [
      "c:\\Users\\User\\Anaconda3\\envs\\pytorch2\\Lib\\site-packages\\HydroErr\\HydroErr.py:6248: UserWarning: Row(s) [6531 6532 6533 6534 6535 6536 6537 6538 6539 6540 6541 6542 6543 6544\n",
      " 6545 6546 6547 6548 6549 6550 6551 6552 6553 6554 6555 6556 6557 6558\n",
      " 6559 6560 6561 6562 6563 6564 6565 6566 6567 6568 6569 6570 6571 6572\n",
      " 6573 6574] contained NaN values and the row(s) have been removed (Rows are zero indexed).\n",
      "  warnings.warn(\"Row(s) {} contained NaN values and the row(s) have been \"\n"
     ]
    },
    {
     "name": "stdout",
     "output_type": "stream",
     "text": [
      "fit=0.854\n",
      "i=248 starts\n"
     ]
    },
    {
     "name": "stderr",
     "output_type": "stream",
     "text": [
      "c:\\Users\\User\\Anaconda3\\envs\\pytorch2\\Lib\\site-packages\\HydroErr\\HydroErr.py:6248: UserWarning: Row(s) [   0    1    2 ... 2432 2433 2434] contained NaN values and the row(s) have been removed (Rows are zero indexed).\n",
      "  warnings.warn(\"Row(s) {} contained NaN values and the row(s) have been \"\n"
     ]
    },
    {
     "name": "stdout",
     "output_type": "stream",
     "text": [
      "fit=0.851\n",
      "i=249 starts\n"
     ]
    },
    {
     "name": "stderr",
     "output_type": "stream",
     "text": [
      "c:\\Users\\User\\Anaconda3\\envs\\pytorch2\\Lib\\site-packages\\HydroErr\\HydroErr.py:6248: UserWarning: Row(s) [6509 6510 6511 6512 6513 6514 6515 6516 6517 6518 6519 6520 6521 6522\n",
      " 6523 6524 6525 6526 6527 6528 6529 6530 6531 6532 6533 6534 6535 6536\n",
      " 6537 6538 6539 6540 6541 6542 6543 6544 6545 6546 6547 6548 6549 6550\n",
      " 6551 6552 6553 6554 6555 6556 6557 6558 6559 6560 6561 6562 6563 6564\n",
      " 6565 6566 6567 6568 6569 6570 6571 6572 6573 6574] contained NaN values and the row(s) have been removed (Rows are zero indexed).\n",
      "  warnings.warn(\"Row(s) {} contained NaN values and the row(s) have been \"\n"
     ]
    },
    {
     "name": "stdout",
     "output_type": "stream",
     "text": [
      "fit=0.728\n",
      "i=250 starts\n",
      "fit=0.733\n",
      "i=251 starts\n",
      "fit=0.828\n",
      "i=252 starts\n",
      "fit=0.743\n",
      "i=253 starts\n"
     ]
    },
    {
     "name": "stderr",
     "output_type": "stream",
     "text": [
      "c:\\Users\\User\\Anaconda3\\envs\\pytorch2\\Lib\\site-packages\\HydroErr\\HydroErr.py:6248: UserWarning: Row(s) [  0   1   2   3   4   5   6   7   8   9  10  11  12  13  14  15  16  17\n",
      "  18  19  20  21  22  23  24  25  26  27  28  29  30  31  32  33  34  35\n",
      "  36  37  38  39  40  41  42  43  44  45  46  47  48  49  50  51  52  53\n",
      "  54  55  56  57  58  59  60  61  62  63  64  65  66  67  68  69  70  71\n",
      "  72  73  74  75  76  77  78  79  80  81  82  83  84  85  86  87  88  89\n",
      "  90  91  92  93  94  95  96  97  98  99 100 101 102 103 104 105 106 107\n",
      " 108 109 110 111 112 113 114 115 116 117 118 119 120 121 122 123 124 125\n",
      " 126 127 128 129 130 131 132 133 134 135 136 137 138 139 140 141 142 143\n",
      " 144 145 146 147 148 149 150 151 152 153 154 155 156 157 158 159 160 161\n",
      " 162 163 164 165 166 167 168 169 170 171 172 173 174 175 176 177 178 179\n",
      " 180 181 182 183 184 185 186 187 188 189 190 191 192 193 194 195 196 197\n",
      " 198 199 200 201 202 203 204 205 206 207 208 209 210 211 212 213 214 215\n",
      " 216 217 218 219 220 221 222 223 224 225 226 227 228 229 230 231 232 233\n",
      " 234 235 236 237 238 239 240 241 242 243 244 245 246 247 248 249 250 251\n",
      " 252 253 254 255 256 257 258 259 260 261 262 263 264 265 266 267 268 269\n",
      " 270 271 272] contained NaN values and the row(s) have been removed (Rows are zero indexed).\n",
      "  warnings.warn(\"Row(s) {} contained NaN values and the row(s) have been \"\n",
      "c:\\Users\\User\\Anaconda3\\envs\\pytorch2\\Lib\\site-packages\\HydroErr\\HydroErr.py:6248: UserWarning: Row(s) [4657 4658 4659 ... 6572 6573 6574] contained NaN values and the row(s) have been removed (Rows are zero indexed).\n",
      "  warnings.warn(\"Row(s) {} contained NaN values and the row(s) have been \"\n"
     ]
    },
    {
     "name": "stdout",
     "output_type": "stream",
     "text": [
      "fit=0.831\n",
      "i=254 starts\n",
      "fit=-0.079\n",
      "i=255 starts\n"
     ]
    },
    {
     "name": "stderr",
     "output_type": "stream",
     "text": [
      "c:\\Users\\User\\Anaconda3\\envs\\pytorch2\\Lib\\site-packages\\HydroErr\\HydroErr.py:6248: UserWarning: Row(s) [6492 6493 6494 6495 6496 6497 6498 6499 6500 6501 6502 6503 6504 6505\n",
      " 6506 6507 6508 6509 6510 6511 6512 6513 6514 6515 6516 6517 6518 6519\n",
      " 6520 6521 6522 6523 6524 6525 6526 6527 6528 6529 6530 6531 6532 6533\n",
      " 6534 6535 6536 6537 6538 6539 6540 6541 6542 6543 6544 6545 6546 6547\n",
      " 6548 6549 6550 6551 6552 6553 6554 6555 6556 6557 6558 6559 6560 6561\n",
      " 6562 6563 6564 6565 6566 6567 6568 6569 6570 6571 6572 6573 6574] contained NaN values and the row(s) have been removed (Rows are zero indexed).\n",
      "  warnings.warn(\"Row(s) {} contained NaN values and the row(s) have been \"\n"
     ]
    },
    {
     "name": "stdout",
     "output_type": "stream",
     "text": [
      "fit=0.358\n",
      "i=256 starts\n",
      "fit=0.449\n",
      "i=257 starts\n",
      "fit=0.753\n",
      "i=258 starts\n",
      "fit=0.771\n",
      "i=259 starts\n",
      "fit=0.438\n",
      "i=260 starts\n",
      "fit=0.221\n",
      "i=261 starts\n"
     ]
    },
    {
     "name": "stderr",
     "output_type": "stream",
     "text": [
      "c:\\Users\\User\\Anaconda3\\envs\\pytorch2\\Lib\\site-packages\\HydroErr\\HydroErr.py:6248: UserWarning: Row(s) [6513 6514 6515 6516 6517 6518 6519 6520 6521 6522 6523 6524 6525 6526\n",
      " 6527 6528 6529 6530 6531 6532 6533 6534 6535 6536 6537 6538 6539 6540\n",
      " 6541 6542 6543 6544 6545 6546 6547 6548 6549 6550 6551 6552 6553 6554\n",
      " 6555 6556 6557 6558 6559 6560 6561 6562 6563 6564 6565 6566 6567 6568\n",
      " 6569 6570 6571 6572 6573 6574] contained NaN values and the row(s) have been removed (Rows are zero indexed).\n",
      "  warnings.warn(\"Row(s) {} contained NaN values and the row(s) have been \"\n"
     ]
    },
    {
     "name": "stdout",
     "output_type": "stream",
     "text": [
      "fit=0.259\n",
      "i=262 starts\n",
      "fit=0.492\n",
      "i=263 starts\n"
     ]
    },
    {
     "name": "stderr",
     "output_type": "stream",
     "text": [
      "c:\\Users\\User\\Anaconda3\\envs\\pytorch2\\Lib\\site-packages\\HydroErr\\HydroErr.py:6248: UserWarning: Row(s) [6538 6539 6540 6541 6542 6543 6544 6545 6546 6547 6548 6549 6550 6551\n",
      " 6552 6553 6554 6555 6556 6557 6558 6559 6560 6561 6562 6563 6564 6565\n",
      " 6566 6567 6568 6569 6570 6571 6572 6573 6574] contained NaN values and the row(s) have been removed (Rows are zero indexed).\n",
      "  warnings.warn(\"Row(s) {} contained NaN values and the row(s) have been \"\n"
     ]
    },
    {
     "name": "stdout",
     "output_type": "stream",
     "text": [
      "fit=0.217\n",
      "i=264 starts\n",
      "fit=0.406\n",
      "i=265 starts\n"
     ]
    },
    {
     "name": "stderr",
     "output_type": "stream",
     "text": [
      "c:\\Users\\User\\Anaconda3\\envs\\pytorch2\\Lib\\site-packages\\HydroErr\\HydroErr.py:6248: UserWarning: Row(s) [6519 6520 6521 6522 6523 6524 6525 6526 6527 6528 6529 6530 6531 6532\n",
      " 6533 6534 6535 6536 6537 6538 6539 6540 6541 6542 6543 6544 6545 6546\n",
      " 6547 6548 6549 6550 6551 6552 6553 6554 6555 6556 6557 6558 6559 6560\n",
      " 6561 6562 6563 6564 6565 6566 6567 6568 6569 6570 6571 6572 6573 6574] contained NaN values and the row(s) have been removed (Rows are zero indexed).\n",
      "  warnings.warn(\"Row(s) {} contained NaN values and the row(s) have been \"\n"
     ]
    },
    {
     "name": "stdout",
     "output_type": "stream",
     "text": [
      "fit=0.107\n",
      "i=266 starts\n",
      "fit=0.426\n",
      "i=267 starts\n"
     ]
    },
    {
     "name": "stderr",
     "output_type": "stream",
     "text": [
      "c:\\Users\\User\\Anaconda3\\envs\\pytorch2\\Lib\\site-packages\\HydroErr\\HydroErr.py:6248: UserWarning: Row(s) [  0   1   2   3   4   5   6   7   8   9  10  11  12  13  14  15  16  17\n",
      "  18  19  20  21  22  23  24  25  26  27  28  29  30  31  32  33  34  35\n",
      "  36  37  38  39  40  41  42  43  44  45  46  47  48  49  50  51  52  53\n",
      "  54  55  56  57  58  59  60  61  62  63  64  65  66  67  68  69  70  71\n",
      "  72  73  74  75  76  77  78  79  80  81  82  83  84  85  86  87  88  89\n",
      "  90  91  92  93  94  95  96  97  98  99 100 101 102 103 104 105 106 107\n",
      " 108 109 110 111 112 113 114 115 116 117 118 119 120 121 122 123 124 125\n",
      " 126 127 128 129 130 131 132 133 134 135 136 137 138 139 140 141 142 143\n",
      " 144 145 146 147 148 149 150 151 152 153 154 155 156 157 158 159 160 161\n",
      " 162 163 164 165 166 167 168 169 170 171 172 173 174 175 176 177 178 179\n",
      " 180 181 182 183 184 185 186 187 188 189 190 191 192 193 194 195 196 197\n",
      " 198 199 200 201 202 203 204 205 206 207 208 209 210 211 212 213 214 215\n",
      " 216 217 218 219 220 221 222 223 224 225 226 227 228 229 230 231 232 233\n",
      " 234 235 236 237 238 239 240 241 242 243 244 245 246 247 248 249 250 251\n",
      " 252 253 254 255 256 257 258 259 260 261 262 263 264 265 266 267 268 269\n",
      " 270 271 272 273 274 275 276 277 278 279 280 281 282 283 284 285 286 287\n",
      " 288 289 290 291 292 293 294 295 296 297 298 299 300 301 302 303 304 305\n",
      " 306 307 308 309 310 311 312 313 314 315 316 317 318 319 320 321 322 323\n",
      " 324 325 326 327 328 329 330 331 332 333 334 335 336 337 338 339 340 341\n",
      " 342 343 344 345 346 347 348 349 350 351 352 353 354 355 356 357 358 359\n",
      " 360 361 362 363 364 365 366 367 368 369 370 371 372 373 374 375 376 377\n",
      " 378 379 380 381 382 383 384 385 386 387 388 389 390 391 392 393 394 395\n",
      " 396 397 398 399 400 401 402 403 404 405 406 407 408 409 410 411 412 413\n",
      " 414 415 416 417 418 419 420 421 422 423 424 425 426 427 428 429 430 431\n",
      " 432 433 434 435 436 437 438 439 440 441 442 443 444 445 446 447 448 449\n",
      " 450 451 452 453 454 455 456 457 458 459 460 461 462 463 464 465 466 467\n",
      " 468 469 470 471 472 473 474 475 476 477 478 479 480 481 482 483 484 485\n",
      " 486 487 488 489 490 491 492 493 494 495 496 497 498 499 500 501 502 503\n",
      " 504 505 506 507 508 509 510 511 512 513 514 515 516 517 518 519 520 521\n",
      " 522 523 524 525 526 527 528 529 530 531 532 533 534 535 536 537 538 539\n",
      " 540 541 542 543 544 545 546 547 548 549 550 551 552 553 554 555 556 557\n",
      " 558 559 560 561 562 563 564 565 566 567 568 569 570 571 572 573 574 575\n",
      " 576 577 578 579 580 581 582 583 584 585 586 587 588 589 590 591 592 593\n",
      " 594 595 596 597 598 599 600 601 602 603 604 605 606 607 608 609 610 611\n",
      " 612 613 614 615 616 617 618 619 620 621 622 623 624 625 626 627 628 629\n",
      " 630 631 632 633 634 635 636 637 638 639 640 641 642 643 644 645 646 647\n",
      " 648 649 650 651 652 653 654 655 656 657 658 659 660 661 662 663 664 665\n",
      " 666 667 668 669 670 671 672 673 674 675 676 677 678 679 680 681 682 683\n",
      " 684 685 686 687 688 689 690 691 692 693 694 695 696 697 698 699 700 701\n",
      " 702 703 704 705 706 707 708 709 710 711 712 713 714 715 716 717 718 719\n",
      " 720 721 722 723 724 725 726 727 728 729 730 731 732 733 734 735 736 737\n",
      " 738 739 740 741 742 743 744 745 746 747 748 749 750 751 752 753 754 755\n",
      " 756 757 758 759 760 761 762 763 764 765 766 767 768 769 770 771 772 773\n",
      " 774 775 776 777 778 779 780 781 782 783 784 785 786 787 788 789 790 791\n",
      " 792 793 794 795 796 797 798 799 800 801 802 803 804 805 806 807 808 809\n",
      " 810 811 812 813 814 815 816 817 818 819 820 821 822 823 824 825 826 827\n",
      " 828 829 830 831 832 833 834 835 836 837 838 839 840 841 842 843 844 845\n",
      " 846 847 848 849 850 851 852 853 854 855 856 857 858 859 860 861 862 863\n",
      " 864 865 866 867 868 869 870 871 872 873 874 875 876 877 878 879 880 881\n",
      " 882 883 884 885 886] contained NaN values and the row(s) have been removed (Rows are zero indexed).\n",
      "  warnings.warn(\"Row(s) {} contained NaN values and the row(s) have been \"\n"
     ]
    },
    {
     "name": "stdout",
     "output_type": "stream",
     "text": [
      "fit=0.372\n",
      "i=268 starts\n",
      "fit=0.338\n",
      "i=269 starts\n"
     ]
    },
    {
     "name": "stderr",
     "output_type": "stream",
     "text": [
      "c:\\Users\\User\\Anaconda3\\envs\\pytorch2\\Lib\\site-packages\\HydroErr\\HydroErr.py:6248: UserWarning: Row(s) [6518 6519 6520 6521 6522 6523 6524 6525 6526 6527 6528 6529 6530 6531\n",
      " 6532 6533 6534 6535 6536 6537 6538 6539 6540 6541 6542 6543 6544 6545\n",
      " 6546 6547 6548 6549 6550 6551 6552 6553 6554 6555 6556 6557 6558 6559\n",
      " 6560 6561 6562 6563 6564 6565 6566 6567 6568 6569 6570 6571 6572 6573\n",
      " 6574] contained NaN values and the row(s) have been removed (Rows are zero indexed).\n",
      "  warnings.warn(\"Row(s) {} contained NaN values and the row(s) have been \"\n"
     ]
    },
    {
     "name": "stdout",
     "output_type": "stream",
     "text": [
      "fit=0.271\n",
      "i=270 starts\n",
      "fit=0.574\n",
      "i=271 starts\n",
      "fit=0.601\n",
      "i=272 starts\n",
      "fit=0.718\n",
      "i=273 starts\n",
      "fit=0.258\n",
      "i=274 starts\n",
      "fit=0.188\n",
      "i=275 starts\n",
      "fit=0.346\n",
      "i=276 starts\n",
      "fit=-0.078\n",
      "i=277 starts\n",
      "fit=0.271\n",
      "i=278 starts\n",
      "fit=-0.075\n",
      "i=279 starts\n",
      "fit=-0.036\n",
      "i=280 starts\n",
      "fit=0.417\n",
      "i=281 starts\n",
      "fit=0.431\n",
      "i=282 starts\n",
      "fit=0.149\n",
      "i=283 starts\n",
      "fit=0.431\n",
      "i=284 starts\n",
      "fit=0.28\n",
      "i=285 starts\n",
      "fit=0.517\n",
      "i=286 starts\n"
     ]
    },
    {
     "name": "stderr",
     "output_type": "stream",
     "text": [
      "c:\\Users\\User\\Anaconda3\\envs\\pytorch2\\Lib\\site-packages\\HydroErr\\HydroErr.py:6248: UserWarning: Row(s) [   0    1    2 ... 2076 2077 2078] contained NaN values and the row(s) have been removed (Rows are zero indexed).\n",
      "  warnings.warn(\"Row(s) {} contained NaN values and the row(s) have been \"\n"
     ]
    },
    {
     "name": "stdout",
     "output_type": "stream",
     "text": [
      "fit=0.533\n",
      "i=287 starts\n",
      "fit=0.44\n",
      "i=288 starts\n"
     ]
    },
    {
     "name": "stderr",
     "output_type": "stream",
     "text": [
      "c:\\Users\\User\\Anaconda3\\envs\\pytorch2\\Lib\\site-packages\\HydroErr\\HydroErr.py:6248: UserWarning: Row(s) [6415 6416 6417 6418 6419 6420 6421 6422 6423 6424 6425 6426 6427 6428\n",
      " 6429 6430 6431 6432 6433 6434 6435 6436 6437 6438 6439 6440 6441 6442\n",
      " 6443 6444 6445 6446 6447 6448 6449 6450 6451 6452 6453 6454 6455 6456\n",
      " 6457 6458 6459 6460 6461 6462 6463 6464 6465 6466 6467 6468 6469] contained NaN values and the row(s) have been removed (Rows are zero indexed).\n",
      "  warnings.warn(\"Row(s) {} contained NaN values and the row(s) have been \"\n"
     ]
    },
    {
     "name": "stdout",
     "output_type": "stream",
     "text": [
      "fit=0.455\n",
      "i=289 starts\n",
      "fit=0.623\n",
      "i=290 starts\n",
      "fit=0.55\n",
      "i=291 starts\n"
     ]
    },
    {
     "name": "stderr",
     "output_type": "stream",
     "text": [
      "c:\\Users\\User\\Anaconda3\\envs\\pytorch2\\Lib\\site-packages\\HydroErr\\HydroErr.py:6248: UserWarning: Row(s) [5334 5335 5336 5337 5338 5339 5340 5341 5342 5343 5344 5345 5346 5347\n",
      " 5348 5349 5350 5351 5352 5353 5354 5355 5356 5357 5358 5359 5360 5361\n",
      " 5362 5363 5364 5365 5366 5367 5368 5369 5370 5371 5372 5373 5374 5375\n",
      " 5376 5377 5378 5379 5380 5381 5382 5383 5384 5385 5386] contained NaN values and the row(s) have been removed (Rows are zero indexed).\n",
      "  warnings.warn(\"Row(s) {} contained NaN values and the row(s) have been \"\n"
     ]
    },
    {
     "name": "stdout",
     "output_type": "stream",
     "text": [
      "fit=0.483\n",
      "i=292 starts\n",
      "fit=0.669\n",
      "i=293 starts\n",
      "fit=0.602\n",
      "i=294 starts\n",
      "fit=0.574\n",
      "i=295 starts\n",
      "fit=0.625\n",
      "i=296 starts\n",
      "fit=0.732\n",
      "i=297 starts\n",
      "fit=0.138\n",
      "i=298 starts\n",
      "fit=0.074\n",
      "i=299 starts\n",
      "fit=0.173\n",
      "i=300 starts\n",
      "fit=0.086\n",
      "i=301 starts\n",
      "fit=0.514\n",
      "i=302 starts\n",
      "fit=0.568\n",
      "i=303 starts\n",
      "fit=0.636\n",
      "i=304 starts\n",
      "fit=0.408\n",
      "i=305 starts\n",
      "fit=0.752\n",
      "i=306 starts\n"
     ]
    },
    {
     "name": "stderr",
     "output_type": "stream",
     "text": [
      "c:\\Users\\User\\Anaconda3\\envs\\pytorch2\\Lib\\site-packages\\HydroErr\\HydroErr.py:6248: UserWarning: Row(s) [   0    1    2 ... 2775 2776 2777] contained NaN values and the row(s) have been removed (Rows are zero indexed).\n",
      "  warnings.warn(\"Row(s) {} contained NaN values and the row(s) have been \"\n"
     ]
    },
    {
     "name": "stdout",
     "output_type": "stream",
     "text": [
      "fit=0.654\n",
      "i=307 starts\n",
      "fit=0.681\n",
      "i=308 starts\n",
      "fit=0.659\n",
      "i=309 starts\n"
     ]
    },
    {
     "name": "stderr",
     "output_type": "stream",
     "text": [
      "c:\\Users\\User\\Anaconda3\\envs\\pytorch2\\Lib\\site-packages\\HydroErr\\HydroErr.py:6248: UserWarning: Row(s) [4657 4658 4659 ... 6115 6116 6117] contained NaN values and the row(s) have been removed (Rows are zero indexed).\n",
      "  warnings.warn(\"Row(s) {} contained NaN values and the row(s) have been \"\n"
     ]
    },
    {
     "name": "stdout",
     "output_type": "stream",
     "text": [
      "fit=0.616\n",
      "i=310 starts\n",
      "fit=0.209\n",
      "i=311 starts\n",
      "fit=0.136\n",
      "i=312 starts\n",
      "fit=0.48\n",
      "i=313 starts\n",
      "fit=0.404\n",
      "i=314 starts\n",
      "fit=0.599\n",
      "i=315 starts\n",
      "fit=0.54\n",
      "i=316 starts\n",
      "fit=0.61\n",
      "i=317 starts\n",
      "fit=0.601\n",
      "i=318 starts\n",
      "fit=0.553\n",
      "i=319 starts\n"
     ]
    },
    {
     "name": "stderr",
     "output_type": "stream",
     "text": [
      "c:\\Users\\User\\Anaconda3\\envs\\pytorch2\\Lib\\site-packages\\HydroErr\\HydroErr.py:6248: UserWarning: Row(s) [5021] contained NaN values and the row(s) have been removed (Rows are zero indexed).\n",
      "  warnings.warn(\"Row(s) {} contained NaN values and the row(s) have been \"\n"
     ]
    },
    {
     "name": "stdout",
     "output_type": "stream",
     "text": [
      "fit=0.134\n",
      "i=320 starts\n",
      "fit=0.42\n",
      "i=321 starts\n"
     ]
    },
    {
     "name": "stderr",
     "output_type": "stream",
     "text": [
      "c:\\Users\\User\\Anaconda3\\envs\\pytorch2\\Lib\\site-packages\\HydroErr\\HydroErr.py:6248: UserWarning: Row(s) [2465 2466 2467 2468 2469 2470 2471 2472 2473 2474 2475 2476 2477 2478\n",
      " 2479 2480 2481 2482 2483 2484 2485 2486 2487 2488 2489 2490 2491 2492\n",
      " 2493 2494 2495 2496 2497 2498 2499 2500 2501 2502 2503 2504 2505 2506\n",
      " 2507 2508 2509 2510 2511 2512 2513 2514 2515 2516 2517 2518 2519 2520\n",
      " 2521 2522 2523 2524 2525 2526 2527 2528 2529 2530 2531 2532 2533 2534\n",
      " 2535 2536 2537 2538 2539 2540 2541 2542 2543 2544 2545 2546 2547 2548\n",
      " 2549 2550 2551 2552 2553 2554 2555 2556 2557 2558 2559 2560 2561 2562\n",
      " 2563 2564 2565 2566 2567 2568 2569 2570 2571 2572 2573 2574 2575 2576\n",
      " 2577 2578 2579 2580 2581 2582 2583 2584 2585 2586 2587 2588 2589 2590\n",
      " 2591 2592 2593 2594 2595 2596 2597 2598 2599 2600 2601 2602 2603 2604\n",
      " 2605 2606 2607 2608 2609 2610 2611 2612 2613 2614 2615 2616 2617 2618\n",
      " 2619 2620 2621 2622 2623 2624 2625 2626 2627 2628 2629 2630 2631 2632\n",
      " 2633 2634 2635 2636 2637 2638 2639 2640 2641 2642 2643 2644 2645 2646\n",
      " 2647 2648 2649 2650 2651 2652 2653 2654 2655 2656 2657 2658 2659 2660\n",
      " 2661 2662 2663 2664 2665 2666 2667 2668 2669 2670 2671 2672 2673 2674\n",
      " 2675 2676 2677 2678 2679 2680 2681 2682 2683 2684 2685 2686 2687 2688\n",
      " 2689 2690 2691 2692 2693 2694 2695 2696 2697 2698 2699 2700 2701 2702\n",
      " 2703 2704 2705 2706 2707 2708 2709 2710 2711 2712 2713 2714 2715 2716\n",
      " 2717 2718 2719 2720 2721 2722 2723 2724 2725 2726 2727 2728 2729 2730\n",
      " 2731 2732 2733 2734 2735 2736 2737 2738 2739 2740 2741 2742 2743 2744\n",
      " 2745 2746 2747 2748 2749 2750 2751 2752 2753 2754 2755 2756 2757 2758\n",
      " 2759 2760 2761 2762 2763 2764 2765 2766 2767 2768 2769 2770 2771 2772\n",
      " 2773 2774 2775 2776 2777 2778 2779 2780 2781 2782 2783 2784 2785 2786\n",
      " 2787 2788 2789 2790 2791 2792 2793 2794 2795 2796 2797 2798 2799 2800\n",
      " 2801 2802 2803 2804 2805 2806 2807 2808 2809 2810 2811 2812 2813 2814\n",
      " 2815 2816 2817 2818 2819 2820 2821 2822 2823 2824 2825 2826 2827 2828\n",
      " 2829] contained NaN values and the row(s) have been removed (Rows are zero indexed).\n",
      "  warnings.warn(\"Row(s) {} contained NaN values and the row(s) have been \"\n"
     ]
    },
    {
     "name": "stdout",
     "output_type": "stream",
     "text": [
      "fit=0.522\n",
      "i=322 starts\n",
      "fit=0.584\n",
      "i=323 starts\n",
      "fit=0.596\n",
      "i=324 starts\n",
      "fit=0.518\n",
      "i=325 starts\n"
     ]
    },
    {
     "name": "stderr",
     "output_type": "stream",
     "text": [
      "c:\\Users\\User\\Anaconda3\\envs\\pytorch2\\Lib\\site-packages\\HydroErr\\HydroErr.py:6248: UserWarning: Row(s) [1734 1735 1736 1737 1738 1739 1740 1741 1742 1743 1744 1745 1746 1747\n",
      " 1748 1749 1750 1751 1752 1753 1754 1755 1756 1757 1758 1759 1760 1761\n",
      " 1762 1763 1764 1765 1766 1767 1768 1769 1770 1771 1772 1773 1774 1775\n",
      " 1776 1777 1778 1779 1780 1781 1782 1783 1784 1785 1786 1787 1788 1789\n",
      " 1790 1791 1792 1793 1794 1795 1796 1797 1798 1799 1800 1801 1802 1803\n",
      " 1804 1805 1806 1807 1808 1809 1810 1811 1812 1813 1814 1815 1816 1817\n",
      " 1818 1819 1820 1821 1822 1823 1824 1825 1826 1827 1828 1829 1830 1831\n",
      " 1832 1833 1834 1835 1836 1837 1838 1839 1840 1841 1842 1843 1844 1845\n",
      " 1846 1847 1848 1849 1850 1851 1852 1853 1854 1855 1856 1857 1858 1859\n",
      " 1860 1861 1862 1863 1864 1865 1866 1867 1868 1869 1870 1871 1872 1873\n",
      " 1874 1875 1876 1877 1878 1879 1880 1881 1882 1883 1884 1885 1886 1887\n",
      " 1888 1889 1890 1891 1892 1893 1894 1895 1896 1897 1898 1899 1900 1901\n",
      " 1902 1903 1904 1905 1906 1907 1908 1909 1910 1911 1912 1913 1914 1915\n",
      " 1916 1917 1918 1919 1920 1921 1922 1923 1924 1925 1926 1927 1928 1929\n",
      " 1930 1931 1932 1933 1934 1935 1936 1937 1938 1939 1940 1941 1942 1943\n",
      " 1944 1945 1946 1947 1948 1949 1950 1951 1952 1953 1954 1955 1956 1957\n",
      " 1958 1959 1960 1961 1962 1963 1964 1965 1966 1967 1968 1969 1970 1971\n",
      " 1972 1973 1974 1975 1976 1977 1978 1979 1980 1981 1982 1983 1984 1985\n",
      " 1986 1987 1988 1989 1990 1991 1992 1993 1994 1995 1996 1997 1998 1999\n",
      " 2000 2001 2002 2003 2004 2005 2006 2007 2008 2009 2010 2011 2012 2013\n",
      " 2014 2015 2016 2017 2018 2019 2020 2021 2022 2023 2024 2025 2026 2027\n",
      " 2028 2029 2030 2031 2032 2033 2034 2035 2036 2037 2038 2039 2040 2041\n",
      " 2042 2043 2044 2045 2046 2047 2048 2049 2050 2051 2052 2053 2054 2055\n",
      " 2056 2057 2058 2059 2060 2061 2062 2063 2064 2065 2066 2067 2068 2069\n",
      " 2070 2071 2072 2073 2074 2075 2076 2077 2078 2079 2080 2081 2082 2083\n",
      " 2084 2085 2086 2087 2088 2089 2090 2091 2092 2093 2094 2095 2096 2097\n",
      " 2098 2099 2100 2101 2102 2103 2104 2105 2106 2107 2108 2109 2110 2111\n",
      " 2112 2113 2114 2115 2116 2117 2118 2119 2120 2121 2122 2123 2124 2125\n",
      " 2126 2127 2128 2129 2130 2131 2132 2133 2134 2135 2136 2137 2138 2139\n",
      " 2140 2141 2142 2143 2144 2145 2146 2147 2148 2149 2150 2151 2152 2153\n",
      " 2154 2155 2156 2157 2158 2159 2160 2161 2162 2163 2164 2165 2166 2167\n",
      " 2168 2169 2170 2171 2172 2173 2174 2175 2176 2177 2178 2179 2180 2181\n",
      " 2182 2183 2184 2185 2186 2187 2188 2189 2190 2191 2192 2193 2194 2195\n",
      " 2196 2197 2198 2199 2200 2201 2202 2203 2204 2205 2206 2207 2208 2209\n",
      " 2210 2211 2212 2213 2214 2215 2216 2217 2218 2219 2220 2221 2222 2223\n",
      " 2224 2225 2226 2227 2228 2229 2230 2231 2232 2233 2234 2235 2236 2237\n",
      " 2238 2239 2240 2241 2242 2243 2244 2245 2246 2247 2248 2249 2250 2251\n",
      " 2252 2253 2254 2255 2256 2257 2258 2259 2260 2261 2262 2263 2264 2265\n",
      " 2266 2267 2268 2269 2270 2271 2272 2273 2274 2275 2276 2277 2278 2279\n",
      " 2280 2281 2282 2283 2284 2285 2286 2287 2288 2289 2290 2291 2292 2293\n",
      " 2294 2295 2296 2297 2298 2299 2300 2301 2302 2303 2304 2305 2306 2307\n",
      " 2308 2309 2310 2311 2312 2313 2314 2315 2316 2317 2318 2319 2320 2321\n",
      " 2322 2323 2324 2325 2326 2327 2328 2329 2330 2331 2332 2333 2334 2335\n",
      " 2336 2337 2338 2339 2340 2341 2342 2343 2344 2345 2346 2347 2348 2349\n",
      " 2350 2351 2352 2353 2354 2355 2356 2357 2358 2359 2360 2361 2362 2363\n",
      " 2364 2365 2366 2367 2368 2369 2370 2371 2372 2373 2374 2375 2376 2377\n",
      " 2378 2379 2380 2381 2382 2383 2384 2385 2386 2387 2388 2389 2390 2391\n",
      " 2392 2393 2394 2395 2396 2397 2398 2399 2400 2401 2402 2403 2404 2405\n",
      " 2406 2407 2408 2409 2410 2411 2412 2413 2414 2415 2416 2417 2418 2419\n",
      " 2420 2421 2422 2423 2424 2425 2426 2427 2428 2429 2430 2431 2432 2433\n",
      " 2434 2435 2436 2437 2438 2439 2440 2441 2442 2443 2444 2445 2446 2447\n",
      " 2448 2449 2450 2451 2452 2453 2454 2455 2456 2457 2458 2459 2460 2461\n",
      " 2462 2463 2464] contained NaN values and the row(s) have been removed (Rows are zero indexed).\n",
      "  warnings.warn(\"Row(s) {} contained NaN values and the row(s) have been \"\n"
     ]
    },
    {
     "name": "stdout",
     "output_type": "stream",
     "text": [
      "fit=0.603\n",
      "i=326 starts\n",
      "fit=0.366\n",
      "i=327 starts\n",
      "fit=0.279\n",
      "i=328 starts\n",
      "fit=0.507\n",
      "i=329 starts\n",
      "fit=0.562\n",
      "i=330 starts\n",
      "fit=0.566\n",
      "i=331 starts\n"
     ]
    },
    {
     "name": "stderr",
     "output_type": "stream",
     "text": [
      "c:\\Users\\User\\Anaconda3\\envs\\pytorch2\\Lib\\site-packages\\HydroErr\\HydroErr.py:6248: UserWarning: Row(s) [  0   1   2   3   4   5   6   7   8   9  10  11  12  13  14  15  16  17\n",
      "  18  19  20  21  22  23  24  25  26  27  28  29  30  31  32  33  34  35\n",
      "  36  37  38  39  40  41  42  43  44  45  46  47  48  49  50  51  52  53\n",
      "  54  55  56  57  58  59  60  61  62  63  64  65  66  67  68  69  70  71\n",
      "  72  73  74  75  76  77  78  79  80  81  82  83  84  85  86  87  88  89\n",
      "  90  91  92  93  94  95  96  97  98  99 100 101 102 103 104 105 106 107\n",
      " 108 109 110 111 112 113 114 115 116 117 118 119 120 121 122 123 124 125\n",
      " 126 127 128 129 130 131 132 133 134 135 136 137 138 139 140 141 142 143\n",
      " 144 145 146 147 148 149 150 151 152 153 154 155 156 157 158 159 160 161\n",
      " 162 163 164 165 166 167 168 169 170 171 172 173 174 175 176 177 178 179\n",
      " 180 181 182 183 184 185 186 187 188 189 190 191 192 193 194 195 196 197\n",
      " 198 199 200 201 202 203 204 205 206 207 208 209 210 211 212 213 214 215\n",
      " 216 217 218 219 220 221 222 223 224 225 226 227 228 229 230 231 232 233\n",
      " 234 235 236 237 238 239 240 241 242 243 244 245 246 247 248 249 250 251\n",
      " 252 253 254 255 256 257 258 259 260 261 262 263 264 265 266 267 268 269\n",
      " 270 271 272 273 274 275 276 277 278 279 280 281 282 283 284 285 286 287\n",
      " 288 289 290 291 292 293 294 295 296 297 298 299 300 301 302 303 304 305\n",
      " 306 307 308 309 310 311 312 313 314 315 316 317 318 319 320 321 322 323\n",
      " 324 325 326 327 328 329 330 331 332 333 334 335 336 337 338 339 340 341\n",
      " 342 343 344 345 346 347 348 349 350 351 352 353 354 355 356 357 358 359\n",
      " 360 361 362 363 364 365 366 367 368 369 370 371 372 373 374 375 376 377\n",
      " 378 379 380 381 382 383 384 385 386 387 388 389 390 391 392 393 394 395\n",
      " 396 397 398 399 400 401 402 403 404 405 406 407 408 409 410 411 412 413\n",
      " 414 415 416 417 418 419 420 421 422 423 424 425 426 427 428 429 430 431\n",
      " 432 433 434 435 436 437 438 439 440 441 442 443 444 445 446 447 448 449\n",
      " 450 451 452 453 454 455 456 457 458 459 460 461 462 463 464 465 466 467\n",
      " 468 469 470 471 472 473 474 475 476 477 478 479 480 481 482 483 484 485\n",
      " 486 487 488 489 490 491 492 493 494 495 496 497 498 499 500 501 502 503\n",
      " 504 505 506 507 508 509 510 511 512 513 514 515 516 517 518 519 520 521\n",
      " 522 523 524 525 526 527 528 529 530 531 532 533 534 535 536 537 538 539\n",
      " 540 541 542 543 544 545 546 547 548 549 550 551 552 553 554 555 556 557\n",
      " 558 559 560 561 562 563 564 565 566 567 568 569 570 571 572 573 574 575\n",
      " 576 577 578 579 580 581 582 583 584 585 586 587 588 589 590 591 592 593\n",
      " 594 595 596 597 598 599 600 601 602 603 604 605 606 607 608 609 610 611\n",
      " 612 613 614 615 616 617 618 619 620 621 622 623 624 625 626 627 628 629\n",
      " 630 631 632 633 634 635 636 637 638 639 640 641 642 643 644 645 646 647\n",
      " 648 649 650 651 652 653 654 655 656 657 658 659 660 661 662 663 664 665\n",
      " 666 667 668 669 670 671 672 673 674 675 676 677 678 679 680 681 682 683\n",
      " 684 685 686 687 688 689 690 691 692 693 694 695 696 697 698 699 700 701\n",
      " 702 703 704 705 706 707 708 709 710 711 712 713 714 715 716 717 718 719\n",
      " 720 721 722 723 724 725 726 727 728 729 730 731 732 733 734 735 736 737\n",
      " 738 739 740 741 742 743 744 745 746 747 748 749 750 751 752 753 754 755\n",
      " 756 757 758 759 760 761 762 763 764 765 766 767 768 769 770 771 772 773\n",
      " 774 775 776 777 778 779 780 781 782 783 784 785 786 787 788 789 790 791\n",
      " 792 793 794 795 796 797 798 799 800 801 802 803 804 805 806 807 808 809\n",
      " 810 811 812 813 814 815 816 817 818 819 820 821 822 823 824 825 826 827\n",
      " 828 829 830 831 832 833 834 835 836 837 838 839 840 841 842 843 844 845\n",
      " 846 847 848 849 850] contained NaN values and the row(s) have been removed (Rows are zero indexed).\n",
      "  warnings.warn(\"Row(s) {} contained NaN values and the row(s) have been \"\n"
     ]
    },
    {
     "name": "stdout",
     "output_type": "stream",
     "text": [
      "fit=0.523\n",
      "i=332 starts\n",
      "fit=-0.861\n",
      "i=333 starts\n",
      "fit=0.306\n",
      "i=334 starts\n",
      "fit=0.279\n",
      "i=335 starts\n",
      "fit=0.174\n",
      "i=336 starts\n",
      "fit=0.178\n",
      "i=337 starts\n",
      "fit=0.296\n",
      "i=338 starts\n",
      "fit=-0.17\n",
      "i=339 starts\n"
     ]
    },
    {
     "name": "stderr",
     "output_type": "stream",
     "text": [
      "c:\\Users\\User\\Anaconda3\\envs\\pytorch2\\Lib\\site-packages\\HydroErr\\HydroErr.py:6248: UserWarning: Row(s) [ 288  289  290 ... 2554 2555 2556] contained NaN values and the row(s) have been removed (Rows are zero indexed).\n",
      "  warnings.warn(\"Row(s) {} contained NaN values and the row(s) have been \"\n"
     ]
    },
    {
     "name": "stdout",
     "output_type": "stream",
     "text": [
      "fit=0.253\n",
      "i=340 starts\n",
      "fit=0.223\n",
      "i=341 starts\n",
      "fit=0.465\n",
      "i=342 starts\n",
      "fit=0.524\n",
      "i=343 starts\n",
      "fit=-0.201\n",
      "i=344 starts\n",
      "fit=0.24\n",
      "i=345 starts\n",
      "fit=0.286\n",
      "i=346 starts\n"
     ]
    },
    {
     "name": "stderr",
     "output_type": "stream",
     "text": [
      "c:\\Users\\User\\Anaconda3\\envs\\pytorch2\\Lib\\site-packages\\HydroErr\\HydroErr.py:6248: UserWarning: Row(s) [5387 5388 5389 5390 5391 5392 5393 5394 5395 5396 5397 5398 5399 5400\n",
      " 5401 5402 5403 5404 5405 5406 5407 5408 5409 5410 5411 5412 5413 5414\n",
      " 5415 5416 5417 5418 5419 5420 5421 5422 5423 5424 5425 5426 5427 5428\n",
      " 5429 5430 5431 5432 5433 5434 5435 5436 5437 5438 5439 5440 5441 5442\n",
      " 5443 5444 5445 5446 5447 5448 5449 5450 5451 5452 5453 5454 5455 5456\n",
      " 5457 5458 5459 5460 5461 5462 5463 5464 5465 5466 5467 5468 5469 5470\n",
      " 5471 5472 5473 5474 5475 5476 5477 5478 5479 5480 5481 5482 5483 5484\n",
      " 5485 5486 5487 5488 5489 5490 5491 5492 5493 5494 5495 5496 5497 5498\n",
      " 5499 5500 5501 5502 5503 5504 5505 5506 5507 5508 5509 5510 5511 5512\n",
      " 5513 5514 5515 5516 5517 5518 5519 5520 5521 5522 5523 5524 5525 5526\n",
      " 5527 5528 5529 5530 5531 5532 5533 5534 5535 5536 5537 5538 5539 5540\n",
      " 5541 5542 5543 5544 5545 5546 5547 5548 5549 5550 5551 5552 5553 5554\n",
      " 5555 5556 5557 5558 5559 5560 5561 5562 5563 5564 5565 5566 5567 5568\n",
      " 5569 5570 5571 5572 5573 5574 5575 5576 5577 5578 5579 5580 5581 5582\n",
      " 5583 5584 5585 5586 5587 5588 5589 5590 5591 5592 5593 5594 5595 5596\n",
      " 5597 5598 5599 5600 5601 6559 6560 6561 6562 6563 6564 6565 6566 6567\n",
      " 6568 6569 6570 6571 6572 6573 6574] contained NaN values and the row(s) have been removed (Rows are zero indexed).\n",
      "  warnings.warn(\"Row(s) {} contained NaN values and the row(s) have been \"\n"
     ]
    },
    {
     "name": "stdout",
     "output_type": "stream",
     "text": [
      "fit=0.379\n",
      "i=347 starts\n",
      "fit=-0.147\n",
      "i=348 starts\n",
      "fit=0.448\n",
      "i=349 starts\n",
      "fit=-0.138\n",
      "i=350 starts\n",
      "fit=-0.356\n",
      "i=351 starts\n",
      "fit=0.036\n",
      "i=352 starts\n",
      "fit=0.029\n",
      "i=353 starts\n",
      "fit=-0.048\n",
      "i=354 starts\n"
     ]
    },
    {
     "name": "stderr",
     "output_type": "stream",
     "text": [
      "c:\\Users\\User\\Anaconda3\\envs\\pytorch2\\Lib\\site-packages\\HydroErr\\HydroErr.py:6248: UserWarning: Row(s) [6485 6486 6487 6488 6489 6490 6491 6492 6493 6494 6495 6496 6497 6498\n",
      " 6499 6500 6501 6502 6503 6504 6505 6506 6507 6508 6509 6510 6511 6512\n",
      " 6513 6514 6515 6516 6517 6518 6519 6520 6521 6522 6523 6524 6525 6526\n",
      " 6527 6528 6529 6530 6531 6532 6533 6534 6535 6536 6537 6538 6539 6540\n",
      " 6541 6542 6543 6544 6545 6546 6547 6548 6549 6550 6551 6552 6553] contained NaN values and the row(s) have been removed (Rows are zero indexed).\n",
      "  warnings.warn(\"Row(s) {} contained NaN values and the row(s) have been \"\n"
     ]
    },
    {
     "name": "stdout",
     "output_type": "stream",
     "text": [
      "fit=-0.002\n",
      "i=355 starts\n",
      "fit=-0.026\n",
      "i=356 starts\n",
      "fit=-0.232\n",
      "i=357 starts\n",
      "fit=0.514\n",
      "i=358 starts\n",
      "fit=0.515\n",
      "i=359 starts\n",
      "fit=0.683\n",
      "i=360 starts\n",
      "fit=0.457\n",
      "i=361 starts\n",
      "fit=0.378\n",
      "i=362 starts\n",
      "fit=0.726\n",
      "i=363 starts\n",
      "fit=0.821\n",
      "i=364 starts\n",
      "fit=0.67\n",
      "i=365 starts\n",
      "fit=0.756\n",
      "i=366 starts\n",
      "fit=0.563\n",
      "i=367 starts\n",
      "fit=0.732\n",
      "i=368 starts\n",
      "fit=0.464\n",
      "i=369 starts\n",
      "fit=0.587\n",
      "i=370 starts\n",
      "fit=0.208\n",
      "i=371 starts\n",
      "fit=-0.014\n",
      "i=372 starts\n",
      "fit=-0.061\n",
      "i=373 starts\n",
      "fit=-0.614\n",
      "i=374 starts\n",
      "fit=0.707\n",
      "i=375 starts\n",
      "fit=0.722\n",
      "i=376 starts\n"
     ]
    },
    {
     "name": "stderr",
     "output_type": "stream",
     "text": [
      "c:\\Users\\User\\Anaconda3\\envs\\pytorch2\\Lib\\site-packages\\HydroErr\\HydroErr.py:6248: UserWarning: Row(s) [4657 4658 4659 4660 4661 4662 4663 4664 4665 4666 4667 4668 4669 4670\n",
      " 4671 4672 4673 4674 4675 4676 4677 4678 4679 4680 4681 4682 4683 4684\n",
      " 4685 4686 4687 4688 4689 4690 4691 4692 4693 4694 4695 4696 4697 4698\n",
      " 4699 4700 4701 4702 4703 4704 4705 4706 4707 4708 4709 4710 4711 4712\n",
      " 4713 4714 4715 4716 4717 4718 4719 4720 4721 4722 4723 4724 4725 4726\n",
      " 4727 4728 4729 4730 4731 4732 4733 4734 4735 4736 4737 4738 4739 4740\n",
      " 4741 4742 4743 4744 4745 4746 4747 4748 4749 4750 4751 4752 4753 4754\n",
      " 4755 4756 4757 4758 4759 4760 4761 4762 4763 4764 4765 4766 4767 4768\n",
      " 4769 4770 4771 4772 4773 4774 4775 4776 4777 4778 4779 4780 4781 4782\n",
      " 4783 4784 4785 4786 4787 4788 4789 4790 4791 4792 4793 4794 4795 4796\n",
      " 4797 4798 4799 4800 4801 4802 4803 4804 4805 4806 4807 4808 4809 4810\n",
      " 4811 4812 4813 4814 4815 4816 4817 4818 4819 4820 4821 4822 4823 4824\n",
      " 4825 4826 4827 4828 4829 4830 4831 4832 4833 4834 4835 4836 4837 4838\n",
      " 4839 4840 4841 4842 4843 4844 4845 4846 4847 4848 4849 4850 4851 4852\n",
      " 4853 4854 4855 4856 4857 4858 4859 4860 4861 4862 4863 4864 4865 4866\n",
      " 4867 4868 4869 4870 4871 4872 4873 4874 4875 4876 4877 4878 4879 4880\n",
      " 4881 4882 4883 4884 4885 4886 4887 4888 4889 4890 4891 4892 4893 4894\n",
      " 4895 4896 4897 4898 4899 4900 4901 4902 4903 4904 4905 4906 4907 4908\n",
      " 4909 4910 4911 4912 4913 4914 4915 4916 4917 4918 4919 4920 4921 4922\n",
      " 4923 4924 4925 4926 4927 4928 4929 4930 4931 4932 4933 4934 4935 4936\n",
      " 4937 4938 4939 4940 4941 4942 4943 4944 4945 4946 4947 4948 4949 4950\n",
      " 4951 4952 4953 4954 4955 4956 4957 4958 4959 4960 4961 4962 4963 4964\n",
      " 4965 4966 4967 4968 4969 4970 4971 4972 4973 4974 4975 4976 4977 4978\n",
      " 4979 4980 4981 4982 4983 4984 4985 4986 4987 4988 4989 4990 4991 4992\n",
      " 4993 4994 4995 4996 4997 4998 4999 5000 5001 5002 5003 5004 5005 5006\n",
      " 5007 5008 5009 5010 5011 5012 5013 5014 5015 5016 5017 5018 5019 5020\n",
      " 5021] contained NaN values and the row(s) have been removed (Rows are zero indexed).\n",
      "  warnings.warn(\"Row(s) {} contained NaN values and the row(s) have been \"\n"
     ]
    },
    {
     "name": "stdout",
     "output_type": "stream",
     "text": [
      "fit=0.688\n",
      "i=377 starts\n",
      "fit=0.355\n",
      "i=378 starts\n"
     ]
    },
    {
     "name": "stderr",
     "output_type": "stream",
     "text": [
      "c:\\Users\\User\\Anaconda3\\envs\\pytorch2\\Lib\\site-packages\\HydroErr\\HydroErr.py:6248: UserWarning: Row(s) [ 273  274  275 ... 2713 2801 2802] contained NaN values and the row(s) have been removed (Rows are zero indexed).\n",
      "  warnings.warn(\"Row(s) {} contained NaN values and the row(s) have been \"\n"
     ]
    },
    {
     "name": "stdout",
     "output_type": "stream",
     "text": [
      "fit=0.588\n",
      "i=379 starts\n",
      "fit=0.511\n",
      "i=380 starts\n",
      "fit=0.55\n",
      "i=381 starts\n",
      "fit=0.501\n",
      "i=382 starts\n",
      "fit=0.5\n",
      "i=383 starts\n",
      "fit=0.652\n",
      "i=384 starts\n",
      "fit=0.204\n",
      "i=385 starts\n",
      "fit=0.351\n",
      "i=386 starts\n"
     ]
    },
    {
     "name": "stderr",
     "output_type": "stream",
     "text": [
      "c:\\Users\\User\\Anaconda3\\envs\\pytorch2\\Lib\\site-packages\\HydroErr\\HydroErr.py:6248: UserWarning: Row(s) [3930 6484 6485 6486 6487 6488 6489 6490 6491 6492 6493 6494 6495 6496\n",
      " 6497 6498 6499 6500 6501 6502 6503 6504 6505 6506 6507 6508 6509 6510\n",
      " 6511 6512 6513 6514 6515 6516 6517 6518 6519 6520 6521 6522 6523 6524\n",
      " 6525 6526 6527 6528 6529 6530 6531 6532 6533 6534 6535 6536 6537 6538\n",
      " 6539 6540 6541 6542 6543 6544 6545 6546 6547 6548 6549 6550 6551 6552\n",
      " 6553 6554 6555 6556 6557 6558 6559 6560 6561 6562 6563 6564 6565 6566\n",
      " 6567 6568 6569 6570 6571 6572 6573 6574] contained NaN values and the row(s) have been removed (Rows are zero indexed).\n",
      "  warnings.warn(\"Row(s) {} contained NaN values and the row(s) have been \"\n"
     ]
    },
    {
     "name": "stdout",
     "output_type": "stream",
     "text": [
      "fit=0.489\n",
      "i=387 starts\n",
      "fit=0.512\n",
      "i=388 starts\n",
      "fit=0.553\n",
      "i=389 starts\n",
      "fit=0.625\n",
      "i=390 starts\n"
     ]
    },
    {
     "name": "stderr",
     "output_type": "stream",
     "text": [
      "c:\\Users\\User\\Anaconda3\\envs\\pytorch2\\Lib\\site-packages\\HydroErr\\HydroErr.py:6248: UserWarning: Row(s) [6534 6535 6536 6537 6538 6539 6540 6541 6542 6543 6544 6545 6546 6547\n",
      " 6548 6549 6550 6551 6552 6553 6554 6555 6556 6557 6558 6559 6560 6561\n",
      " 6562 6563 6564 6565 6566 6567 6568 6569 6570 6571 6572 6573 6574] contained NaN values and the row(s) have been removed (Rows are zero indexed).\n",
      "  warnings.warn(\"Row(s) {} contained NaN values and the row(s) have been \"\n"
     ]
    },
    {
     "name": "stdout",
     "output_type": "stream",
     "text": [
      "fit=0.714\n",
      "i=391 starts\n",
      "fit=0.033\n",
      "i=392 starts\n",
      "fit=-0.423\n",
      "i=393 starts\n",
      "fit=0.645\n",
      "i=394 starts\n",
      "fit=0.132\n",
      "i=395 starts\n",
      "fit=0.781\n",
      "i=396 starts\n",
      "fit=0.739\n",
      "i=397 starts\n",
      "fit=0.72\n",
      "i=398 starts\n",
      "fit=0.83\n",
      "i=399 starts\n"
     ]
    },
    {
     "name": "stderr",
     "output_type": "stream",
     "text": [
      "c:\\Users\\User\\Anaconda3\\envs\\pytorch2\\Lib\\site-packages\\HydroErr\\HydroErr.py:6248: UserWarning: Row(s) [6521 6522 6523 6524 6525 6526 6527 6528 6529 6530 6531 6532 6533 6534\n",
      " 6535 6536 6537 6538 6539 6540 6541 6542 6543 6544 6545 6546 6547 6548\n",
      " 6549 6550 6551 6552 6553 6554 6555 6556 6557 6558 6559 6560 6561 6562\n",
      " 6563 6564 6565 6566 6567 6568 6569 6570 6571 6572 6573 6574] contained NaN values and the row(s) have been removed (Rows are zero indexed).\n",
      "  warnings.warn(\"Row(s) {} contained NaN values and the row(s) have been \"\n"
     ]
    },
    {
     "name": "stdout",
     "output_type": "stream",
     "text": [
      "fit=0.436\n",
      "i=400 starts\n",
      "fit=0.843\n",
      "i=401 starts\n",
      "fit=0.644\n",
      "i=402 starts\n",
      "fit=-0.73\n",
      "i=403 starts\n",
      "fit=0.809\n",
      "i=404 starts\n",
      "fit=-0.003\n",
      "i=405 starts\n",
      "fit=0.913\n",
      "i=406 starts\n",
      "fit=0.809\n",
      "i=407 starts\n",
      "fit=0.868\n",
      "i=408 starts\n",
      "fit=0.704\n",
      "i=409 starts\n",
      "fit=0.636\n",
      "i=410 starts\n",
      "fit=0.81\n",
      "i=411 starts\n",
      "fit=0.854\n",
      "i=412 starts\n",
      "fit=0.819\n",
      "i=413 starts\n",
      "fit=0.69\n",
      "i=414 starts\n"
     ]
    },
    {
     "name": "stderr",
     "output_type": "stream",
     "text": [
      "c:\\Users\\User\\Anaconda3\\envs\\pytorch2\\Lib\\site-packages\\HydroErr\\HydroErr.py:6248: UserWarning: Row(s) [6506 6507 6508 6509 6510 6511 6512 6513 6514 6515 6516 6517 6518 6519\n",
      " 6520 6521 6522 6523 6524 6525 6526 6527 6528 6529 6530 6531 6532 6533\n",
      " 6534 6535 6536 6537 6538 6539 6540 6541 6542 6543 6544 6545 6546 6547\n",
      " 6548 6549 6550 6551 6552 6553 6554 6555 6556 6557 6558 6559 6560 6561\n",
      " 6562 6563 6564 6565 6566 6567 6568 6569 6570 6571 6572 6573 6574] contained NaN values and the row(s) have been removed (Rows are zero indexed).\n",
      "  warnings.warn(\"Row(s) {} contained NaN values and the row(s) have been \"\n"
     ]
    },
    {
     "name": "stdout",
     "output_type": "stream",
     "text": [
      "fit=0.898\n",
      "i=415 starts\n",
      "fit=0.758\n",
      "i=416 starts\n",
      "fit=0.84\n",
      "i=417 starts\n",
      "fit=0.893\n",
      "i=418 starts\n",
      "fit=0.846\n",
      "i=419 starts\n",
      "fit=0.747\n",
      "i=420 starts\n",
      "fit=0.9\n",
      "i=421 starts\n",
      "fit=0.916\n",
      "i=422 starts\n",
      "fit=0.917\n",
      "i=423 starts\n",
      "fit=0.883\n",
      "i=424 starts\n",
      "fit=0.724\n",
      "i=425 starts\n",
      "fit=0.882\n",
      "i=426 starts\n",
      "fit=0.862\n",
      "i=427 starts\n",
      "fit=0.936\n",
      "i=428 starts\n",
      "fit=0.944\n",
      "i=429 starts\n",
      "fit=0.917\n",
      "i=430 starts\n"
     ]
    },
    {
     "name": "stderr",
     "output_type": "stream",
     "text": [
      "c:\\Users\\User\\Anaconda3\\envs\\pytorch2\\Lib\\site-packages\\HydroErr\\HydroErr.py:6248: UserWarning: Row(s) [  0   1   2   3   4   5   6   7   8   9  10  11  12  13  14  15  16  17\n",
      "  18  19  20  21  22  23  24  25  26  27  28  29  30  31  32  33  34  35\n",
      "  36  37  38  39  40  41  42  43  44  45  46  47  48  49  50  51  52  53\n",
      "  54  55  56  57  58  59  60  61  62  63  64  65  66  67  68  69  70  71\n",
      "  72  73  74  75  76  77  78  79  80  81  82  83  84  85  86  87  88  89\n",
      "  90  91  92  93  94  95  96  97  98  99 100 101 102 103 104 105 106 107\n",
      " 108 109 110 111 112 113 114 115 116 117 118 119 120 121 122 123 124 125\n",
      " 126 127 128 129 130 131 132 133 134 135 136 137 138 139 140 141 142 143\n",
      " 144 145 146 147 148 149 150 151 152 153 154 155 156 157 158 159 160 161\n",
      " 162 163 164 165 166 167 168 169 170 171 172 173 174 175 176 177 178 179\n",
      " 180 181 182 183 184 185 186 187 188 189 190 191 192 193 194 195 196 197\n",
      " 198 199 200 201 202 203 204 205 206 207 208 209 210 211 212 213 214 215\n",
      " 216 217 218 219 220 221 222 223 224 225 226 227 228 229 230 231 232 233\n",
      " 234 235 236 237 238 239 240 241 242 243 244 245 246 247 248 249 250 251\n",
      " 252 253 254 255 256 257 258 259 260 261 262 263 264 265 266 267 268 269\n",
      " 270 271 272 273 274 275 276 277 278 279 280 281 282 283 284 285 286 287\n",
      " 288 289 290 291 292 293 294 295 296 297 298 299 300 301 302 303 304 305\n",
      " 306 307 308 309 310 311 312 313 314 315 316 317 318 319 320 321 322 323\n",
      " 324 325 326 327 328 329 330 331 332 333 334 335 336 337 338 339 340 341\n",
      " 342 343 344 345 346 347 348 349 350 351 352 353 354 355 356 357 358 359\n",
      " 360 361 362 363 364 365 366 367 368 369 370 371 372 373 374 375 376 377\n",
      " 378 379 380 381 382 383 384 385 386 387 388 389 390 391 392 393 394 395\n",
      " 396 397 398 399 400 401 402 403 404 405 406 407 408 409 410 411 412 413\n",
      " 414 415 416 417 418 419 420 421 422 423 424 425 426 427 428 429 430 431\n",
      " 432 433 434 435 436 437 438 439 440 441 442 443 444 445 446 447 448 449\n",
      " 450 451 452 453 454 455 456 457 458 459 460 461 462 463 464 465 466 467\n",
      " 468 469 470 471 472 473 474 475 476 477 478 479 480 481 482 483 484 485\n",
      " 486 487 488 489 490 491 492 493 494 495 496 497 498 499 500 501 502 503\n",
      " 504 505 506 507 508 509 510 511 512 513 514 515 516 517 518 519 520 521\n",
      " 522 523 524 525 526 527 528 529 530 531 532 533 534 535 536 537 538 539\n",
      " 540 541 542 543 544 545 546 547 548 549 550 551 552 553 554 555 556 557\n",
      " 558 559 560 561 562 563 564 565 566 567 568 569 570 571 572 573 574 575\n",
      " 576 577 578 579 580 581 582 583 584 585 586 587 588 589 590 591 592 593\n",
      " 594 595 596 597 598 599 600 601 602 603 604 605 606 607 608 609 610 611\n",
      " 612 613 614 615 616 617 618 619 620 621 622 623 624 625 626 627 628 629\n",
      " 630 631 632 633 634 635 636 637 638 639 640 641 642 643 644 645 646 647\n",
      " 648 649 650 651 652 653 654 655 656 657 658 659 660 661 662 663 664 665\n",
      " 666 667 668 669 670 671 672 673 674 675 676 677 678 679 680 681 682 683\n",
      " 684 685 686 687 688 689 690 691 692 693 694 695 696 697 698 699 700 701\n",
      " 702 703 704 705 706 707 708 709 710 711 712 713 714 715 716 717 718 719\n",
      " 720 721 722 723 724 725 726 727 728 729 730 731 732 733 734 735 736 737\n",
      " 738 739 740 741 742 743 744 745 746 747 748 749 750 751 752 753 754 755\n",
      " 756 757 758 759 760 761 762 763 764 765 766 767 768 769 770 771 772 773\n",
      " 774 775 776 777 778 779 780 781 782 783 784 785 786 787 788 789] contained NaN values and the row(s) have been removed (Rows are zero indexed).\n",
      "  warnings.warn(\"Row(s) {} contained NaN values and the row(s) have been \"\n"
     ]
    },
    {
     "name": "stdout",
     "output_type": "stream",
     "text": [
      "fit=0.911\n",
      "i=431 starts\n"
     ]
    },
    {
     "name": "stderr",
     "output_type": "stream",
     "text": [
      "c:\\Users\\User\\Anaconda3\\envs\\pytorch2\\Lib\\site-packages\\HydroErr\\HydroErr.py:6248: UserWarning: Row(s) [6495] contained NaN values and the row(s) have been removed (Rows are zero indexed).\n",
      "  warnings.warn(\"Row(s) {} contained NaN values and the row(s) have been \"\n"
     ]
    },
    {
     "name": "stdout",
     "output_type": "stream",
     "text": [
      "fit=0.879\n",
      "i=432 starts\n",
      "fit=0.823\n",
      "i=433 starts\n",
      "fit=0.849\n",
      "i=434 starts\n",
      "fit=0.901\n",
      "i=435 starts\n",
      "fit=0.836\n",
      "i=436 starts\n",
      "fit=0.86\n",
      "i=437 starts\n",
      "fit=0.946\n",
      "i=438 starts\n",
      "fit=0.885\n",
      "i=439 starts\n"
     ]
    },
    {
     "name": "stderr",
     "output_type": "stream",
     "text": [
      "c:\\Users\\User\\Anaconda3\\envs\\pytorch2\\Lib\\site-packages\\HydroErr\\HydroErr.py:6248: UserWarning: Row(s) [  0   1   2   3   4   5   6   7   8   9  10  11  12  13  14  15  16  17\n",
      "  18  19  20  21  22  23  24  25  26  27  28  29  30  31  32  33  34  35\n",
      "  36  37  38  39  40  41  42  43  44  45  46  47  48  49  50  51  52  53\n",
      "  54  55  56  57  58  59  60  61  62  63  64  65  66  67  68  69  70  71\n",
      "  72  73  74  75  76  77  78  79  80  81  82  83  84  85  86  87  88  89\n",
      "  90  91  92  93  94  95  96  97  98  99 100 101 102 103 104 105 106 107\n",
      " 108 109 110 111 112 113 114 115 116 117 118 119 120 121 122 123 124 125\n",
      " 126 127 128 129 130 131 132 133 134 135 136 137 138 139 140 141 142 143\n",
      " 144 145 146 147 148 149 150 151 152 153 154 155 156 157 158 159 160 161\n",
      " 162 163 164 165 166 167 168 169 170 171 172 173 174 175 176 177 178 179\n",
      " 180 181 182 183 184 185 186 187 188 189 190 191 192 193 194 195 196 197\n",
      " 198 199 200 201 202 203 204 205 206 207 208 209 210 211 212 213 214 215\n",
      " 216 217 218 219 220 221 222 223 224 225 226 227 228 229 230 231 232 233\n",
      " 234 235 236 237 238 239 240 241 242 243 244 245 246 247 248 249 250 251\n",
      " 252 253 254 255 256 257 258 259 260 261 262 263 264 265 266 267 268 269\n",
      " 270 271 272 273 274 275 276 277 278 279 280 281 282 283 284 285 286 287\n",
      " 288 289 290 291 292 293 294 295 296 297 298 299 300 301 302 303 304 305\n",
      " 306 307 308 309 310 311 312 313 314 315 316 317 318 319 320 321 322 323\n",
      " 324 325 326 327 328 329 330 331 332 333 334 335 336 337 338 339 340 341\n",
      " 342 343 344 345 346 347 348 349 350 351 352 353 354 355 356 357 358 359\n",
      " 360 361 362 363 364 365 366 367 368 369 370 371 372 373 374 375 376 377\n",
      " 378 379 380 381 382 383 384 385 386 387 388 389 390 391 392 393 394 395\n",
      " 396 397 398 399 400 401 402 403 404 405 406 407 408 409 410 411 412 413\n",
      " 414 415 416 417 418 419 420 421 422 423 424 425 426 427 428 429 430 431\n",
      " 432 433 434 435 436 437 438 439 440 441 442 443 444 445 446 447 448 449\n",
      " 450 451 452 453 454 455 456 457 458 459 460 461 462 463 464 465 466 467\n",
      " 468 469 470 471 472 473 474 475 476 477 478 479 480 481 482 483 484 485\n",
      " 486 487 488 489 490 491 492 493 494 495 496 497 498 499 500 501 502 503\n",
      " 504 505 506 507 508 509 510 511 512 513 514 515 516 517 518 519 520 521\n",
      " 522 523 524 525 526 527 528 529 530 531 532 533 534 535 536 537 538 539\n",
      " 540 541 542 543 544 545 546 547 548 549 550 551 552 553 554 555 556 557\n",
      " 558 559 560 561 562 563 564 565 566 567 568 569 570 571 572 573 574 575\n",
      " 576 577 578 579 580 581 582 583 584 585 586 587 588 589 590 591 592 593\n",
      " 594 595 596 597 598 599 600 601 602 603 604 605 606 607 608 609 610 611\n",
      " 612 613 614 615 616 617 618 619 620 621 622 623 624 625 626 627 628 629\n",
      " 630 631 632 633 634 635 636 637] contained NaN values and the row(s) have been removed (Rows are zero indexed).\n",
      "  warnings.warn(\"Row(s) {} contained NaN values and the row(s) have been \"\n"
     ]
    },
    {
     "name": "stdout",
     "output_type": "stream",
     "text": [
      "fit=0.848\n",
      "i=440 starts\n"
     ]
    },
    {
     "name": "stderr",
     "output_type": "stream",
     "text": [
      "c:\\Users\\User\\Anaconda3\\envs\\pytorch2\\Lib\\site-packages\\HydroErr\\HydroErr.py:6248: UserWarning: Row(s) [  0   1   2   3   4   5   6   7   8   9  10  11  12  13  14  15  16  17\n",
      "  18  19  20  21  22  23  24  25  26  27  28  29  30  31  32  33  34  35\n",
      "  36  37  38  39  40  41  42  43  44  45  46  47  48  49  50  51  52  53\n",
      "  54  55  56  57  58  59  60  61  62  63  64  65  66  67  68  69  70  71\n",
      "  72  73  74  75  76  77  78  79  80  81  82  83  84  85  86  87  88  89\n",
      "  90  91  92  93  94  95  96  97  98  99 100 101 102 103 104 105 106 107\n",
      " 108 109 110 111 112 113 114 115 116 117 118 119 120 121 122 123 124 125\n",
      " 126 127 128 129 130 131 132 133 134 135 136 137 138 139 140 141 142 143\n",
      " 144 145 146 147 148 149 150 151 152 153 154 155 156 157 158 159 160 161\n",
      " 162 163 164 165 166 167 168 169 170 171 172 173 174 175 176 177 178 179\n",
      " 180 181 182 183 184 185 186 187 188 189 190 191 192 193 194 195 196 197\n",
      " 198 199 200 201 202 203 204 205 206 207 208 209 210 211 212 213 214 215\n",
      " 216 217 218 219 220 221 222 223 224 225 226 227 228 229 230 231 232 233\n",
      " 234 235 236 237 238 239 240 241 242 243 244 245 246 247 248 249 250 251\n",
      " 252 253 254 255 256 257 258 259 260 261 262 263 264 265 266 267 268 269\n",
      " 270 271 272 273 274 275 276 277 278 279 280 281 282 283 284 285 286 287\n",
      " 288 289 290 291 292 293 294 295 296 297 298 299 300 301 302 303 304 305\n",
      " 306 307 308 309 310 311 312 313 314 315 316 317 318 319 320 321 322 323\n",
      " 324 325 326 327 328 329 330 331 332 333 334 335 336 337 338 339 340 341\n",
      " 342 343 344 345 346 347 348 349 350 351 352 353 354 355 356 357 358 359\n",
      " 360 361 362 363 364 365 366 367 368 369 370 371 372 373 374 375 376 377\n",
      " 378 379 380 381 382 383 384 385 386 387 388 389 390 391 392 393 394 395\n",
      " 396 397 398 399 400 401 402 403 404 405 406 407 408 409 410 411 412 413\n",
      " 414 415 416 417 418 419 420 421 422 423 424 425 426 427 428 429 430 431\n",
      " 432 433 434 435 436 437 438 439 440 441 442 443 444 445 446 447 448 449\n",
      " 450 451 452 453 454 455 456 457 458 459 460 461 462 463 464 465 466 467\n",
      " 468 469 470 471 472 473 474 475 476 477 478 479 480 481 482 483 484 485\n",
      " 486 487 488 489 490 491 492 493 494 495 496 497 498 499 500 501 502 503\n",
      " 504 505 506 507 508 509 510 511 512 513 514 515 516 517 518 519 520 521\n",
      " 522 523 524 525 526 527 528 529 530 531 532 533 534 535 536 537 538 539\n",
      " 540 541 542 543 544 545 546 547 548 549 550 551 552 553 554 555 556 557\n",
      " 558 559 560 561 562 563 564 565 566 567 568 569 570 571 572 573 574 575\n",
      " 576 577 578 579 580 581 582 583 584 585 586 587 588 589 590 591 592 593\n",
      " 594 595 596 597 598 599 600 601 602 603 604 605 606 607 608 609 610 611\n",
      " 612 613 614 615 616 617 618 619 620 621 622 623 624 625 626 627 628 629\n",
      " 630 631 632 633 634 635 636 637 638 639 640 641 642 643 644 645 646 647\n",
      " 648 649 650 651 652 653 654 655 656 657 658 659 660 661 662 663 664 665\n",
      " 666 667 668 669 670 671 672 673 674 675 676 677 678 679 680 681 682 683\n",
      " 684 685 686 687 688 689 690 691 692 693 694 695 696 697 698 699 700 701\n",
      " 702 703 704 705 706 707 708 709 710 711 712 713 714 715 716 717 718 719\n",
      " 720 721 722 723 724 725 726 727 728 729 730 731 732 733 734 735 736 737\n",
      " 738 739 740 741 742 743 744 745 746 747 748 749 750 751 752 753 754 755\n",
      " 756 757 758 759 760] contained NaN values and the row(s) have been removed (Rows are zero indexed).\n",
      "  warnings.warn(\"Row(s) {} contained NaN values and the row(s) have been \"\n"
     ]
    },
    {
     "name": "stdout",
     "output_type": "stream",
     "text": [
      "fit=0.914\n",
      "i=441 starts\n",
      "fit=0.853\n",
      "i=442 starts\n",
      "fit=0.914\n",
      "i=443 starts\n",
      "fit=0.906\n",
      "i=444 starts\n",
      "fit=0.822\n",
      "i=445 starts\n",
      "fit=0.898\n",
      "i=446 starts\n"
     ]
    },
    {
     "name": "stderr",
     "output_type": "stream",
     "text": [
      "c:\\Users\\User\\Anaconda3\\envs\\pytorch2\\Lib\\site-packages\\HydroErr\\HydroErr.py:6248: UserWarning: Row(s) [  0   1   2   3   4   5   6   7   8   9  10  11  12  13  14  15  16  17\n",
      "  18  19  20  21  22  23  24  25  26  27  28  29  30  31  32  33  34  35\n",
      "  36  37  38  39  40  41  42  43  44  45  46  47  48  49  50  51  52  53\n",
      "  54  55  56  57  58  59  60  61  62  63  64  65  66  67  68  69  70  71\n",
      "  72  73  74  75  76  77  78  79  80  81  82  83  84  85  86  87  88  89\n",
      "  90  91  92  93  94  95  96  97  98  99 100 101 102 103 104 105 106 107\n",
      " 108 109 110 111 112 113 114 115 116 117 118 119 120 121 122 123 124 125\n",
      " 126 127 128 129 130 131 132 133 134 135 136 137 138 139 140 141 142 143\n",
      " 144 145 146 147 148 149 150 151 152 153 154 155 156 157 158 159 160 161\n",
      " 162 163 164 165 166 167 168 169 170 171 172 173 174 175 176 177 178 179\n",
      " 180 181 182 183 184 185 186 187 188 189 190 191 192 193 194 195 196 197\n",
      " 198 199 200 201 202 203 204 205 206 207 208 209 210 211 212 213 214 215\n",
      " 216 217 218 219 220 221 222 223 224 225 226 227 228 229 230 231 232 233\n",
      " 234 235 236 237 238 239 240 241 242 243 244 245 246 247 248 249 250 251\n",
      " 252 253 254 255 256 257 258 259 260 261 262 263 264 265 266 267 268 269] contained NaN values and the row(s) have been removed (Rows are zero indexed).\n",
      "  warnings.warn(\"Row(s) {} contained NaN values and the row(s) have been \"\n"
     ]
    },
    {
     "name": "stdout",
     "output_type": "stream",
     "text": [
      "fit=0.567\n",
      "i=447 starts\n",
      "fit=0.896\n",
      "i=448 starts\n",
      "fit=0.809\n",
      "i=449 starts\n",
      "fit=0.887\n",
      "i=450 starts\n",
      "fit=0.922\n",
      "i=451 starts\n",
      "fit=0.749\n",
      "i=452 starts\n",
      "fit=0.805\n",
      "i=453 starts\n",
      "fit=0.846\n",
      "i=454 starts\n",
      "fit=0.664\n",
      "i=455 starts\n",
      "fit=0.844\n",
      "i=456 starts\n",
      "fit=0.865\n",
      "i=457 starts\n",
      "fit=0.73\n",
      "i=458 starts\n"
     ]
    },
    {
     "name": "stderr",
     "output_type": "stream",
     "text": [
      "c:\\Users\\User\\Anaconda3\\envs\\pytorch2\\Lib\\site-packages\\HydroErr\\HydroErr.py:6248: UserWarning: Row(s) [ 273  274  275 ... 2585 2586 2587] contained NaN values and the row(s) have been removed (Rows are zero indexed).\n",
      "  warnings.warn(\"Row(s) {} contained NaN values and the row(s) have been \"\n"
     ]
    },
    {
     "name": "stdout",
     "output_type": "stream",
     "text": [
      "fit=0.818\n",
      "i=459 starts\n",
      "fit=0.844\n",
      "i=460 starts\n",
      "fit=0.892\n",
      "i=461 starts\n",
      "fit=0.854\n",
      "i=462 starts\n",
      "fit=0.59\n",
      "i=463 starts\n"
     ]
    },
    {
     "name": "stderr",
     "output_type": "stream",
     "text": [
      "c:\\Users\\User\\Anaconda3\\envs\\pytorch2\\Lib\\site-packages\\HydroErr\\HydroErr.py:6248: UserWarning: Row(s) [6564 6565 6566 6567 6568 6569 6570 6571 6572 6573 6574] contained NaN values and the row(s) have been removed (Rows are zero indexed).\n",
      "  warnings.warn(\"Row(s) {} contained NaN values and the row(s) have been \"\n"
     ]
    },
    {
     "name": "stdout",
     "output_type": "stream",
     "text": [
      "fit=0.802\n",
      "i=464 starts\n",
      "fit=0.881\n",
      "i=465 starts\n",
      "fit=0.898\n",
      "i=466 starts\n",
      "fit=0.875\n",
      "i=467 starts\n",
      "fit=0.931\n",
      "i=468 starts\n",
      "fit=0.904\n",
      "i=469 starts\n",
      "fit=0.907\n",
      "i=470 starts\n",
      "fit=0.922\n",
      "i=471 starts\n",
      "fit=0.831\n",
      "i=472 starts\n",
      "fit=0.903\n",
      "i=473 starts\n",
      "fit=0.892\n",
      "i=474 starts\n",
      "fit=0.92\n",
      "i=475 starts\n",
      "fit=0.895\n",
      "i=476 starts\n",
      "fit=0.914\n",
      "i=477 starts\n",
      "fit=0.861\n",
      "i=478 starts\n",
      "fit=0.905\n",
      "i=479 starts\n",
      "fit=0.849\n",
      "i=480 starts\n",
      "fit=0.933\n",
      "i=481 starts\n",
      "fit=0.933\n"
     ]
    }
   ],
   "source": [
    "num_generations = 500\n",
    "num_parents_mating = 10\n",
    "sol_per_pop=100\n",
    "\n",
    "calibrate_KGES = np.ones(catchments.__len__())\n",
    "calibrate_NSES = np.ones(catchments.__len__())\n",
    "\n",
    "test_KGES = np.ones(catchments.__len__())\n",
    "test_NSES = np.ones(catchments.__len__())\n",
    "\n",
    "camels_embeddings = np.ones([catchments.__len__(), 8])\n",
    "\n",
    "\n",
    "for i in range(catchments.__len__()): #catchments.__len__()\n",
    "    print(f'i={i} starts')\n",
    "\n",
    "    data_train = np.genfromtxt(catchments[\"data_train\"][i], delimiter=\",\")\n",
    "    data_test = np.genfromtxt(catchments[\"data_test\"][i], delimiter=\",\")\n",
    "    \n",
    "    x_cal = torch.from_numpy(data_train[:, 0:3]).unsqueeze(0).to(dtype=torch.float32)\n",
    "    y_cal = torch.from_numpy(data_train[:, 3]).unsqueeze(0).to(dtype=torch.float32)\n",
    "    \n",
    "    x_test = torch.from_numpy(data_test[:, 0:3]).unsqueeze(0).to(dtype=torch.float32)\n",
    "    y_test = torch.from_numpy(data_test[:, 3]).unsqueeze(0).to(dtype=torch.float32)\n",
    "    \n",
    "    num_genes = 8\n",
    "\n",
    "    init_range_low = -11\n",
    "    init_range_high = 11\n",
    "\n",
    "    parent_selection_type = \"sss\"\n",
    "\n",
    "    crossover_type = \"single_point\"\n",
    "\n",
    "    mutation_type = \"random\"\n",
    "    mutation_probability = 0.25\n",
    "\n",
    "    fn_cal = Objective_builder(x_cal, y_cal)\n",
    "    fn_test = Objective_builder(x_test, y_test)\n",
    "    \n",
    "    ga_instance = pygad.GA(\n",
    "        num_generations=num_generations,\n",
    "        num_parents_mating=num_parents_mating,\n",
    "        fitness_func=fn_cal.eval,\n",
    "        sol_per_pop=sol_per_pop,\n",
    "        num_genes=num_genes,\n",
    "        init_range_low=init_range_low,\n",
    "        init_range_high=init_range_high,\n",
    "        parent_selection_type=parent_selection_type,\n",
    "        crossover_type=crossover_type,\n",
    "        mutation_type=mutation_type,\n",
    "        mutation_probability=mutation_probability,\n",
    "        stop_criteria=\"saturate_10\"\n",
    "    )\n",
    "    \n",
    "    # run simulation\n",
    "    ga_instance.run()\n",
    "    \n",
    "    chart_cal = fn_cal.pred(ga_instance.best_solution()[0])    \n",
    "    chart_test = fn_test.pred(ga_instance.best_solution()[0])\n",
    "    \n",
    "    # gof\n",
    "    kge_cal = round(HydroErr.kge_2009(simulated_array=chart_cal[ \"Simulated [mm/day]\"], observed_array=chart_cal[ \"Observation [mm/day]\"]),3)# round(ga_instance.best_solution()[1], 3)\n",
    "    kge_test = round(HydroErr.kge_2009(simulated_array=chart_test[ \"Simulated [mm/day]\"], observed_array=chart_test[ \"Observation [mm/day]\"]),3)# round(fn_test.eval(0, ga_instance.best_solution()[0], 0), 3)\n",
    "    \n",
    "    nse_cal = round(HydroErr.nse(simulated_array=chart_cal[ \"Simulated [mm/day]\"], observed_array=chart_cal[ \"Observation [mm/day]\"]),3)# round(ga_instance.best_solution()[1], 3)\n",
    "    nse_test = round(HydroErr.nse(simulated_array=chart_test[ \"Simulated [mm/day]\"], observed_array=chart_test[ \"Observation [mm/day]\"]),3)# round(fn_test.eval(0, ga_instance.best_solution()[0], 0), 3)\n",
    "\n",
    "    camels_embeddings[i,:] = ga_instance.best_solution()[0]\n",
    "    \n",
    "    calibrate_KGES[i]=kge_cal\n",
    "    test_KGES[i]=kge_test\n",
    "    calibrate_NSES[i]=nse_cal\n",
    "    test_NSES[i]=nse_test\n",
    "    \n",
    "    print(f'fit={test_KGES[i]}')"
   ]
  },
  {
   "cell_type": "code",
   "execution_count": 9,
   "metadata": {},
   "outputs": [],
   "source": [
    "np.savetxt(\"data/calibrate_KGES.csv\", calibrate_KGES, delimiter=\",\")\n",
    "np.savetxt(\"data/test_KGES.csv\", test_KGES, delimiter=\",\")\n",
    "\n",
    "np.savetxt(\"data/calibrate_NSES.csv\", calibrate_NSES, delimiter=\",\")\n",
    "np.savetxt(\"data/test_NSES.csv\", test_NSES, delimiter=\",\")\n",
    "\n",
    "np.savetxt(\"data/camels_embeddings.csv\", camels_embeddings, delimiter=\",\")"
   ]
  }
 ],
 "metadata": {
  "kernelspec": {
   "display_name": "streamlitenv",
   "language": "python",
   "name": "python3"
  },
  "language_info": {
   "codemirror_mode": {
    "name": "ipython",
    "version": 3
   },
   "file_extension": ".py",
   "mimetype": "text/x-python",
   "name": "python",
   "nbconvert_exporter": "python",
   "pygments_lexer": "ipython3",
   "version": "3.11.4"
  }
 },
 "nbformat": 4,
 "nbformat_minor": 2
}
