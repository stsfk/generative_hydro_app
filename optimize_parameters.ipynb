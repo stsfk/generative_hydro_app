{
 "cells": [
  {
   "cell_type": "code",
   "execution_count": 1,
   "metadata": {},
   "outputs": [
    {
     "name": "stderr",
     "output_type": "stream",
     "text": [
      "C:\\Users\\Public\\Documents\\Wondershare\\CreatorTemp\\ipykernel_11692\\3086444182.py:5: DeprecationWarning: \n",
      "Pyarrow will become a required dependency of pandas in the next major release of pandas (pandas 3.0),\n",
      "(to allow more performant data types, such as the Arrow string type, and better interoperability with other libraries)\n",
      "but was not found to be installed on your system.\n",
      "If this would cause problems for you,\n",
      "please provide us feedback at https://github.com/pandas-dev/pandas/issues/54466\n",
      "        \n",
      "  import pandas as pd\n"
     ]
    }
   ],
   "source": [
    "import torch\n",
    "import torch.nn as nn\n",
    "import torch.optim as optim\n",
    "\n",
    "import pandas as pd\n",
    "\n",
    "from torch.utils.data import Dataset\n",
    "\n",
    "import numpy as np\n",
    "\n",
    "import HydroErr\n",
    "\n",
    "import pygad"
   ]
  },
  {
   "cell_type": "code",
   "execution_count": 2,
   "metadata": {},
   "outputs": [],
   "source": [
    "DEVICE = torch.device(\"cuda\" if torch.cuda.is_available() else \"cpu\")\n",
    "\n",
    "DEVICE = \"cpu\""
   ]
  },
  {
   "cell_type": "code",
   "execution_count": 3,
   "metadata": {},
   "outputs": [
    {
     "data": {
      "text/plain": [
       "LSTM_decoder(\n",
       "  (lstm): LSTM(11, 177, batch_first=True)\n",
       "  (fc_layers): TimeDistributed(\n",
       "    (module): Sequential(\n",
       "      (0): Linear(in_features=177, out_features=3, bias=True)\n",
       "      (1): ReLU()\n",
       "      (2): Dropout(p=0, inplace=False)\n",
       "      (3): Linear(in_features=3, out_features=4, bias=True)\n",
       "      (4): ReLU()\n",
       "      (5): Dropout(p=0, inplace=False)\n",
       "      (6): Linear(in_features=4, out_features=13, bias=True)\n",
       "      (7): ReLU()\n",
       "      (8): Dropout(p=0, inplace=False)\n",
       "      (9): Linear(in_features=13, out_features=1, bias=True)\n",
       "    )\n",
       "  )\n",
       ")"
      ]
     },
     "execution_count": 3,
     "metadata": {},
     "output_type": "execute_result"
    }
   ],
   "source": [
    "# load model\n",
    "decoder = torch.load(\n",
    "    \"data/final_lstm_decoder_test.pt\", map_location=torch.device(\"cpu\")\n",
    ")\n",
    "\n",
    "decoder.eval()\n",
    "decoder.to(DEVICE)"
   ]
  },
  {
   "cell_type": "code",
   "execution_count": 4,
   "metadata": {},
   "outputs": [
    {
     "data": {
      "text/html": [
       "<div>\n",
       "<style scoped>\n",
       "    .dataframe tbody tr th:only-of-type {\n",
       "        vertical-align: middle;\n",
       "    }\n",
       "\n",
       "    .dataframe tbody tr th {\n",
       "        vertical-align: top;\n",
       "    }\n",
       "\n",
       "    .dataframe thead th {\n",
       "        text-align: right;\n",
       "    }\n",
       "</style>\n",
       "<table border=\"1\" class=\"dataframe\">\n",
       "  <thead>\n",
       "    <tr style=\"text-align: right;\">\n",
       "      <th></th>\n",
       "      <th>gauge_id</th>\n",
       "      <th>gauge_name</th>\n",
       "      <th>data_all</th>\n",
       "      <th>data_train</th>\n",
       "      <th>data_test</th>\n",
       "    </tr>\n",
       "  </thead>\n",
       "  <tbody>\n",
       "    <tr>\n",
       "      <th>0</th>\n",
       "      <td>01022500</td>\n",
       "      <td>Narraguagus River at Cherryfield, Maine</td>\n",
       "      <td>./data/Caravan-CAMELS/01022500.csv</td>\n",
       "      <td>./data/Caravan-CAMELS/01022500_train.csv</td>\n",
       "      <td>./data/Caravan-CAMELS/01022500_test.csv</td>\n",
       "    </tr>\n",
       "    <tr>\n",
       "      <th>1</th>\n",
       "      <td>01031500</td>\n",
       "      <td>Piscataquis River near Dover-Foxcroft, Maine</td>\n",
       "      <td>./data/Caravan-CAMELS/01031500.csv</td>\n",
       "      <td>./data/Caravan-CAMELS/01031500_train.csv</td>\n",
       "      <td>./data/Caravan-CAMELS/01031500_test.csv</td>\n",
       "    </tr>\n",
       "    <tr>\n",
       "      <th>2</th>\n",
       "      <td>01047000</td>\n",
       "      <td>Carrabassett River near North Anson, Maine</td>\n",
       "      <td>./data/Caravan-CAMELS/01047000.csv</td>\n",
       "      <td>./data/Caravan-CAMELS/01047000_train.csv</td>\n",
       "      <td>./data/Caravan-CAMELS/01047000_test.csv</td>\n",
       "    </tr>\n",
       "    <tr>\n",
       "      <th>3</th>\n",
       "      <td>01052500</td>\n",
       "      <td>Diamond River near Wentworth Location, NH</td>\n",
       "      <td>./data/Caravan-CAMELS/01052500.csv</td>\n",
       "      <td>./data/Caravan-CAMELS/01052500_train.csv</td>\n",
       "      <td>./data/Caravan-CAMELS/01052500_test.csv</td>\n",
       "    </tr>\n",
       "    <tr>\n",
       "      <th>4</th>\n",
       "      <td>01054200</td>\n",
       "      <td>Wild River at Gilead, Maine</td>\n",
       "      <td>./data/Caravan-CAMELS/01054200.csv</td>\n",
       "      <td>./data/Caravan-CAMELS/01054200_train.csv</td>\n",
       "      <td>./data/Caravan-CAMELS/01054200_test.csv</td>\n",
       "    </tr>\n",
       "    <tr>\n",
       "      <th>...</th>\n",
       "      <td>...</td>\n",
       "      <td>...</td>\n",
       "      <td>...</td>\n",
       "      <td>...</td>\n",
       "      <td>...</td>\n",
       "    </tr>\n",
       "    <tr>\n",
       "      <th>477</th>\n",
       "      <td>14308990</td>\n",
       "      <td>COW CREEK ABV GALESVILLE RES, NR AZALEA, OR.</td>\n",
       "      <td>./data/Caravan-CAMELS/14308990.csv</td>\n",
       "      <td>./data/Caravan-CAMELS/14308990_train.csv</td>\n",
       "      <td>./data/Caravan-CAMELS/14308990_test.csv</td>\n",
       "    </tr>\n",
       "    <tr>\n",
       "      <th>478</th>\n",
       "      <td>14309500</td>\n",
       "      <td>WEST FORK COW CREEK NEAR GLENDALE, OR</td>\n",
       "      <td>./data/Caravan-CAMELS/14309500.csv</td>\n",
       "      <td>./data/Caravan-CAMELS/14309500_train.csv</td>\n",
       "      <td>./data/Caravan-CAMELS/14309500_test.csv</td>\n",
       "    </tr>\n",
       "    <tr>\n",
       "      <th>479</th>\n",
       "      <td>14316700</td>\n",
       "      <td>STEAMBOAT CREEK NEAR GLIDE, OR</td>\n",
       "      <td>./data/Caravan-CAMELS/14316700.csv</td>\n",
       "      <td>./data/Caravan-CAMELS/14316700_train.csv</td>\n",
       "      <td>./data/Caravan-CAMELS/14316700_test.csv</td>\n",
       "    </tr>\n",
       "    <tr>\n",
       "      <th>480</th>\n",
       "      <td>14325000</td>\n",
       "      <td>SOUTH FORK COQUILLE RIVER AT POWERS, OR</td>\n",
       "      <td>./data/Caravan-CAMELS/14325000.csv</td>\n",
       "      <td>./data/Caravan-CAMELS/14325000_train.csv</td>\n",
       "      <td>./data/Caravan-CAMELS/14325000_test.csv</td>\n",
       "    </tr>\n",
       "    <tr>\n",
       "      <th>481</th>\n",
       "      <td>14400000</td>\n",
       "      <td>CHETCO RIVER NEAR BROOKINGS, OR</td>\n",
       "      <td>./data/Caravan-CAMELS/14400000.csv</td>\n",
       "      <td>./data/Caravan-CAMELS/14400000_train.csv</td>\n",
       "      <td>./data/Caravan-CAMELS/14400000_test.csv</td>\n",
       "    </tr>\n",
       "  </tbody>\n",
       "</table>\n",
       "<p>482 rows × 5 columns</p>\n",
       "</div>"
      ],
      "text/plain": [
       "     gauge_id                                    gauge_name  \\\n",
       "0    01022500       Narraguagus River at Cherryfield, Maine   \n",
       "1    01031500  Piscataquis River near Dover-Foxcroft, Maine   \n",
       "2    01047000    Carrabassett River near North Anson, Maine   \n",
       "3    01052500     Diamond River near Wentworth Location, NH   \n",
       "4    01054200                   Wild River at Gilead, Maine   \n",
       "..        ...                                           ...   \n",
       "477  14308990  COW CREEK ABV GALESVILLE RES, NR AZALEA, OR.   \n",
       "478  14309500         WEST FORK COW CREEK NEAR GLENDALE, OR   \n",
       "479  14316700                STEAMBOAT CREEK NEAR GLIDE, OR   \n",
       "480  14325000       SOUTH FORK COQUILLE RIVER AT POWERS, OR   \n",
       "481  14400000               CHETCO RIVER NEAR BROOKINGS, OR   \n",
       "\n",
       "                               data_all  \\\n",
       "0    ./data/Caravan-CAMELS/01022500.csv   \n",
       "1    ./data/Caravan-CAMELS/01031500.csv   \n",
       "2    ./data/Caravan-CAMELS/01047000.csv   \n",
       "3    ./data/Caravan-CAMELS/01052500.csv   \n",
       "4    ./data/Caravan-CAMELS/01054200.csv   \n",
       "..                                  ...   \n",
       "477  ./data/Caravan-CAMELS/14308990.csv   \n",
       "478  ./data/Caravan-CAMELS/14309500.csv   \n",
       "479  ./data/Caravan-CAMELS/14316700.csv   \n",
       "480  ./data/Caravan-CAMELS/14325000.csv   \n",
       "481  ./data/Caravan-CAMELS/14400000.csv   \n",
       "\n",
       "                                   data_train  \\\n",
       "0    ./data/Caravan-CAMELS/01022500_train.csv   \n",
       "1    ./data/Caravan-CAMELS/01031500_train.csv   \n",
       "2    ./data/Caravan-CAMELS/01047000_train.csv   \n",
       "3    ./data/Caravan-CAMELS/01052500_train.csv   \n",
       "4    ./data/Caravan-CAMELS/01054200_train.csv   \n",
       "..                                        ...   \n",
       "477  ./data/Caravan-CAMELS/14308990_train.csv   \n",
       "478  ./data/Caravan-CAMELS/14309500_train.csv   \n",
       "479  ./data/Caravan-CAMELS/14316700_train.csv   \n",
       "480  ./data/Caravan-CAMELS/14325000_train.csv   \n",
       "481  ./data/Caravan-CAMELS/14400000_train.csv   \n",
       "\n",
       "                                   data_test  \n",
       "0    ./data/Caravan-CAMELS/01022500_test.csv  \n",
       "1    ./data/Caravan-CAMELS/01031500_test.csv  \n",
       "2    ./data/Caravan-CAMELS/01047000_test.csv  \n",
       "3    ./data/Caravan-CAMELS/01052500_test.csv  \n",
       "4    ./data/Caravan-CAMELS/01054200_test.csv  \n",
       "..                                       ...  \n",
       "477  ./data/Caravan-CAMELS/14308990_test.csv  \n",
       "478  ./data/Caravan-CAMELS/14309500_test.csv  \n",
       "479  ./data/Caravan-CAMELS/14316700_test.csv  \n",
       "480  ./data/Caravan-CAMELS/14325000_test.csv  \n",
       "481  ./data/Caravan-CAMELS/14400000_test.csv  \n",
       "\n",
       "[482 rows x 5 columns]"
      ]
     },
     "execution_count": 4,
     "metadata": {},
     "output_type": "execute_result"
    }
   ],
   "source": [
    "catchments = pd.read_csv(\"./data/Caravan-CAMELS/catchments.csv\", dtype=str)\n",
    "catchments"
   ]
  },
  {
   "cell_type": "code",
   "execution_count": 5,
   "metadata": {},
   "outputs": [],
   "source": [
    "warm_up = 365\n",
    "\n",
    "class Objective_builder:\n",
    "    def __init__(self, x, y):\n",
    "        self.x = x.contiguous().to(DEVICE)\n",
    "        self.y = y.contiguous().to(DEVICE)\n",
    "\n",
    "    def eval(self, ga_instance, solution, solution_idx):\n",
    "        # numpy to torch tensor\n",
    "        solution = torch.from_numpy(solution).unsqueeze(0).to(dtype=torch.float32).to(DEVICE)\n",
    "        solution = solution.expand(self.x.shape[0], -1)\n",
    "\n",
    "        # BASE_LENGTH is from global\n",
    "        pred = (\n",
    "            decoder.decode(solution, self.x, base_length=warm_up)\n",
    "            .view(-1)\n",
    "            .detach()\n",
    "            .cpu()\n",
    "            .numpy()\n",
    "        )\n",
    "\n",
    "        ob = self.y.view(-1).detach().cpu().numpy()[warm_up:]\n",
    "\n",
    "        return HydroErr.kge_2009(simulated_array=pred, observed_array=ob)\n",
    "\n",
    "    def pred(self, solution):\n",
    "        # numpy to torch tensor\n",
    "        solution = torch.from_numpy(solution).unsqueeze(0).to(dtype=torch.float32)\n",
    "        solution = solution.expand(self.x.shape[0], -1).to(DEVICE)\n",
    "\n",
    "        # BASE_LENGTH is from global\n",
    "        pred = (\n",
    "            decoder.decode(solution, self.x, base_length=warm_up)\n",
    "            .view(-1)\n",
    "            .detach()\n",
    "            .cpu()\n",
    "            .numpy()\n",
    "        )\n",
    "\n",
    "        ob = self.y.view(-1).detach().cpu().numpy()[warm_up:]\n",
    "\n",
    "        d = {\n",
    "            \"Simulated [mm/day]\": pred.tolist(),\n",
    "            \"Observation [mm/day]\": ob.tolist(),\n",
    "        }\n",
    "\n",
    "        chart_data = pd.DataFrame(data=d)\n",
    "\n",
    "        return chart_data\n"
   ]
  },
  {
   "cell_type": "code",
   "execution_count": 6,
   "metadata": {},
   "outputs": [
    {
     "name": "stdout",
     "output_type": "stream",
     "text": [
      "i=0 starts\n"
     ]
    },
    {
     "name": "stderr",
     "output_type": "stream",
     "text": [
      "c:\\Users\\User\\Anaconda3\\envs\\pytorch2\\Lib\\site-packages\\HydroErr\\HydroErr.py:6248: UserWarning: Row(s) [6483 6484 6485 6486 6487 6488 6489 6490 6491 6492 6493 6494 6495 6496\n",
      " 6497 6498 6499 6500 6501 6502 6503 6504 6505 6506 6507 6508 6509 6510\n",
      " 6511 6512 6513 6514 6515 6516 6517 6518 6519 6520 6521 6522 6523 6524\n",
      " 6525 6526 6527 6528 6529 6530 6531 6532 6533 6534 6535 6536 6537 6538\n",
      " 6539 6540 6541 6542 6543 6544 6545 6546 6547 6548 6549 6550 6551 6552\n",
      " 6553 6554 6555 6556 6557 6558 6559 6560 6561 6562 6563 6564 6565 6566\n",
      " 6567 6568 6569 6570 6571 6572 6573 6574] contained NaN values and the row(s) have been removed (Rows are zero indexed).\n",
      "  warnings.warn(\"Row(s) {} contained NaN values and the row(s) have been \"\n"
     ]
    },
    {
     "name": "stdout",
     "output_type": "stream",
     "text": [
      "fit=0.853\n",
      "i=1 starts\n",
      "fit=0.857\n",
      "i=2 starts\n",
      "fit=0.827\n",
      "i=3 starts\n",
      "fit=0.837\n",
      "i=4 starts\n",
      "fit=0.805\n",
      "i=5 starts\n",
      "fit=0.821\n",
      "i=6 starts\n",
      "fit=0.827\n",
      "i=7 starts\n"
     ]
    },
    {
     "name": "stderr",
     "output_type": "stream",
     "text": [
      "c:\\Users\\User\\Anaconda3\\envs\\pytorch2\\Lib\\site-packages\\HydroErr\\HydroErr.py:6248: UserWarning: Row(s) [6526 6527 6528 6529 6530 6531 6532 6533 6534 6535 6536 6537 6538 6539\n",
      " 6540 6541 6542 6543 6544 6545 6546 6547 6548 6549 6550 6551 6552 6553\n",
      " 6554 6555 6556 6557 6558 6559 6560 6561 6562 6563 6564 6565 6566 6567\n",
      " 6568 6569 6570 6571 6572 6573 6574] contained NaN values and the row(s) have been removed (Rows are zero indexed).\n",
      "  warnings.warn(\"Row(s) {} contained NaN values and the row(s) have been \"\n"
     ]
    },
    {
     "name": "stdout",
     "output_type": "stream",
     "text": [
      "fit=0.763\n",
      "i=8 starts\n"
     ]
    },
    {
     "name": "stderr",
     "output_type": "stream",
     "text": [
      "c:\\Users\\User\\Anaconda3\\envs\\pytorch2\\Lib\\site-packages\\HydroErr\\HydroErr.py:6248: UserWarning: Row(s) [6533 6534 6535 6536 6537 6538 6539 6540 6541 6542 6543 6544 6545 6546\n",
      " 6547 6548 6549 6550 6551 6552 6553 6554 6555 6556 6557 6558 6559 6560\n",
      " 6561 6562 6563 6564 6565 6566 6567 6568 6569 6570 6571 6572 6573 6574] contained NaN values and the row(s) have been removed (Rows are zero indexed).\n",
      "  warnings.warn(\"Row(s) {} contained NaN values and the row(s) have been \"\n"
     ]
    },
    {
     "name": "stdout",
     "output_type": "stream",
     "text": [
      "fit=0.703\n",
      "i=9 starts\n"
     ]
    },
    {
     "name": "stderr",
     "output_type": "stream",
     "text": [
      "c:\\Users\\User\\Anaconda3\\envs\\pytorch2\\Lib\\site-packages\\HydroErr\\HydroErr.py:6248: UserWarning: Row(s) [6503 6504 6505 6506 6507 6508 6509 6510 6511 6512 6513 6514 6515 6516\n",
      " 6517 6518 6519 6520 6521 6522 6523 6524 6525 6526 6527 6528 6529 6530\n",
      " 6531 6532 6533 6534 6535 6536 6537 6538 6539 6540 6541 6542 6543 6544\n",
      " 6545 6546 6547 6548 6549 6550 6551 6552 6553 6554 6555 6556 6557 6558\n",
      " 6559 6560 6561 6562 6563 6564 6565 6566 6567 6568 6569 6570 6571 6572\n",
      " 6573 6574] contained NaN values and the row(s) have been removed (Rows are zero indexed).\n",
      "  warnings.warn(\"Row(s) {} contained NaN values and the row(s) have been \"\n"
     ]
    },
    {
     "name": "stdout",
     "output_type": "stream",
     "text": [
      "fit=0.794\n",
      "i=10 starts\n"
     ]
    },
    {
     "name": "stderr",
     "output_type": "stream",
     "text": [
      "c:\\Users\\User\\Anaconda3\\envs\\pytorch2\\Lib\\site-packages\\HydroErr\\HydroErr.py:6248: UserWarning: Row(s) [6545 6546 6547 6548 6549 6550 6551 6552 6553 6554 6555 6556 6557 6558\n",
      " 6559 6560 6561 6562 6563 6564 6565 6566 6567 6568 6569 6570 6571 6572\n",
      " 6573 6574] contained NaN values and the row(s) have been removed (Rows are zero indexed).\n",
      "  warnings.warn(\"Row(s) {} contained NaN values and the row(s) have been \"\n"
     ]
    },
    {
     "name": "stdout",
     "output_type": "stream",
     "text": [
      "fit=0.815\n",
      "i=11 starts\n"
     ]
    },
    {
     "name": "stderr",
     "output_type": "stream",
     "text": [
      "c:\\Users\\User\\Anaconda3\\envs\\pytorch2\\Lib\\site-packages\\HydroErr\\HydroErr.py:6248: UserWarning: Row(s) [6499 6500 6501 6502 6503 6504 6505 6506 6507 6508 6509 6510 6511 6512\n",
      " 6513 6514 6515 6516 6517 6518 6519 6520 6521 6522 6523 6524 6525 6526\n",
      " 6527 6528 6529 6530 6531 6532 6533 6534 6535 6536 6537 6538 6539 6540\n",
      " 6541 6542 6543 6544 6545 6546 6547 6548 6549 6550 6551 6552 6553 6554\n",
      " 6555 6556 6557 6558 6559 6560 6561 6562 6563 6564 6565 6566 6567 6568\n",
      " 6569 6570 6571 6572 6573 6574] contained NaN values and the row(s) have been removed (Rows are zero indexed).\n",
      "  warnings.warn(\"Row(s) {} contained NaN values and the row(s) have been \"\n"
     ]
    },
    {
     "name": "stdout",
     "output_type": "stream",
     "text": [
      "fit=0.782\n",
      "i=12 starts\n"
     ]
    },
    {
     "name": "stderr",
     "output_type": "stream",
     "text": [
      "c:\\Users\\User\\Anaconda3\\envs\\pytorch2\\Lib\\site-packages\\HydroErr\\HydroErr.py:6248: UserWarning: Row(s) [6546 6547 6548 6549 6550 6551 6552 6553 6554 6555 6556 6557 6558 6559\n",
      " 6560 6561 6562 6563 6564 6565 6566 6567 6568 6569 6570 6571 6572 6573\n",
      " 6574] contained NaN values and the row(s) have been removed (Rows are zero indexed).\n",
      "  warnings.warn(\"Row(s) {} contained NaN values and the row(s) have been \"\n"
     ]
    },
    {
     "name": "stdout",
     "output_type": "stream",
     "text": [
      "fit=0.776\n",
      "i=13 starts\n",
      "fit=0.76\n",
      "i=14 starts\n"
     ]
    },
    {
     "name": "stderr",
     "output_type": "stream",
     "text": [
      "c:\\Users\\User\\Anaconda3\\envs\\pytorch2\\Lib\\site-packages\\HydroErr\\HydroErr.py:6248: UserWarning: Row(s) [6485 6486 6487 6488 6489 6490 6491 6492 6493 6494 6495 6496 6497 6498\n",
      " 6499 6500 6501 6502 6503 6504 6505 6506 6507 6508 6509 6510 6511 6512\n",
      " 6513 6514 6515 6516 6517 6518 6519 6520 6521 6522 6523 6524 6525 6526\n",
      " 6527 6528 6529 6530 6531 6532 6533 6534 6535 6536 6537 6538 6539 6540\n",
      " 6541 6542 6543 6544 6545 6546 6547 6548 6549 6550 6551 6552 6553 6554\n",
      " 6555 6556 6557 6558 6559 6560 6561 6562 6563 6564 6565 6566 6567 6568\n",
      " 6569 6570 6571 6572 6573 6574] contained NaN values and the row(s) have been removed (Rows are zero indexed).\n",
      "  warnings.warn(\"Row(s) {} contained NaN values and the row(s) have been \"\n"
     ]
    },
    {
     "name": "stdout",
     "output_type": "stream",
     "text": [
      "fit=0.677\n",
      "i=15 starts\n"
     ]
    },
    {
     "name": "stderr",
     "output_type": "stream",
     "text": [
      "c:\\Users\\User\\Anaconda3\\envs\\pytorch2\\Lib\\site-packages\\HydroErr\\HydroErr.py:6248: UserWarning: Row(s) [6505 6506 6507 6508 6509 6510 6511 6512 6513 6514 6515 6516 6517 6518\n",
      " 6519 6520 6521 6522 6523 6524 6525 6526 6527 6528 6529 6530 6531 6532\n",
      " 6533 6534 6535 6536 6537 6538 6539 6540 6541 6542 6543 6544 6545 6546\n",
      " 6547 6548 6549 6550 6551 6552 6553 6554 6555 6556 6557 6558 6559 6560\n",
      " 6561 6562 6563 6564 6565 6566 6567 6568 6569 6570 6571 6572 6573 6574] contained NaN values and the row(s) have been removed (Rows are zero indexed).\n",
      "  warnings.warn(\"Row(s) {} contained NaN values and the row(s) have been \"\n"
     ]
    },
    {
     "name": "stdout",
     "output_type": "stream",
     "text": [
      "fit=0.691\n",
      "i=16 starts\n"
     ]
    },
    {
     "name": "stderr",
     "output_type": "stream",
     "text": [
      "c:\\Users\\User\\Anaconda3\\envs\\pytorch2\\Lib\\site-packages\\HydroErr\\HydroErr.py:6248: UserWarning: Row(s) [6118 6119 6120 6121 6122 6123 6124 6125 6126 6127 6128 6129 6130 6131\n",
      " 6132 6133 6134 6135 6136 6137 6138 6139 6140 6141 6142 6143 6144 6145\n",
      " 6146 6147 6148 6149 6150 6151 6152 6153 6154 6155 6156 6157 6158 6159\n",
      " 6160 6161 6162 6163 6164 6165 6166 6167 6168 6169 6170 6171 6172 6173\n",
      " 6174 6175 6176 6177 6178 6179 6180 6181 6182 6183 6184 6185 6186 6187\n",
      " 6188 6189 6190 6191 6192 6193 6194 6195 6196 6197 6198 6199 6200 6201\n",
      " 6202 6203 6204 6205 6206 6207 6208 6209 6210 6211 6212 6213 6214 6215\n",
      " 6216 6217 6218 6219 6220 6221 6222 6223 6224 6225 6226 6227 6228 6229\n",
      " 6230 6231 6232 6233 6234 6235 6236 6237 6238 6239 6240 6241 6242 6243\n",
      " 6244 6245 6246 6247 6248 6249 6250 6251 6252 6253 6254 6255 6256 6257\n",
      " 6258 6259 6260 6261 6262 6263 6264 6265 6266 6267 6268 6269 6270 6271\n",
      " 6272 6273 6274 6275 6276 6277 6278 6279 6280 6281 6282 6283 6284 6285\n",
      " 6286 6287 6288 6289 6290 6291 6292 6293 6294 6295 6296 6297 6298 6299\n",
      " 6300 6301 6302 6303 6304 6305 6306 6307 6308 6309 6310 6311 6312 6313\n",
      " 6314 6315 6316 6317 6318 6319 6320 6321 6322 6323 6324 6325 6326 6327\n",
      " 6328 6329 6330 6331 6332 6333 6334 6335 6336 6337 6338 6339 6340 6341\n",
      " 6342 6343 6344 6345 6346 6347 6348 6349 6350 6351 6352 6353 6354 6355\n",
      " 6356 6357 6358 6359 6360 6361 6362 6363 6364 6365 6366 6367 6368 6369\n",
      " 6370 6371 6372 6373 6374 6375 6376 6377 6378 6379 6380 6381 6382 6383\n",
      " 6384 6385 6386 6387 6388 6389 6390 6391 6392 6393 6394 6395 6396 6397\n",
      " 6398 6399 6400 6401 6402 6403 6404 6405 6406 6407 6408 6409 6410 6411\n",
      " 6412 6413 6414 6415 6416 6417 6418 6419 6420 6421 6422 6423 6424 6425\n",
      " 6426 6427 6428 6429 6430 6431 6432 6433 6434 6435 6436 6437 6438 6439\n",
      " 6440 6441 6442 6443 6444 6445 6446 6447 6448 6449 6450 6451 6452 6453\n",
      " 6454 6455 6456 6457 6458 6459 6460 6461 6462 6463 6464 6465 6466 6467\n",
      " 6468 6469 6470 6471 6472 6473 6474 6475 6476 6477 6478 6479 6480 6481\n",
      " 6482 6483 6484 6485 6486 6487 6488 6489 6490 6491 6492 6493 6494 6495\n",
      " 6496 6497 6498 6499 6500 6501 6502 6503 6504 6505 6506 6507 6508 6509\n",
      " 6510 6511 6512 6513 6514 6515 6516 6517 6518 6519 6520 6521 6522 6523\n",
      " 6524 6525 6526 6527 6528 6529 6530 6531 6532 6533 6534 6535 6536 6537\n",
      " 6538 6539 6540 6541 6542 6543 6544 6545 6546 6547 6548 6549 6550 6551\n",
      " 6552 6553 6554 6555 6556 6557 6558 6559 6560 6561 6562 6563 6564 6565\n",
      " 6566 6567 6568 6569 6570 6571 6572 6573 6574] contained NaN values and the row(s) have been removed (Rows are zero indexed).\n",
      "  warnings.warn(\"Row(s) {} contained NaN values and the row(s) have been \"\n"
     ]
    },
    {
     "name": "stdout",
     "output_type": "stream",
     "text": [
      "fit=0.583\n",
      "i=17 starts\n",
      "fit=0.66\n",
      "i=18 starts\n",
      "fit=0.681\n",
      "i=19 starts\n",
      "fit=0.681\n",
      "i=20 starts\n",
      "fit=0.708\n",
      "i=21 starts\n"
     ]
    },
    {
     "name": "stderr",
     "output_type": "stream",
     "text": [
      "c:\\Users\\User\\Anaconda3\\envs\\pytorch2\\Lib\\site-packages\\HydroErr\\HydroErr.py:6248: UserWarning: Row(s) [6483 6484 6485 6486 6487 6488 6489 6490 6491 6492 6493 6494 6495 6496\n",
      " 6497 6498 6499 6500 6501 6502 6503 6504 6505 6506 6507 6508 6509 6510\n",
      " 6511 6512 6513 6514 6515 6516 6517 6518 6519 6520 6521 6522 6523 6524\n",
      " 6525 6526 6527 6528 6529 6530 6531 6532 6533 6534 6535 6536 6537 6538\n",
      " 6539 6540 6541 6542 6543 6544 6545 6546 6547 6548 6549 6550 6551 6552] contained NaN values and the row(s) have been removed (Rows are zero indexed).\n",
      "  warnings.warn(\"Row(s) {} contained NaN values and the row(s) have been \"\n"
     ]
    },
    {
     "name": "stdout",
     "output_type": "stream",
     "text": [
      "fit=0.718\n",
      "i=22 starts\n",
      "fit=0.687\n",
      "i=23 starts\n"
     ]
    },
    {
     "name": "stderr",
     "output_type": "stream",
     "text": [
      "c:\\Users\\User\\Anaconda3\\envs\\pytorch2\\Lib\\site-packages\\HydroErr\\HydroErr.py:6248: UserWarning: Row(s) [6567 6568 6569 6570 6571 6572 6573 6574] contained NaN values and the row(s) have been removed (Rows are zero indexed).\n",
      "  warnings.warn(\"Row(s) {} contained NaN values and the row(s) have been \"\n"
     ]
    },
    {
     "name": "stdout",
     "output_type": "stream",
     "text": [
      "fit=0.677\n",
      "i=24 starts\n"
     ]
    },
    {
     "name": "stderr",
     "output_type": "stream",
     "text": [
      "c:\\Users\\User\\Anaconda3\\envs\\pytorch2\\Lib\\site-packages\\HydroErr\\HydroErr.py:6248: UserWarning: Row(s) [6547 6548 6549 6550 6551 6552 6553 6554 6555 6556 6557 6558 6559 6560\n",
      " 6561 6562 6563 6564 6565 6566 6567 6568 6569 6570 6571 6572 6573 6574] contained NaN values and the row(s) have been removed (Rows are zero indexed).\n",
      "  warnings.warn(\"Row(s) {} contained NaN values and the row(s) have been \"\n"
     ]
    },
    {
     "name": "stdout",
     "output_type": "stream",
     "text": [
      "fit=0.765\n",
      "i=25 starts\n",
      "fit=0.478\n",
      "i=26 starts\n"
     ]
    },
    {
     "name": "stderr",
     "output_type": "stream",
     "text": [
      "c:\\Users\\User\\Anaconda3\\envs\\pytorch2\\Lib\\site-packages\\HydroErr\\HydroErr.py:6248: UserWarning: Row(s) [6548 6549 6550 6551 6552 6553 6554 6555 6556 6557 6558 6559 6560 6561\n",
      " 6562 6563 6564 6565 6566 6567 6568 6569 6570 6571 6572 6573 6574] contained NaN values and the row(s) have been removed (Rows are zero indexed).\n",
      "  warnings.warn(\"Row(s) {} contained NaN values and the row(s) have been \"\n"
     ]
    },
    {
     "name": "stdout",
     "output_type": "stream",
     "text": [
      "fit=0.504\n",
      "i=27 starts\n",
      "fit=0.45\n",
      "i=28 starts\n"
     ]
    },
    {
     "name": "stderr",
     "output_type": "stream",
     "text": [
      "c:\\Users\\User\\Anaconda3\\envs\\pytorch2\\Lib\\site-packages\\HydroErr\\HydroErr.py:6248: UserWarning: Row(s) [5022 5023 5024 5025 5026 5027 5028 5029 5030 5031 5032 5033 5034 5035\n",
      " 5036 5037 5038 5039 5040 5041 5042 5043 5044 5045 5046 5047 5048 5049\n",
      " 5050 5051 5052 5053 5054 5055 5056 5057 5058 5059 5060 5061 5062 5063\n",
      " 5064 5065 5066 5067 5068 5069 5070 5071 5072 5073 5074 5075 5076 5077\n",
      " 5078 5079 5080 5081 5082 5083 5084 5085 5086 5087 5088 5089 5090 5091\n",
      " 5092 5093 5094 5095 5096 5097 5098 5099 5100 5101 5102 5103 5104 5105\n",
      " 5106 5107 5108 5109 5110 5111 5112 5113 6483 6484 6485 6486 6487 6488\n",
      " 6489 6490 6491 6492 6493 6494 6495 6496 6497 6498 6499 6500 6501 6502\n",
      " 6503 6504 6505 6506 6507 6508 6509 6510 6511 6512 6513 6514 6515 6516\n",
      " 6517 6518 6519 6520 6521 6522 6523 6524 6525 6526 6527 6528 6529 6530\n",
      " 6531 6532 6533 6534 6535 6536 6537 6538 6539 6540 6541 6542 6543 6544\n",
      " 6545 6546 6547 6548 6549 6550 6551 6552 6553 6554 6555 6556 6557 6558\n",
      " 6559 6560 6561 6562 6563 6564 6565 6566 6567 6568 6569 6570 6571 6572\n",
      " 6573 6574] contained NaN values and the row(s) have been removed (Rows are zero indexed).\n",
      "  warnings.warn(\"Row(s) {} contained NaN values and the row(s) have been \"\n"
     ]
    },
    {
     "name": "stdout",
     "output_type": "stream",
     "text": [
      "fit=0.769\n",
      "i=29 starts\n"
     ]
    },
    {
     "name": "stderr",
     "output_type": "stream",
     "text": [
      "c:\\Users\\User\\Anaconda3\\envs\\pytorch2\\Lib\\site-packages\\HydroErr\\HydroErr.py:6248: UserWarning: Row(s) [  0   1   2   3   4   5   6   7   8   9  10  11  12  13  14  15  16  17\n",
      "  18  19  20  21  22  23  24  25  26  27  28  29  30  31  32  33  34  35\n",
      "  36  37  38  39  40  41  42  43  44  45  46  47  48  49  50  51  52  53\n",
      "  54  55  56  57  58  59  60  61  62  63  64  65  66  67  68  69  70  71\n",
      "  72  73  74  75  76  77  78  79  80  81  82  83  84  85  86  87  88  89\n",
      "  90  91  92  93  94  95  96  97  98  99 100 101 102 103 104 105 106 107\n",
      " 108 109 110 111 112 113 114 115 116 117 118 119 120 121 122 123 124 125\n",
      " 126 127 128 129 130 131 132 133 134 135 136 137 138 139 140 141 142 143\n",
      " 144 145 146 147 148 149 150 151 152 153 154 155 156 157 158 159 160 161\n",
      " 162 163 164 165 166 167 168 169 170 171 172 173 174 175 176 177 178 179\n",
      " 180 181 182 183 184 185 186 187 188 189 190 191 192 193 194 195 196 197\n",
      " 198 199 200 201 202 203 204 205 206 207 208 209 210 211 212 213 214 215\n",
      " 216 217 218 219 220 221 222 223 224 225 226 227 228 229 230 231 232 233\n",
      " 234 235 236 237 238 239 240 241 242 243 244 245 246 247 248 249 250 251\n",
      " 252 253 254 255 256 257 258 259 260 261 262 263 264 265 266 267 268 269\n",
      " 270 271 272 273 274 275 276 277 278 279 280 281 282 283 284 285 286 287\n",
      " 288 289 290 291 292 293 294 295 296 297 298 299 300 301 302 303 304 305\n",
      " 306 307 308 309 310 311 312 313 314 315 316 317 318 319 320 321 322 323\n",
      " 324 325 326 327 328 329 330 331 332 333 334 335 336 337 338 339 340 341\n",
      " 342 343 344 345 346 347 348 349 350 351 352 353 354 355 356 357 358 359\n",
      " 360 361 362 363 364 365 366 367 368 369 370 371 372 373 374 375 376 377\n",
      " 378 379 380 381 382 383 384 385 386 387 388 389 390 391 392 393 394 395\n",
      " 396 397 398 399 400 401 402 403 404 405 406 407 408 409 410 411 412 413\n",
      " 414 415 416 417 418 419 420 421 422 423 424 425 426 427 428 429 430 431\n",
      " 432 433 434 435 436 437 438 439 440 441 442 443 444 445 446 447 448 449\n",
      " 450 451 452 453 454 455 456 457 458 459 460 461 462 463 464 465 466 467\n",
      " 468 469 470 471 472 473 474 475 476 477 478 479 480 481 482 483 484 485\n",
      " 486 487 488 489 490 491 492 493 494 495 496 497 498 499 500 501 502 503\n",
      " 504 505 506 507 508 509 510 511 512 513 514 515 516 517 518 519 520 521\n",
      " 522 523 524 525 526 527 528 529 530 531 532 533 534 535 536 537 538 539\n",
      " 540 541 542 543 544 545 546 547 548 549 550 551 552 553 554 555 556 557\n",
      " 558 559 560 561 562 563 564 565 566 567 568 569 570 571 572 573 574 575\n",
      " 576] contained NaN values and the row(s) have been removed (Rows are zero indexed).\n",
      "  warnings.warn(\"Row(s) {} contained NaN values and the row(s) have been \"\n",
      "c:\\Users\\User\\Anaconda3\\envs\\pytorch2\\Lib\\site-packages\\HydroErr\\HydroErr.py:6248: UserWarning: Row(s) [6497 6498 6499 6500 6501 6502 6503 6504 6505 6506 6507 6508 6509 6510\n",
      " 6511 6512 6513 6514 6515 6516 6517 6518 6519 6520 6521 6522 6523 6524\n",
      " 6525 6526 6527 6528 6529 6530 6531 6532 6533 6534 6535 6536 6537 6538\n",
      " 6539 6540 6541 6542 6543 6544 6545 6546 6547 6548 6549 6550 6551 6552\n",
      " 6553 6554 6555 6556 6557 6558 6559 6560 6561 6562 6563 6564 6565 6566\n",
      " 6567 6568 6569 6570 6571 6572 6573 6574] contained NaN values and the row(s) have been removed (Rows are zero indexed).\n",
      "  warnings.warn(\"Row(s) {} contained NaN values and the row(s) have been \"\n"
     ]
    },
    {
     "name": "stdout",
     "output_type": "stream",
     "text": [
      "fit=0.67\n",
      "i=30 starts\n"
     ]
    },
    {
     "name": "stderr",
     "output_type": "stream",
     "text": [
      "c:\\Users\\User\\Anaconda3\\envs\\pytorch2\\Lib\\site-packages\\HydroErr\\HydroErr.py:6248: UserWarning: Row(s) [6498 6499 6500 6501 6502 6503 6504 6505 6506 6507 6508 6509 6510 6511\n",
      " 6512 6513 6514 6515 6516 6517 6518 6519 6520 6521 6522 6523 6524 6525\n",
      " 6526 6527 6528 6529 6530 6531 6532 6533 6534 6535 6536 6537 6538 6539\n",
      " 6540 6541 6542 6543 6544 6545 6546 6547 6548 6549 6550 6551 6552 6553\n",
      " 6554 6555 6556 6557 6558 6559 6560 6561 6562 6563 6564 6565 6566 6567\n",
      " 6568 6569 6570 6571 6572 6573 6574] contained NaN values and the row(s) have been removed (Rows are zero indexed).\n",
      "  warnings.warn(\"Row(s) {} contained NaN values and the row(s) have been \"\n"
     ]
    },
    {
     "name": "stdout",
     "output_type": "stream",
     "text": [
      "fit=0.777\n",
      "i=31 starts\n",
      "fit=0.637\n",
      "i=32 starts\n",
      "fit=0.665\n",
      "i=33 starts\n",
      "fit=0.831\n",
      "i=34 starts\n",
      "fit=0.778\n",
      "i=35 starts\n",
      "fit=0.78\n",
      "i=36 starts\n",
      "fit=0.684\n",
      "i=37 starts\n"
     ]
    },
    {
     "name": "stderr",
     "output_type": "stream",
     "text": [
      "c:\\Users\\User\\Anaconda3\\envs\\pytorch2\\Lib\\site-packages\\HydroErr\\HydroErr.py:6248: UserWarning: Row(s) [6530 6531 6532 6533 6534 6535 6536 6537 6538 6539 6540 6541 6542 6543\n",
      " 6544 6545 6546 6547 6548 6549 6550 6551 6552 6553 6554 6555 6556 6557\n",
      " 6558 6559 6560 6561 6562 6563 6564 6565 6566 6567 6568 6569 6570 6571\n",
      " 6572 6573 6574] contained NaN values and the row(s) have been removed (Rows are zero indexed).\n",
      "  warnings.warn(\"Row(s) {} contained NaN values and the row(s) have been \"\n"
     ]
    },
    {
     "name": "stdout",
     "output_type": "stream",
     "text": [
      "fit=0.814\n",
      "i=38 starts\n"
     ]
    },
    {
     "name": "stderr",
     "output_type": "stream",
     "text": [
      "c:\\Users\\User\\Anaconda3\\envs\\pytorch2\\Lib\\site-packages\\HydroErr\\HydroErr.py:6248: UserWarning: Row(s) [6550 6551 6552 6553 6554 6555 6556 6557 6558 6559 6560 6561 6562 6563\n",
      " 6564 6565 6566 6567 6568 6569 6570 6571 6572 6573 6574] contained NaN values and the row(s) have been removed (Rows are zero indexed).\n",
      "  warnings.warn(\"Row(s) {} contained NaN values and the row(s) have been \"\n"
     ]
    },
    {
     "name": "stdout",
     "output_type": "stream",
     "text": [
      "fit=0.745\n",
      "i=39 starts\n"
     ]
    },
    {
     "name": "stderr",
     "output_type": "stream",
     "text": [
      "c:\\Users\\User\\Anaconda3\\envs\\pytorch2\\Lib\\site-packages\\HydroErr\\HydroErr.py:6248: UserWarning: Row(s) [6572 6573 6574] contained NaN values and the row(s) have been removed (Rows are zero indexed).\n",
      "  warnings.warn(\"Row(s) {} contained NaN values and the row(s) have been \"\n"
     ]
    },
    {
     "name": "stdout",
     "output_type": "stream",
     "text": [
      "fit=0.838\n",
      "i=40 starts\n",
      "fit=0.731\n",
      "i=41 starts\n"
     ]
    },
    {
     "name": "stderr",
     "output_type": "stream",
     "text": [
      "c:\\Users\\User\\Anaconda3\\envs\\pytorch2\\Lib\\site-packages\\HydroErr\\HydroErr.py:6248: UserWarning: Row(s) [6544 6545 6546 6547 6548 6549 6550 6551 6552 6553 6554 6555 6556 6557\n",
      " 6558 6559 6560 6561 6562 6563 6564 6565 6566 6567 6568 6569 6570 6571\n",
      " 6572 6573 6574] contained NaN values and the row(s) have been removed (Rows are zero indexed).\n",
      "  warnings.warn(\"Row(s) {} contained NaN values and the row(s) have been \"\n"
     ]
    },
    {
     "name": "stdout",
     "output_type": "stream",
     "text": [
      "fit=0.642\n",
      "i=42 starts\n"
     ]
    },
    {
     "name": "stderr",
     "output_type": "stream",
     "text": [
      "c:\\Users\\User\\Anaconda3\\envs\\pytorch2\\Lib\\site-packages\\HydroErr\\HydroErr.py:6248: UserWarning: Row(s) [6559 6560 6561 6562 6563 6564 6565 6566 6567 6568 6569 6570 6571 6572\n",
      " 6573 6574] contained NaN values and the row(s) have been removed (Rows are zero indexed).\n",
      "  warnings.warn(\"Row(s) {} contained NaN values and the row(s) have been \"\n"
     ]
    },
    {
     "name": "stdout",
     "output_type": "stream",
     "text": [
      "fit=0.705\n",
      "i=43 starts\n",
      "fit=0.583\n",
      "i=44 starts\n",
      "fit=0.606\n",
      "i=45 starts\n"
     ]
    },
    {
     "name": "stderr",
     "output_type": "stream",
     "text": [
      "c:\\Users\\User\\Anaconda3\\envs\\pytorch2\\Lib\\site-packages\\HydroErr\\HydroErr.py:6248: UserWarning: Row(s) [6140 6141 6142 6143 6144 6145 6146 6147 6148 6149 6150 6151 6152 6153\n",
      " 6154 6155 6156 6157 6158 6159 6160 6161 6162 6163 6164 6165 6166 6167\n",
      " 6168 6169 6170 6171 6172 6173 6174 6175 6176 6177 6178 6179 6180 6181\n",
      " 6182 6183 6184 6185 6186 6187 6188 6189 6190 6191 6192 6193 6194 6195\n",
      " 6196 6197 6198 6199 6200 6201 6202 6203 6204 6205 6206 6207 6208 6209\n",
      " 6210 6211 6212 6213 6214 6215 6216 6217 6218 6219 6220 6221 6222 6223\n",
      " 6224 6225 6226 6227 6228 6229 6230 6231 6232 6233 6234 6235 6236 6237\n",
      " 6238 6239 6240 6241 6242 6243 6244 6245 6246 6247 6248 6249 6250 6251\n",
      " 6252 6253 6254 6255 6256 6257 6258 6259 6260 6261 6262 6263 6264 6265\n",
      " 6266 6267 6268 6269 6270 6271 6272 6273 6274 6275 6276 6277 6278 6279\n",
      " 6280 6281 6282 6283 6284 6285 6286 6287 6288 6289 6290 6291 6292 6293\n",
      " 6294 6295 6296 6297 6298 6299 6300 6301 6302 6303 6304 6305 6306 6307\n",
      " 6308 6309 6310 6311 6312 6313 6314 6315 6316 6317 6318 6319 6320 6321\n",
      " 6322 6323 6324 6325 6326 6327 6328 6329 6330 6331 6332 6333 6334 6335\n",
      " 6336 6337 6338 6339 6340 6341 6342 6343 6344 6345 6346 6347 6348 6349\n",
      " 6350 6351 6352 6353 6354 6355 6356 6357 6358 6359 6360 6361 6362 6363\n",
      " 6364 6365 6366 6367 6368 6369 6370 6371 6372 6373 6374 6375 6376 6377\n",
      " 6378 6379 6380 6381 6382 6383 6384 6385 6386 6387 6388 6389 6390 6391\n",
      " 6392 6393 6394 6395 6396 6397 6398 6399 6400 6401 6402 6403 6404 6405\n",
      " 6406 6407 6408 6409 6410 6411 6412 6413 6414 6415 6416 6417 6418 6419\n",
      " 6420 6421 6422 6423 6424 6425 6426 6427 6428 6429 6430 6431 6432 6433\n",
      " 6434 6435 6436 6437 6438 6439 6440 6441 6442 6443 6444 6445 6446 6447\n",
      " 6448 6449 6450 6451 6452 6453 6454 6455 6456 6457 6458 6459 6460 6461\n",
      " 6462 6463 6464 6465 6466 6467 6468 6469 6470 6471 6472 6473 6474 6475\n",
      " 6476 6477 6478 6479 6480 6481 6482 6483 6484 6485 6486 6487 6488 6489\n",
      " 6490 6491 6492 6493 6494 6495 6496 6497 6498 6499 6500 6501 6502 6503\n",
      " 6504 6505 6506 6507 6508 6509 6510 6511 6512 6513 6514 6515 6516 6517\n",
      " 6518 6519 6520 6521 6522 6523 6524 6525 6526 6527 6528 6529 6530 6531\n",
      " 6532 6533 6534 6535 6536 6537 6538 6539 6540 6541 6542 6543 6544 6545\n",
      " 6546 6547 6548 6549 6550 6551 6552 6553 6554 6555 6556 6557 6558 6559\n",
      " 6560 6561 6562 6563 6564 6565 6566 6567 6568 6569 6570 6571 6572 6573\n",
      " 6574] contained NaN values and the row(s) have been removed (Rows are zero indexed).\n",
      "  warnings.warn(\"Row(s) {} contained NaN values and the row(s) have been \"\n"
     ]
    },
    {
     "name": "stdout",
     "output_type": "stream",
     "text": [
      "fit=0.546\n",
      "i=46 starts\n"
     ]
    },
    {
     "name": "stderr",
     "output_type": "stream",
     "text": [
      "c:\\Users\\User\\Anaconda3\\envs\\pytorch2\\Lib\\site-packages\\HydroErr\\HydroErr.py:6248: UserWarning: Row(s) [6153 6154 6155 6156 6157 6158 6159 6160 6161 6162 6163 6164 6165 6166\n",
      " 6167 6168 6169 6170 6171 6172 6173 6174 6175 6176 6177 6178 6179 6180\n",
      " 6181 6182 6183 6184 6185 6186 6187 6188 6189 6190 6191 6192 6193 6194\n",
      " 6195 6196 6197 6198 6199 6200 6201 6202 6203 6204 6205 6206 6207 6208\n",
      " 6209 6210 6211 6212 6213 6214 6215 6216 6217 6218 6219 6220 6221 6222\n",
      " 6223 6224 6225 6226 6227 6228 6229 6230 6231 6232 6233 6234 6235 6236\n",
      " 6237 6238 6239 6240 6241 6242 6243 6244 6245 6246 6247 6248 6249 6250\n",
      " 6251 6252 6253 6254 6255 6256 6257 6258 6259 6260 6261 6262 6263 6264\n",
      " 6265 6266 6267 6268 6269 6270 6271 6272 6273 6274 6275 6276 6277 6278\n",
      " 6279 6280 6281 6282 6283 6284 6285 6286 6287 6288 6289 6290 6291 6292\n",
      " 6293 6294 6295 6296 6297 6298 6299 6300 6301 6302 6303 6304 6305 6306\n",
      " 6307 6308 6309 6310 6311 6312 6313 6314 6315 6316 6317 6318 6319 6320\n",
      " 6321 6322 6323 6324 6325 6326 6327 6328 6329 6330 6331 6332 6333 6334\n",
      " 6335 6336 6337 6338 6339 6340 6341 6342 6343 6344 6345 6346 6347 6348\n",
      " 6349 6350 6351 6352 6353 6354 6355 6356 6357 6358 6359 6360 6361 6362\n",
      " 6363 6364 6365 6366 6367 6368 6369 6370 6371 6372 6373 6374 6375 6376\n",
      " 6377 6378 6379 6380 6381 6382 6383 6384 6385 6386 6387 6388 6389 6390\n",
      " 6391 6392 6393 6394 6395 6396 6397 6398 6399 6400 6401 6402 6403 6404\n",
      " 6405 6406 6407 6408 6409 6410 6411 6412 6413 6414 6415 6416 6417 6418\n",
      " 6419 6420 6421 6422 6423 6424 6425 6426 6427 6428 6429 6430 6431 6432\n",
      " 6433 6434 6435 6436 6437 6438 6439 6440 6441 6442 6443 6444 6445 6446\n",
      " 6447 6448 6449 6450 6451 6452 6453 6454 6455 6456 6457 6458 6459 6460\n",
      " 6461 6462 6463 6464 6465 6466 6467 6468 6469 6470 6471 6472 6473 6474\n",
      " 6475 6476 6477 6478 6479 6480 6481 6482 6483 6484 6485 6486 6487 6488\n",
      " 6489 6490 6491 6492 6493 6494 6495 6496 6497 6498 6499 6500 6501 6502\n",
      " 6503 6504 6505 6506 6507 6508 6509 6510 6511 6512 6513 6514 6515 6516\n",
      " 6517 6518 6519 6520 6521 6522 6523 6524 6525 6526 6527 6528 6529 6530\n",
      " 6531 6532 6533 6534 6535 6536 6537 6538 6539 6540 6541 6542 6543 6544\n",
      " 6545 6546 6547 6548 6549 6550 6551 6552 6553 6554 6555 6556 6557 6558\n",
      " 6559 6560 6561 6562 6563 6564 6565 6566 6567 6568 6569 6570 6571 6572\n",
      " 6573 6574] contained NaN values and the row(s) have been removed (Rows are zero indexed).\n",
      "  warnings.warn(\"Row(s) {} contained NaN values and the row(s) have been \"\n"
     ]
    },
    {
     "name": "stdout",
     "output_type": "stream",
     "text": [
      "fit=0.601\n",
      "i=47 starts\n"
     ]
    },
    {
     "name": "stderr",
     "output_type": "stream",
     "text": [
      "c:\\Users\\User\\Anaconda3\\envs\\pytorch2\\Lib\\site-packages\\HydroErr\\HydroErr.py:6248: UserWarning: Row(s) [6181 6182 6183 6184 6185 6186 6187 6188 6189 6190 6191 6192 6193 6194\n",
      " 6195 6196 6197 6198 6199 6200 6201 6202 6203 6204 6205 6206 6207 6208\n",
      " 6209 6210 6211 6212 6213 6214 6215 6216 6217 6218 6219 6220 6221 6222\n",
      " 6223 6224 6225 6226 6227 6228 6229 6230 6231 6232 6233 6234 6235 6236\n",
      " 6237 6238 6239 6240 6241 6242 6243 6244 6245 6246 6247 6248 6249 6250\n",
      " 6251 6252 6253 6254 6255 6256 6257 6258 6259 6260 6261 6262 6263 6264\n",
      " 6265 6266 6267 6268 6269 6270 6271 6272 6273 6274 6275 6276 6277 6278\n",
      " 6279 6280 6281 6282 6283 6284 6285 6286 6287 6288 6289 6290 6291 6292\n",
      " 6293 6294 6295 6296 6297 6298 6299 6300 6301 6302 6303 6304 6305 6306\n",
      " 6307 6308 6309 6310 6311 6312 6313 6314 6315 6316 6317 6318 6319 6320\n",
      " 6321 6322 6323 6324 6325 6326 6327 6328 6329 6330 6331 6332 6333 6334\n",
      " 6335 6336 6337 6338 6339 6340 6341 6342 6343 6344 6345 6346 6347 6348\n",
      " 6349 6350 6351 6352 6353 6354 6355 6356 6357 6358 6359 6360 6361 6362\n",
      " 6363 6364 6365 6366 6367 6368 6369 6370 6371 6372 6373 6374 6375 6376\n",
      " 6377 6378 6379 6380 6381 6382 6383 6384 6385 6386 6387 6388 6389 6390\n",
      " 6391 6392 6393 6394 6395 6396 6397 6398 6399 6400 6401 6402 6403 6404\n",
      " 6405 6406 6407 6408 6409 6410 6411 6412 6413 6414 6415 6416 6417 6418\n",
      " 6419 6420 6421 6422 6423 6424 6425 6426 6427 6428 6429 6430 6431 6432\n",
      " 6433 6434 6435 6436 6437 6438 6439 6440 6441 6442 6443 6444 6445 6446\n",
      " 6447 6448 6449 6450 6451 6452 6453 6454 6455 6456 6457 6458 6459 6460\n",
      " 6461 6462 6463 6464 6465 6466 6467 6468 6469 6470 6471 6472 6473 6474\n",
      " 6475 6476 6477 6478 6479 6480 6481 6482 6483 6484 6485 6486 6487 6488\n",
      " 6489 6490 6491 6492 6493 6494 6495 6496 6497 6498 6499 6500 6501 6502\n",
      " 6503 6504 6505 6506 6507 6508 6509 6510 6511 6512 6513 6514 6515 6516\n",
      " 6517 6518 6519 6520 6521 6522 6523 6524 6525 6526 6527 6528 6529 6530\n",
      " 6531 6532 6533 6534 6535 6536 6537 6538 6539 6540 6541 6542 6543 6544\n",
      " 6545 6546 6547 6548 6549 6550 6551 6552 6553 6554 6555 6556 6557 6558\n",
      " 6559 6560 6561 6562 6563 6564 6565 6566 6567 6568 6569 6570 6571 6572\n",
      " 6573 6574] contained NaN values and the row(s) have been removed (Rows are zero indexed).\n",
      "  warnings.warn(\"Row(s) {} contained NaN values and the row(s) have been \"\n"
     ]
    },
    {
     "name": "stdout",
     "output_type": "stream",
     "text": [
      "fit=0.515\n",
      "i=48 starts\n",
      "fit=0.602\n",
      "i=49 starts\n",
      "fit=0.637\n",
      "i=50 starts\n",
      "fit=0.499\n",
      "i=51 starts\n",
      "fit=0.645\n",
      "i=52 starts\n",
      "fit=0.562\n",
      "i=53 starts\n"
     ]
    },
    {
     "name": "stderr",
     "output_type": "stream",
     "text": [
      "c:\\Users\\User\\Anaconda3\\envs\\pytorch2\\Lib\\site-packages\\HydroErr\\HydroErr.py:6248: UserWarning: Row(s) [6558 6559 6560 6561 6562 6563 6564 6565 6566 6567 6568 6569 6570 6571\n",
      " 6572 6573 6574] contained NaN values and the row(s) have been removed (Rows are zero indexed).\n",
      "  warnings.warn(\"Row(s) {} contained NaN values and the row(s) have been \"\n"
     ]
    },
    {
     "name": "stdout",
     "output_type": "stream",
     "text": [
      "fit=0.694\n",
      "i=54 starts\n",
      "fit=0.656\n",
      "i=55 starts\n"
     ]
    },
    {
     "name": "stderr",
     "output_type": "stream",
     "text": [
      "c:\\Users\\User\\Anaconda3\\envs\\pytorch2\\Lib\\site-packages\\HydroErr\\HydroErr.py:6248: UserWarning: Row(s) [6554 6555 6556 6557 6558 6559 6560 6561 6562 6563 6564 6565 6566 6567\n",
      " 6568 6569 6570 6571 6572 6573 6574] contained NaN values and the row(s) have been removed (Rows are zero indexed).\n",
      "  warnings.warn(\"Row(s) {} contained NaN values and the row(s) have been \"\n"
     ]
    },
    {
     "name": "stdout",
     "output_type": "stream",
     "text": [
      "fit=0.557\n",
      "i=56 starts\n"
     ]
    },
    {
     "name": "stderr",
     "output_type": "stream",
     "text": [
      "c:\\Users\\User\\Anaconda3\\envs\\pytorch2\\Lib\\site-packages\\HydroErr\\HydroErr.py:6248: UserWarning: Row(s) [6496 6497 6498 6499 6500 6501 6502 6503 6504 6505 6506 6507 6508 6509\n",
      " 6510 6511 6512 6513 6514 6515 6516 6517 6518 6519 6520 6521 6522 6523\n",
      " 6524 6525 6526 6527 6528 6529 6530 6531 6532 6533 6534 6535 6536 6537\n",
      " 6538 6539 6540 6541 6542 6543 6544 6545 6546 6547 6548 6549 6550 6551\n",
      " 6552 6553 6554 6555 6556 6557 6558 6559 6560 6561 6562 6563 6564 6565\n",
      " 6566 6567 6568 6569 6570 6571 6572 6573 6574] contained NaN values and the row(s) have been removed (Rows are zero indexed).\n",
      "  warnings.warn(\"Row(s) {} contained NaN values and the row(s) have been \"\n"
     ]
    },
    {
     "name": "stdout",
     "output_type": "stream",
     "text": [
      "fit=0.589\n",
      "i=57 starts\n"
     ]
    },
    {
     "name": "stderr",
     "output_type": "stream",
     "text": [
      "c:\\Users\\User\\Anaconda3\\envs\\pytorch2\\Lib\\site-packages\\HydroErr\\HydroErr.py:6248: UserWarning: Row(s) [6517 6518 6519 6520 6521 6522 6523 6524 6525 6526 6527 6528 6529 6530\n",
      " 6531 6532 6533 6534 6535 6536 6537 6538 6539 6540 6541 6542 6543 6544\n",
      " 6545 6546 6547 6548 6549 6550 6551 6552 6553 6554 6555 6556 6557 6558\n",
      " 6559 6560 6561 6562 6563 6564 6565 6566 6567 6568 6569 6570 6571 6572\n",
      " 6573 6574] contained NaN values and the row(s) have been removed (Rows are zero indexed).\n",
      "  warnings.warn(\"Row(s) {} contained NaN values and the row(s) have been \"\n"
     ]
    },
    {
     "name": "stdout",
     "output_type": "stream",
     "text": [
      "fit=0.693\n",
      "i=58 starts\n",
      "fit=0.725\n",
      "i=59 starts\n",
      "fit=0.661\n",
      "i=60 starts\n",
      "fit=0.617\n",
      "i=61 starts\n",
      "fit=0.66\n",
      "i=62 starts\n",
      "fit=0.651\n",
      "i=63 starts\n"
     ]
    },
    {
     "name": "stderr",
     "output_type": "stream",
     "text": [
      "c:\\Users\\User\\Anaconda3\\envs\\pytorch2\\Lib\\site-packages\\HydroErr\\HydroErr.py:6248: UserWarning: Row(s) [6489 6490 6491 6492 6493 6494 6495 6496 6497 6498 6499 6500 6501 6502\n",
      " 6503 6504 6505 6506 6507 6508 6509 6510 6511 6512 6513 6514 6515 6516\n",
      " 6517 6518 6519 6520 6521 6522 6523 6524 6525 6526 6527 6528 6529 6530\n",
      " 6531 6532 6533 6534 6535 6536 6537 6538 6539 6540 6541 6542 6543 6544\n",
      " 6545 6546 6547 6548 6549 6550 6551 6552 6553 6554 6555 6556 6557 6558\n",
      " 6559 6560 6561 6562 6563 6564 6565 6566 6567 6568 6569 6570 6571 6572\n",
      " 6573 6574] contained NaN values and the row(s) have been removed (Rows are zero indexed).\n",
      "  warnings.warn(\"Row(s) {} contained NaN values and the row(s) have been \"\n"
     ]
    },
    {
     "name": "stdout",
     "output_type": "stream",
     "text": [
      "fit=0.698\n",
      "i=64 starts\n",
      "fit=0.589\n",
      "i=65 starts\n",
      "fit=0.554\n",
      "i=66 starts\n",
      "fit=0.672\n",
      "i=67 starts\n",
      "fit=0.753\n",
      "i=68 starts\n",
      "fit=0.557\n",
      "i=69 starts\n",
      "fit=0.473\n",
      "i=70 starts\n"
     ]
    },
    {
     "name": "stderr",
     "output_type": "stream",
     "text": [
      "c:\\Users\\User\\Anaconda3\\envs\\pytorch2\\Lib\\site-packages\\HydroErr\\HydroErr.py:6248: UserWarning: Row(s) [6525 6526 6527 6528 6529 6530 6531 6532 6533 6534 6535 6536 6537 6538\n",
      " 6539 6540 6541 6542 6543 6544 6545 6546 6547 6548 6549 6550 6551 6552\n",
      " 6553 6554 6555 6556 6557 6558 6559 6560 6561 6562 6563 6564 6565 6566\n",
      " 6567 6568 6569 6570 6571 6572 6573 6574] contained NaN values and the row(s) have been removed (Rows are zero indexed).\n",
      "  warnings.warn(\"Row(s) {} contained NaN values and the row(s) have been \"\n"
     ]
    },
    {
     "name": "stdout",
     "output_type": "stream",
     "text": [
      "fit=0.68\n",
      "i=71 starts\n",
      "fit=0.566\n",
      "i=72 starts\n"
     ]
    },
    {
     "name": "stderr",
     "output_type": "stream",
     "text": [
      "c:\\Users\\User\\Anaconda3\\envs\\pytorch2\\Lib\\site-packages\\HydroErr\\HydroErr.py:6248: UserWarning: Row(s) [6552 6553 6554 6555 6556 6557 6558 6559 6560 6561 6562 6563 6564 6565\n",
      " 6566 6567 6568 6569 6570 6571 6572 6573 6574] contained NaN values and the row(s) have been removed (Rows are zero indexed).\n",
      "  warnings.warn(\"Row(s) {} contained NaN values and the row(s) have been \"\n"
     ]
    },
    {
     "name": "stdout",
     "output_type": "stream",
     "text": [
      "fit=0.528\n",
      "i=73 starts\n"
     ]
    },
    {
     "name": "stderr",
     "output_type": "stream",
     "text": [
      "c:\\Users\\User\\Anaconda3\\envs\\pytorch2\\Lib\\site-packages\\HydroErr\\HydroErr.py:6248: UserWarning: Row(s) [6551 6552 6553 6554 6555 6556 6557 6558 6559 6560 6561 6562 6563 6564\n",
      " 6565 6566 6567 6568 6569 6570 6571 6572 6573 6574] contained NaN values and the row(s) have been removed (Rows are zero indexed).\n",
      "  warnings.warn(\"Row(s) {} contained NaN values and the row(s) have been \"\n"
     ]
    },
    {
     "name": "stdout",
     "output_type": "stream",
     "text": [
      "fit=0.583\n",
      "i=74 starts\n",
      "fit=0.526\n",
      "i=75 starts\n",
      "fit=0.555\n",
      "i=76 starts\n",
      "fit=0.643\n",
      "i=77 starts\n"
     ]
    },
    {
     "name": "stderr",
     "output_type": "stream",
     "text": [
      "c:\\Users\\User\\Anaconda3\\envs\\pytorch2\\Lib\\site-packages\\HydroErr\\HydroErr.py:6248: UserWarning: Row(s) [6553 6554 6555 6556 6557 6558 6559 6560 6561 6562 6563 6564 6565 6566\n",
      " 6567 6568 6569 6570 6571 6572 6573 6574] contained NaN values and the row(s) have been removed (Rows are zero indexed).\n",
      "  warnings.warn(\"Row(s) {} contained NaN values and the row(s) have been \"\n"
     ]
    },
    {
     "name": "stdout",
     "output_type": "stream",
     "text": [
      "fit=0.666\n",
      "i=78 starts\n",
      "fit=0.583\n",
      "i=79 starts\n"
     ]
    },
    {
     "name": "stderr",
     "output_type": "stream",
     "text": [
      "c:\\Users\\User\\Anaconda3\\envs\\pytorch2\\Lib\\site-packages\\HydroErr\\HydroErr.py:6248: UserWarning: Row(s) [6490 6491 6492 6493 6494 6495 6496 6497 6498 6499 6500 6501 6502 6503\n",
      " 6504 6505 6506 6507 6508 6509 6510 6511 6512 6513 6514 6515 6516 6517\n",
      " 6518 6519 6520 6521 6522 6523 6524 6525 6526 6527 6528 6529 6530 6531\n",
      " 6532 6533 6534 6535 6536 6537 6538 6539 6540 6541 6542 6543 6544 6545\n",
      " 6546 6547 6548 6549 6550 6551 6552 6553 6554 6555 6556 6557 6558 6559\n",
      " 6560 6561 6562 6563 6564 6565 6566 6567 6568 6569 6570 6571 6572 6573\n",
      " 6574] contained NaN values and the row(s) have been removed (Rows are zero indexed).\n",
      "  warnings.warn(\"Row(s) {} contained NaN values and the row(s) have been \"\n"
     ]
    },
    {
     "name": "stdout",
     "output_type": "stream",
     "text": [
      "fit=0.587\n",
      "i=80 starts\n",
      "fit=0.63\n",
      "i=81 starts\n"
     ]
    },
    {
     "name": "stderr",
     "output_type": "stream",
     "text": [
      "c:\\Users\\User\\Anaconda3\\envs\\pytorch2\\Lib\\site-packages\\HydroErr\\HydroErr.py:6248: UserWarning: Row(s) [6510 6511 6512 6513 6514 6515 6516 6517 6518 6519 6520 6521 6522 6523\n",
      " 6524 6525 6526 6527 6528 6529 6530 6531 6532 6533 6534 6535 6536 6537\n",
      " 6538 6539 6540 6541 6542 6543 6544 6545 6546 6547 6548 6549 6550 6551\n",
      " 6552 6553 6554 6555 6556 6557 6558 6559 6560 6561 6562 6563 6564 6565\n",
      " 6566 6567 6568 6569 6570 6571 6572 6573 6574] contained NaN values and the row(s) have been removed (Rows are zero indexed).\n",
      "  warnings.warn(\"Row(s) {} contained NaN values and the row(s) have been \"\n"
     ]
    },
    {
     "name": "stdout",
     "output_type": "stream",
     "text": [
      "fit=0.659\n",
      "i=82 starts\n",
      "fit=0.57\n",
      "i=83 starts\n",
      "fit=0.456\n",
      "i=84 starts\n",
      "fit=0.601\n",
      "i=85 starts\n",
      "fit=0.624\n",
      "i=86 starts\n"
     ]
    },
    {
     "name": "stderr",
     "output_type": "stream",
     "text": [
      "c:\\Users\\User\\Anaconda3\\envs\\pytorch2\\Lib\\site-packages\\HydroErr\\HydroErr.py:6248: UserWarning: Row(s) [6139 6140 6141 6142 6143 6144 6145 6146 6147 6148 6149 6150 6151 6152\n",
      " 6153 6154 6155 6156 6157 6158 6159 6160 6161 6162 6163 6164 6165 6166\n",
      " 6167 6168 6169 6170 6171 6172 6173 6174 6175 6176 6177 6178 6179 6180\n",
      " 6181 6182 6183 6184 6185 6186 6187 6188 6189 6190 6191 6192 6193 6194\n",
      " 6195 6196 6197 6198 6199 6200 6201 6202 6203 6204 6205 6206 6207 6208\n",
      " 6209 6210 6211 6212 6213 6214 6215 6216 6217 6218 6219 6220 6221 6222\n",
      " 6223 6224 6225 6226 6227 6228 6229 6230 6231 6232 6233 6234 6235 6236\n",
      " 6237 6238 6239 6240 6241 6242 6243 6244 6245 6246 6247 6248 6249 6250\n",
      " 6251 6252 6253 6254 6255 6256 6257 6258 6259 6260 6261 6262 6263 6264\n",
      " 6265 6266 6267 6268 6269 6270 6271 6272 6273 6274 6275 6276 6277 6278\n",
      " 6279 6280 6281 6282 6283 6284 6285 6286 6287 6288 6289 6290 6291 6292\n",
      " 6293 6294 6295 6296 6297 6298 6299 6300 6301 6302 6303 6304 6305 6306\n",
      " 6307 6308 6309 6310 6311 6312 6313 6314 6315 6316 6317 6318 6319 6320\n",
      " 6321 6322 6323 6324 6325 6326 6327 6328 6329 6330 6331 6332 6333 6334\n",
      " 6335 6336 6337 6338 6339 6340 6341 6342 6343 6344 6345 6346 6347 6348\n",
      " 6349 6350 6351 6352 6353 6354 6355 6356 6357 6358 6359 6360 6361 6362\n",
      " 6363 6364 6365 6366 6367 6368 6369 6370 6371 6372 6373 6374 6375 6376\n",
      " 6377 6378 6379 6380 6381 6382 6383 6384 6385 6386 6387 6388 6389 6390\n",
      " 6391 6392 6393 6394 6395 6396 6397 6398 6399 6400 6401 6402 6403 6404\n",
      " 6405 6406 6407 6408 6409 6410 6411 6412 6413 6414 6415 6416 6417 6418\n",
      " 6419 6420 6421 6422 6423 6424 6425 6426 6427 6428 6429 6430 6431 6432\n",
      " 6433 6434 6435 6436 6437 6438 6439 6440 6441 6442 6443 6444 6445 6446\n",
      " 6447 6448 6449 6450 6451 6452 6453 6454 6455 6456 6457 6458 6459 6460\n",
      " 6461 6462 6463 6464 6465 6466 6467 6468 6469 6470 6471 6472 6473 6474\n",
      " 6475 6476 6477 6478 6479 6480 6481 6482 6483 6484 6485 6486 6487 6488\n",
      " 6489 6490 6491 6492 6493 6494 6495 6496 6497 6498 6499 6500 6501 6502\n",
      " 6503 6504 6505 6506 6507 6508 6509 6510 6511 6512 6513 6514 6515 6516\n",
      " 6517 6518 6519 6520 6521 6522 6523 6524 6525 6526 6527 6528 6529 6530\n",
      " 6531 6532 6533 6534 6535 6536 6537 6538 6539 6540 6541 6542 6543 6544\n",
      " 6545 6546 6547 6548 6549 6550 6551 6552 6553 6554 6555 6556 6557 6558\n",
      " 6559 6560 6561 6562 6563 6564 6565 6566 6567 6568 6569 6570 6571 6572\n",
      " 6573 6574] contained NaN values and the row(s) have been removed (Rows are zero indexed).\n",
      "  warnings.warn(\"Row(s) {} contained NaN values and the row(s) have been \"\n"
     ]
    },
    {
     "name": "stdout",
     "output_type": "stream",
     "text": [
      "fit=0.703\n",
      "i=87 starts\n",
      "fit=0.699\n",
      "i=88 starts\n",
      "fit=0.69\n",
      "i=89 starts\n",
      "fit=0.622\n",
      "i=90 starts\n"
     ]
    },
    {
     "name": "stderr",
     "output_type": "stream",
     "text": [
      "c:\\Users\\User\\Anaconda3\\envs\\pytorch2\\Lib\\site-packages\\HydroErr\\HydroErr.py:6248: UserWarning: Row(s) [5022 5023 5024 ... 6572 6573 6574] contained NaN values and the row(s) have been removed (Rows are zero indexed).\n",
      "  warnings.warn(\"Row(s) {} contained NaN values and the row(s) have been \"\n"
     ]
    },
    {
     "name": "stdout",
     "output_type": "stream",
     "text": [
      "fit=0.585\n",
      "i=91 starts\n",
      "fit=0.534\n",
      "i=92 starts\n",
      "fit=0.614\n",
      "i=93 starts\n"
     ]
    },
    {
     "name": "stderr",
     "output_type": "stream",
     "text": [
      "c:\\Users\\User\\Anaconda3\\envs\\pytorch2\\Lib\\site-packages\\HydroErr\\HydroErr.py:6248: UserWarning: Row(s) [   0    1    2 ... 1213 1214 1215] contained NaN values and the row(s) have been removed (Rows are zero indexed).\n",
      "  warnings.warn(\"Row(s) {} contained NaN values and the row(s) have been \"\n",
      "c:\\Users\\User\\Anaconda3\\envs\\pytorch2\\Lib\\site-packages\\HydroErr\\HydroErr.py:6248: UserWarning: Row(s) [6502 6503 6504 6505 6506 6507 6508 6509 6510 6511 6512 6513 6514 6515\n",
      " 6516 6517 6518 6519 6520 6521 6522 6523 6524 6525 6526 6527 6528 6529\n",
      " 6530 6531 6532 6533 6534 6535 6536 6537 6538 6539 6540 6541 6542 6543\n",
      " 6544 6545 6546 6547 6548 6549 6550 6551 6552 6553 6554 6555 6556 6557\n",
      " 6558 6559 6560 6561 6562 6563 6564 6565 6566 6567 6568 6569 6570 6571\n",
      " 6572 6573 6574] contained NaN values and the row(s) have been removed (Rows are zero indexed).\n",
      "  warnings.warn(\"Row(s) {} contained NaN values and the row(s) have been \"\n"
     ]
    },
    {
     "name": "stdout",
     "output_type": "stream",
     "text": [
      "fit=0.58\n",
      "i=94 starts\n"
     ]
    },
    {
     "name": "stderr",
     "output_type": "stream",
     "text": [
      "c:\\Users\\User\\Anaconda3\\envs\\pytorch2\\Lib\\site-packages\\HydroErr\\HydroErr.py:6248: UserWarning: Row(s) [6560 6561 6562 6563 6564 6565 6566 6567 6568 6569 6570 6571 6572 6573\n",
      " 6574] contained NaN values and the row(s) have been removed (Rows are zero indexed).\n",
      "  warnings.warn(\"Row(s) {} contained NaN values and the row(s) have been \"\n"
     ]
    },
    {
     "name": "stdout",
     "output_type": "stream",
     "text": [
      "fit=0.679\n",
      "i=95 starts\n",
      "fit=0.685\n",
      "i=96 starts\n",
      "fit=0.426\n",
      "i=97 starts\n"
     ]
    },
    {
     "name": "stderr",
     "output_type": "stream",
     "text": [
      "c:\\Users\\User\\Anaconda3\\envs\\pytorch2\\Lib\\site-packages\\HydroErr\\HydroErr.py:6248: UserWarning: Row(s) [6504 6505 6506 6507 6508 6509 6510 6511 6512 6513 6514 6515 6516 6517\n",
      " 6518 6519 6520 6521 6522 6523 6524 6525 6526 6527 6528 6529 6530 6531\n",
      " 6532 6533 6534 6535 6536 6537 6538 6539 6540 6541 6542 6543 6544 6545\n",
      " 6546 6547 6548 6549 6550 6551 6552 6553 6554 6555 6556 6557 6558 6559\n",
      " 6560 6561 6562 6563 6564 6565 6566 6567 6568 6569 6570 6571 6572 6573\n",
      " 6574] contained NaN values and the row(s) have been removed (Rows are zero indexed).\n",
      "  warnings.warn(\"Row(s) {} contained NaN values and the row(s) have been \"\n"
     ]
    },
    {
     "name": "stdout",
     "output_type": "stream",
     "text": [
      "fit=0.625\n",
      "i=98 starts\n"
     ]
    },
    {
     "name": "stderr",
     "output_type": "stream",
     "text": [
      "c:\\Users\\User\\Anaconda3\\envs\\pytorch2\\Lib\\site-packages\\HydroErr\\HydroErr.py:6248: UserWarning: Row(s) [5753 5754 5755 5756 5757 5758 5759 5760 5761 5762 5763 5764 5765 5766\n",
      " 5767 5768 5769 5770 5771 5772 5773 5774 5775 5776 5777 5778 5779 5780\n",
      " 5781 5782 5783 5784 5785 5786 5787 5788 5789 5790 5791 5792 5793 5794\n",
      " 5795 5796 5797 5798 5799 5800 5801 5802 5803 5804 5805 5806 5807 5808\n",
      " 5809 5810 5811 5812 5813 5814 5815 5816 5817 5818 5819 5820 5821 5822\n",
      " 5823 5824 5825 5826 5827 5828 5829 5830 5831 5832 5833 5834 5835 5836\n",
      " 5837 5838 5839 5840 5841 5842 5843 5844 5845 5846 5847 5848 5849 5850\n",
      " 5851 5852 5853 5854 5855 5856 5857 5858 5859 5860 5861 5862 5863 5864\n",
      " 5865 5866 5867 5868 5869 5870 5871 5872 5873 5874 5875 5876 5877 5878\n",
      " 5879 5880 5881 5882 5883 5884 5885 5886 5887 5888 5889 5890 5891 5892\n",
      " 5893 5894 5895 5896 5897 5898 5899 5900 5901 5902 5903 5904 5905 5906\n",
      " 5907 5908 5909 5910 5911 5912 5913 5914 5915 5916 5917 5918 5919 5920\n",
      " 5921 5922 5923 5924 5925 5926 5927 5928 5929 5930 5931 5932 5933 5934\n",
      " 5935 5936 5937 5938 5939 5940 5941 5942 5943 5944 5945 5946 5947 5948\n",
      " 5949 5950 5951 5952 5953 5954 5955 5956 5957 5958 5959 5960 5961 5962\n",
      " 5963 5964 5965 5966 5967 5968 5969 5970 5971 5972 5973 5974 5975 5976\n",
      " 5977 5978 5979 5980 5981 5982 5983 5984 5985 5986 5987 5988 5989 5990\n",
      " 5991 5992 5993 5994 5995 5996 5997 5998 5999 6000 6001 6002 6003 6004\n",
      " 6005 6006 6007 6008 6009 6010 6011 6012 6013 6014 6015 6016 6017 6018\n",
      " 6019 6020 6021 6022 6023 6024 6025 6026 6027 6028 6029 6030 6031 6032\n",
      " 6033 6034 6035 6036 6037 6038 6039 6040 6041 6042 6043 6044 6045 6046\n",
      " 6047 6048 6049 6050 6051 6052 6053 6054 6055 6056 6057 6058 6059 6060\n",
      " 6061 6062 6063 6064 6065 6066 6067 6068 6069 6070 6071 6072 6073 6074\n",
      " 6075 6076 6077 6078 6079 6080 6081 6082 6083 6084 6085 6086 6087 6088\n",
      " 6089 6090 6091 6092 6093 6094 6095 6096 6097 6098 6099 6100 6101 6102\n",
      " 6103 6104 6105 6106 6107 6108 6109 6110 6111 6112 6113 6114 6115 6116\n",
      " 6117 6503 6504 6505 6506 6507 6508 6509 6510 6511 6512 6513 6514 6515\n",
      " 6516 6517 6518 6519 6520 6521 6522 6523 6524 6525 6526 6527 6528 6529\n",
      " 6530 6531 6532 6533 6534 6535 6536 6537 6538 6539 6540 6541 6542 6543\n",
      " 6544 6545 6546 6547 6548 6549 6550 6551 6552 6553 6554 6555 6556 6557\n",
      " 6558 6559 6560 6561 6562 6563 6564 6565 6566 6567 6568 6569 6570 6571\n",
      " 6572 6573 6574] contained NaN values and the row(s) have been removed (Rows are zero indexed).\n",
      "  warnings.warn(\"Row(s) {} contained NaN values and the row(s) have been \"\n"
     ]
    },
    {
     "name": "stdout",
     "output_type": "stream",
     "text": [
      "fit=0.686\n",
      "i=99 starts\n"
     ]
    },
    {
     "name": "stderr",
     "output_type": "stream",
     "text": [
      "c:\\Users\\User\\Anaconda3\\envs\\pytorch2\\Lib\\site-packages\\HydroErr\\HydroErr.py:6248: UserWarning: Row(s) [  0   1   2   3   4   5   6   7   8   9  10  11  12  13  14  15  16  17\n",
      "  18  19  20  21  22  23  24  25  26  27  28  29  30  31  32  33  34  35\n",
      "  36  37  38  39  40  41  42  43  44  45  46  47  48  49  50  51  52  53\n",
      "  54  55  56  57  58  59  60  61  62  63  64  65  66  67  68  69  70  71\n",
      "  72  73  74  75  76  77  78  79  80  81  82  83  84  85  86  87  88  89\n",
      "  90  91  92  93  94  95  96  97  98  99 100 101 102 103 104 105 106 107\n",
      " 108 109 110 111 112 113 114 115 116 117 118 119 120 121 122 123 124 125\n",
      " 126 127 128 129 130 131 132 133 134 135 136 137 138 139 140 141 142 143\n",
      " 144 145 146 147 148 149 150 151 152 153 154 155 156 157 158 159 160 161\n",
      " 162 163 164 165 166 167 168 169 170 171 172 173 174 175 176 177 178 179\n",
      " 180 181 182 183 184 185 186 187 188 189 190 191 192 193 194 195 196 197\n",
      " 198 199 200 201 202 203 204 205 206 207 208 209 210 211 212 213 214 215\n",
      " 216 217 218 219 220 221 222 223 224 225 226 227 228 229 230 231 232 233\n",
      " 234 235 236 237 238 239 240 241 242 243 244 245 246 247 248 249 250 251\n",
      " 252 253 254 255 256 257 258 259 260 261 262 263 264 265 266 267 268 269\n",
      " 270 271 272 273 274 275 276 277 278 279 280 281 282 283 284 285 286 287\n",
      " 288 289 290 291 292 293 294 295 296 297 298 299 300 301 302 303 304 305\n",
      " 306 307 308 309 310 311 312 313 314 315 316 317 318 319 320 321 322 323\n",
      " 324 325 326 327 328 329 330 331 332 333 334 335 336 337 338 339 340 341\n",
      " 342 343 344 345 346 347 348 349 350 351 352 353 354 355 356 357 358 359\n",
      " 360 361 362 363 364 365 366 367 368 369 370 371 372 373 374 375 376 377\n",
      " 378 379 380 381 382 383 384 385 386 387 388 389 390 391 392 393 394 395\n",
      " 396 397 398 399 400 401 402 403 404 405 406 407 408 409 410 411 412 413\n",
      " 414 415 416 417 418 419 420 421 422 423 424 425 426 427 428 429 430 431\n",
      " 432 433 434 435 436 437 438 439 440 441 442 443 444 445 446 447 448 449\n",
      " 450 451 452 453 454 455 456 457 458 459 460 461 462 463 464 465 466 467\n",
      " 468 469 470 471 472 473 474 475 476 477 478 479 480 481 482 483 484 485\n",
      " 486 487 488 489 490 491 492 493 494 495 496 497 498 499 500 501 502 503\n",
      " 504 505 506 507 508 509 510 511 512 513 514 515 516 517 518 519 520 521\n",
      " 522 523 524 525 526 527 528 529 530 531 532 533 534 535 536 537 538 539\n",
      " 540 541 542 543 544 545 546 547 548 549 550 551 552 553 554 555 556 557\n",
      " 558 559 560 561 562 563 564 565 566 567 568 569 570 571 572 573 574 575\n",
      " 576 577 578 579 580 581 582 583 584 585 586 587 588 589 590 591 592 593\n",
      " 594 595 596 597 598 599 600 601 602 603 604 605 606 607 608 609 610 611\n",
      " 612 613 614 615 616 617 618 619 620 621 622 623 624 625 626 627 628 629\n",
      " 630 631 632 633 634 635 636 637 638 639 640 641 642 643 644 645 646 647\n",
      " 648 649 650 651 652 653 654 655 656 657 658 659 660 661 662 663 664 665\n",
      " 666 667 668 669 670 671 672 673 674 675 676 677 678 679 680 681 682 683] contained NaN values and the row(s) have been removed (Rows are zero indexed).\n",
      "  warnings.warn(\"Row(s) {} contained NaN values and the row(s) have been \"\n",
      "c:\\Users\\User\\Anaconda3\\envs\\pytorch2\\Lib\\site-packages\\HydroErr\\HydroErr.py:6248: UserWarning: Row(s) [5114 5115 5116 ... 6572 6573 6574] contained NaN values and the row(s) have been removed (Rows are zero indexed).\n",
      "  warnings.warn(\"Row(s) {} contained NaN values and the row(s) have been \"\n"
     ]
    },
    {
     "name": "stdout",
     "output_type": "stream",
     "text": [
      "fit=0.523\n",
      "i=100 starts\n",
      "fit=0.479\n",
      "i=101 starts\n",
      "fit=0.707\n",
      "i=102 starts\n"
     ]
    },
    {
     "name": "stderr",
     "output_type": "stream",
     "text": [
      "c:\\Users\\User\\Anaconda3\\envs\\pytorch2\\Lib\\site-packages\\HydroErr\\HydroErr.py:6248: UserWarning: Row(s) [   0    1    2 ... 1548 1549 1550] contained NaN values and the row(s) have been removed (Rows are zero indexed).\n",
      "  warnings.warn(\"Row(s) {} contained NaN values and the row(s) have been \"\n"
     ]
    },
    {
     "name": "stdout",
     "output_type": "stream",
     "text": [
      "fit=0.65\n",
      "i=103 starts\n"
     ]
    },
    {
     "name": "stderr",
     "output_type": "stream",
     "text": [
      "c:\\Users\\User\\Anaconda3\\envs\\pytorch2\\Lib\\site-packages\\HydroErr\\HydroErr.py:6248: UserWarning: Row(s) [  0   1   2   3   4   5   6   7   8   9  10  11  12  13  14  15  16  17\n",
      "  18  19  20  21  22  23  24  25  26  27  28  29  30  31  32  33  34  35\n",
      "  36  37  38  39  40  41  42  43  44  45  46  47  48  49  50  51  52  53\n",
      "  54  55  56  57  58  59  60  61  62  63  64  65  66  67  68  69  70  71\n",
      "  72  73  74  75  76  77  78  79  80  81  82  83  84  85  86  87  88  89\n",
      "  90  91  92  93  94  95  96  97  98  99 100 101 102 103 104 105 106 107\n",
      " 108 109 110 111 112 113 114 115 116 117 118 119 120 121 122 123 124 125\n",
      " 126 127 128 129 130 131 132 133 134 135 136 137 138 139 140 141 142 143\n",
      " 144 145 146 147 148 149 150 151 152 153 154 155 156 157 158 159 160 161\n",
      " 162 163 164 165 166 167 168 169 170 171 172 173 174 175 176 177 178 179\n",
      " 180 181 182 183 184 185 186 187 188 189 190 191 192 193 194 195 196 197\n",
      " 198 199 200 201 202 203 204 205 206 207 208 209 210 211 212 213 214 215\n",
      " 216 217 218 219 220 221 222 223 224 225 226 227 228 229 230 231 232 233\n",
      " 234 235 236 237 238 239 240 241 242 243 244 245 246 247 248 249 250 251\n",
      " 252 253 254 255 256 257 258 259 260 261 262 263 264 265 266 267 268 269\n",
      " 270 271 272 273 274 275 276 277 278 279 280 281 282 283 284 285 286 287\n",
      " 288 289 290 291 292 293 294 295 296 297 298 299 300 301 302 303 304 305\n",
      " 306 307 308 309 310 311 312 313 314 315 316 317 318 319 320 321 322 323\n",
      " 324 325 326 327 328 329 330 331 332 333 334 335 336 337 338 339 340 341\n",
      " 342 343 344 345 346 347 348 349 350 351 352 353 354 355 356 357 358 359\n",
      " 360 361 362 363 364] contained NaN values and the row(s) have been removed (Rows are zero indexed).\n",
      "  warnings.warn(\"Row(s) {} contained NaN values and the row(s) have been \"\n"
     ]
    },
    {
     "name": "stdout",
     "output_type": "stream",
     "text": [
      "fit=0.631\n",
      "i=104 starts\n",
      "fit=0.714\n",
      "i=105 starts\n",
      "fit=0.495\n",
      "i=106 starts\n"
     ]
    },
    {
     "name": "stderr",
     "output_type": "stream",
     "text": [
      "c:\\Users\\User\\Anaconda3\\envs\\pytorch2\\Lib\\site-packages\\HydroErr\\HydroErr.py:6248: UserWarning: Row(s) [5705 5706 5707 5708 5709 5710 5711 5712 5713 5714 5715 5716 5717 5718\n",
      " 5719 5720 5721 5722 5723 5724 5725 5726 5727 5728 5729 5730 5731 5732\n",
      " 5733 5734 5735 5736 5737 5738 5739 5740 5741 5742 5743 5744 5745 5746\n",
      " 5747 5748 5749 5750 5751 5752 6505 6506 6507 6508 6509 6510 6511 6512\n",
      " 6513 6514 6515 6516 6517 6518 6519 6520 6521 6522 6523 6524 6525 6526\n",
      " 6527 6528 6529 6530 6531 6532 6533 6534 6535 6536 6537 6538 6539 6540\n",
      " 6541 6542 6543 6544 6545 6546 6547 6548 6549 6550 6551 6552 6553 6554\n",
      " 6555 6556 6557 6558 6559 6560 6561 6562 6563 6564 6565 6566 6567 6568\n",
      " 6569 6570 6571 6572 6573 6574] contained NaN values and the row(s) have been removed (Rows are zero indexed).\n",
      "  warnings.warn(\"Row(s) {} contained NaN values and the row(s) have been \"\n"
     ]
    },
    {
     "name": "stdout",
     "output_type": "stream",
     "text": [
      "fit=0.447\n",
      "i=107 starts\n"
     ]
    },
    {
     "name": "stderr",
     "output_type": "stream",
     "text": [
      "c:\\Users\\User\\Anaconda3\\envs\\pytorch2\\Lib\\site-packages\\HydroErr\\HydroErr.py:6248: UserWarning: Row(s) [ 102  103  104  105  106  107  108  109  110  111  112  113  114  115\n",
      "  116  117  118  119  120  121  122  123  124  125  126  127  128  129\n",
      "  130  131  132  133  134  135  136  137  138  139  140  141  142  143\n",
      "  144  145  146  147  148  149  150  151  152  153  154  155  156  157\n",
      "  158  160  161  162  163  164  165  166  167  168  169  170  171  172\n",
      "  173  174  175  176  177  178  179  180  181  182  183  184  185  186\n",
      "  187  188  189  190  191  192  193  194  195  196  197  198  199  200\n",
      "  201  202  203  204  205  206  207  209  210  211  212  213  214  215\n",
      "  216  394  395  396  397  398  399  400  401  402  403  404  405  406\n",
      "  407  408  409  410  411  412  413  414  415  416  417  418  419  420\n",
      "  421  422  423  424  425  426  427  428  429  430  431  432  433  434\n",
      "  435  436  437  438  439  440  441  442  443  444  445  446  447  448\n",
      "  449  450  451  452  453  454  526  527  528  529  530  531  532  533\n",
      "  534  535  536  537  538  539  540  541  542  543  544  545  546  547\n",
      "  548  549  550  551  552  553  554  555  556  557  558  559  560  561\n",
      "  562  563  564  565  566  567  568  569  570  571  572  573  574  575\n",
      "  576  577  578  579  580  581  582  583  584  585  586  587  588  589\n",
      "  590  591  592  593  595  596  597  598  599  600  601  602  603  604\n",
      "  605  606  607  608  609  610  611  612  613  614  615  616  617  618\n",
      "  619  620  621  622  623  624  625  626  627  628  629  630  631  632\n",
      "  633  634  635  636  637  638  639  640  641  642  643  644  645  646\n",
      "  647  649  650  651  652  653  654  655  656  657  658  659  660  661\n",
      "  662  663  664  665  666  667  668  669  670  671  672  673  674  675\n",
      "  676  677  678  679  680  681  682  683  684  685  686  687  730  731\n",
      "  732  733  734  735  736  737  738  739  814  815  816  817  818  819\n",
      "  820  821  822  823  824  825  826  827  828  829  830  832  833  834\n",
      "  835  836  837  838  839  840  841  842  843  844  845  846  847  848\n",
      "  849  850  851  852  853  854  855  856  857  858  859  860  861  862\n",
      "  863  864  865  866  867  868  869  870  871  872  873  874  875  876\n",
      "  877  878  879  880  881  882  883  884  885  886  887  888  889  890\n",
      "  954  955  956  957  958  959  960  961  962  963  964  965  966  967\n",
      "  968  969  970  971  972  973  974  975  976  977  978  979  980  981\n",
      "  982  983  984  985  986  987  988  989  990  991  992  993  994  995\n",
      "  996  997  998  999 1000 1001 1002 1003 1004 1006 1007 1008 1009 1010\n",
      " 1011 1012 1013 1014 1015 1016 1017 1018 1019 1020 1021 1022 1023 1024\n",
      " 1025 1026 1027 1028 1029 1030 1031 1032 1033 1034 1035 1036 1037 1038\n",
      " 1039 1040 1041 1042 1043 1044 1045 1046 1047 1048 1049 1050 1051 1052\n",
      " 1053 1054 1055 1056 1057 1058 1059 1060 1061 1062 1063 1064 1065 1066\n",
      " 1067 1068 1069 1070 1071 1072 1073 1074 1076 1077 1078 1079 1080 1081\n",
      " 1082 1083 1084 1085 1086 1087 1088 1089 1090 1091 1092 1093 1094 1095\n",
      " 1115 1116 1117 1118 1119 1120 1121 1122 1123 1124 1125 1126 1127 1128\n",
      " 1129 1130 1132 1133 1134 1135 1136 1137 1138 1139 1140 1141 1142 1143\n",
      " 1144 1145 1146 1147 1148 1149 1150 1151 1152 1153 1154 1155 1156 1157\n",
      " 1158 1159 1160 1161 1162 1163 1164 1165 1166 1167 1168 1169 1170 1171\n",
      " 1172 1173 1174 1175 1176 1177 1178 1179 1180 1181 1182 1183 1184 1185\n",
      " 1186 1187 1188 1189 1190 1191 1192 1193 1195 1196 1197 1198 1199 1200\n",
      " 1201 1202 1203 1204 1205 1206 1207 1208 1209 1210 1211 1212 1213 1214\n",
      " 1215 1216 1217 1218 1219 1220 1221 1222 1223 1224 1225 1226 1227 1228\n",
      " 1229 1230 1231 1232 1233 1234 1235 1236 1237 1238 1239 1240 1241 1242\n",
      " 1243 1244 1245 1246 1247 1248 1249 1250 1251 1252 1253 1254 1255] contained NaN values and the row(s) have been removed (Rows are zero indexed).\n",
      "  warnings.warn(\"Row(s) {} contained NaN values and the row(s) have been \"\n"
     ]
    },
    {
     "name": "stdout",
     "output_type": "stream",
     "text": [
      "fit=0.489\n",
      "i=108 starts\n",
      "fit=0.648\n",
      "i=109 starts\n",
      "fit=0.668\n",
      "i=110 starts\n",
      "fit=0.302\n",
      "i=111 starts\n",
      "fit=0.393\n",
      "i=112 starts\n",
      "fit=0.497\n",
      "i=113 starts\n"
     ]
    },
    {
     "name": "stderr",
     "output_type": "stream",
     "text": [
      "c:\\Users\\User\\Anaconda3\\envs\\pytorch2\\Lib\\site-packages\\HydroErr\\HydroErr.py:6248: UserWarning: Row(s) [6491 6492 6493 6494 6495 6496 6497 6498 6499 6500 6501 6502 6503 6504\n",
      " 6505 6506 6507 6508 6509 6510 6511 6512 6513 6514 6515 6516 6517 6518\n",
      " 6519 6520 6521 6522 6523 6524 6525 6526 6527 6528 6529 6530 6531 6532\n",
      " 6533 6534 6535 6536 6537 6538 6539 6540 6541 6542 6543 6544 6545 6546\n",
      " 6547 6548 6549 6550 6551 6552 6553 6554 6555 6556 6557 6558 6559 6560\n",
      " 6561 6562 6563 6564 6565 6566 6567 6568 6569 6570 6571 6572 6573 6574] contained NaN values and the row(s) have been removed (Rows are zero indexed).\n",
      "  warnings.warn(\"Row(s) {} contained NaN values and the row(s) have been \"\n"
     ]
    },
    {
     "name": "stdout",
     "output_type": "stream",
     "text": [
      "fit=0.415\n",
      "i=114 starts\n",
      "fit=0.367\n",
      "i=115 starts\n"
     ]
    },
    {
     "name": "stderr",
     "output_type": "stream",
     "text": [
      "c:\\Users\\User\\Anaconda3\\envs\\pytorch2\\Lib\\site-packages\\HydroErr\\HydroErr.py:6248: UserWarning: Row(s) [273 274 275 276 277 278 279 280 281 282 283 284 285 286 287 288 289 290\n",
      " 291 292 293 294 295 296 297 298 299 300 301 302 303 304 305 306 307 308\n",
      " 309 310 311 312 313 314 315 316 317 318 319 320 321 322 323 324 325 326\n",
      " 327 328 329 330 331 332 333 334 335 336 337 338 339 340 341 342 343 344\n",
      " 345 346 347 348 349 350 351 352 353 354 355 356 357 358 359 360 361 362\n",
      " 363 364 365 366 367 368 369 370 371 372 373 374 375 376 377 378 379 380\n",
      " 381 382 383 384 385 386 387 388 389 390 391 392 393 394 395 396 397 398\n",
      " 399 400 401 402 403 404 405 406 407 408 409 410 411 412 413 414 415 416\n",
      " 417 418 419 420 421 422 423 424 425 426 427 428 429 430 431 432 433 434\n",
      " 435 436 437 438 439 440 441 442 443 444 445 446 447 448 449 450 451 452\n",
      " 453 454 455 456 457 458 459 460 461 462 463 464 465 466 467 468 469 470\n",
      " 471 472 473 474 475 476 477 478 479 480 481 482 483 484 485 486 487 488\n",
      " 489 490 491 492 493 494 495 496 497 498 499 500 501 502 503 504 505 506\n",
      " 507 508 509 510 511 512 513 514 515 516 517 518 519 520 521 522 523 524\n",
      " 525 526 527 528 529 530 531 532 533 534 535 536 537 538 539 540 541 542\n",
      " 543 544 545 546 547 548 549 550 551 552 553 554 555 556 557 558 559 560\n",
      " 561 562 563 564 565 566 567 568 569 570 571 572 573 574 575 576 577 578\n",
      " 579 580 581 582 583 584 585 586 587 588 589 590 591 592 593 594 595 596\n",
      " 597 598 599 600 601 602 603 604 605 606 607 608 609 610 611 612 613 614\n",
      " 615 616 617 618 619 620 621 622 623 624 625 626 627 628 629 630 631 632\n",
      " 633 634 635 636 637] contained NaN values and the row(s) have been removed (Rows are zero indexed).\n",
      "  warnings.warn(\"Row(s) {} contained NaN values and the row(s) have been \"\n"
     ]
    },
    {
     "name": "stdout",
     "output_type": "stream",
     "text": [
      "fit=0.575\n",
      "i=116 starts\n"
     ]
    },
    {
     "name": "stderr",
     "output_type": "stream",
     "text": [
      "c:\\Users\\User\\Anaconda3\\envs\\pytorch2\\Lib\\site-packages\\HydroErr\\HydroErr.py:6248: UserWarning: Row(s) [6484 6485 6486 6487 6488 6489 6490 6491 6492 6493 6494 6495 6496 6497\n",
      " 6498 6499 6500 6501 6502 6503 6504 6505 6506 6507 6508 6509 6510 6511\n",
      " 6512 6513 6514 6515 6516 6517 6518 6519 6520 6521 6522 6523 6524 6525\n",
      " 6526 6527 6528 6529 6530 6531 6532 6533 6534 6535 6536 6537 6538 6539\n",
      " 6540 6541 6542 6543 6544 6545 6546 6547 6548 6549 6550 6551 6552 6553\n",
      " 6554 6555 6556 6557 6558 6559 6560 6561 6562 6563 6564 6565 6566 6567\n",
      " 6568 6569 6570 6571 6572 6573 6574] contained NaN values and the row(s) have been removed (Rows are zero indexed).\n",
      "  warnings.warn(\"Row(s) {} contained NaN values and the row(s) have been \"\n"
     ]
    },
    {
     "name": "stdout",
     "output_type": "stream",
     "text": [
      "fit=0.426\n",
      "i=117 starts\n",
      "fit=0.572\n",
      "i=118 starts\n"
     ]
    },
    {
     "name": "stderr",
     "output_type": "stream",
     "text": [
      "c:\\Users\\User\\Anaconda3\\envs\\pytorch2\\Lib\\site-packages\\HydroErr\\HydroErr.py:6248: UserWarning: Row(s) [6488 6489 6490 6491 6492 6493 6494 6495 6496 6497 6498 6499 6500 6501\n",
      " 6502 6503 6504 6505 6506 6507 6508 6509 6510 6511 6512 6513 6514 6515\n",
      " 6516 6517 6518 6519 6520 6521 6522 6523 6524 6525 6526 6527 6528 6529\n",
      " 6530 6531 6532 6533 6534 6535 6536 6537 6538 6539 6540 6541 6542 6543\n",
      " 6544 6545 6546 6547 6548 6549 6550 6551 6552 6553 6554 6555 6556 6557\n",
      " 6558 6559 6560 6561 6562 6563 6564 6565 6566 6567 6568 6569 6570 6571\n",
      " 6572 6573 6574] contained NaN values and the row(s) have been removed (Rows are zero indexed).\n",
      "  warnings.warn(\"Row(s) {} contained NaN values and the row(s) have been \"\n"
     ]
    },
    {
     "name": "stdout",
     "output_type": "stream",
     "text": [
      "fit=0.592\n",
      "i=119 starts\n"
     ]
    },
    {
     "name": "stderr",
     "output_type": "stream",
     "text": [
      "c:\\Users\\User\\Anaconda3\\envs\\pytorch2\\Lib\\site-packages\\HydroErr\\HydroErr.py:6248: UserWarning: Row(s) [5393 5394 5395 ... 6572 6573 6574] contained NaN values and the row(s) have been removed (Rows are zero indexed).\n",
      "  warnings.warn(\"Row(s) {} contained NaN values and the row(s) have been \"\n"
     ]
    },
    {
     "name": "stdout",
     "output_type": "stream",
     "text": [
      "fit=0.58\n",
      "i=120 starts\n",
      "fit=0.629\n",
      "i=121 starts\n"
     ]
    },
    {
     "name": "stderr",
     "output_type": "stream",
     "text": [
      "c:\\Users\\User\\Anaconda3\\envs\\pytorch2\\Lib\\site-packages\\HydroErr\\HydroErr.py:6248: UserWarning: Row(s) [   0    1    2 ... 1158 1159 1160] contained NaN values and the row(s) have been removed (Rows are zero indexed).\n",
      "  warnings.warn(\"Row(s) {} contained NaN values and the row(s) have been \"\n"
     ]
    },
    {
     "name": "stdout",
     "output_type": "stream",
     "text": [
      "fit=0.71\n",
      "i=122 starts\n",
      "fit=0.039\n",
      "i=123 starts\n"
     ]
    },
    {
     "name": "stderr",
     "output_type": "stream",
     "text": [
      "c:\\Users\\User\\Anaconda3\\envs\\pytorch2\\Lib\\site-packages\\HydroErr\\HydroErr.py:6248: UserWarning: Row(s) [   0    1    2 ... 2096 2097 2098] contained NaN values and the row(s) have been removed (Rows are zero indexed).\n",
      "  warnings.warn(\"Row(s) {} contained NaN values and the row(s) have been \"\n"
     ]
    },
    {
     "name": "stdout",
     "output_type": "stream",
     "text": [
      "fit=0.528\n",
      "i=124 starts\n",
      "fit=0.609\n",
      "i=125 starts\n"
     ]
    }
   ],
   "source": [
    "num_generations = 500\n",
    "num_parents_mating = 10\n",
    "sol_per_pop=100\n",
    "\n",
    "calibrate_KGES = np.ones(catchments.__len__())\n",
    "calibrate_NSES = np.ones(catchments.__len__())\n",
    "\n",
    "test_KGES = np.ones(catchments.__len__())\n",
    "test_NSES = np.ones(catchments.__len__())\n",
    "\n",
    "camels_embeddings = np.ones([catchments.__len__(), 8])\n",
    "\n",
    "\n",
    "for i in range(catchments.__len__()): #catchments.__len__()\n",
    "    print(f'i={i} starts')\n",
    "\n",
    "    data_train = np.genfromtxt(catchments[\"data_train\"][i], delimiter=\",\")\n",
    "    data_test = np.genfromtxt(catchments[\"data_test\"][i], delimiter=\",\")\n",
    "    \n",
    "    x_cal = torch.from_numpy(data_train[:, 0:3]).unsqueeze(0).to(dtype=torch.float32)\n",
    "    y_cal = torch.from_numpy(data_train[:, 3]).unsqueeze(0).to(dtype=torch.float32)\n",
    "    \n",
    "    x_test = torch.from_numpy(data_test[:, 0:3]).unsqueeze(0).to(dtype=torch.float32)\n",
    "    y_test = torch.from_numpy(data_test[:, 3]).unsqueeze(0).to(dtype=torch.float32)\n",
    "    \n",
    "    num_genes = 8\n",
    "\n",
    "    init_range_low = -11\n",
    "    init_range_high = 11\n",
    "\n",
    "    parent_selection_type = \"sss\"\n",
    "\n",
    "    crossover_type = \"single_point\"\n",
    "\n",
    "    mutation_type = \"random\"\n",
    "    mutation_probability = 0.25\n",
    "\n",
    "    fn_cal = Objective_builder(x_cal, y_cal)\n",
    "    fn_test = Objective_builder(x_test, y_test)\n",
    "    \n",
    "    ga_instance = pygad.GA(\n",
    "        num_generations=num_generations,\n",
    "        num_parents_mating=num_parents_mating,\n",
    "        fitness_func=fn_cal.eval,\n",
    "        sol_per_pop=sol_per_pop,\n",
    "        num_genes=num_genes,\n",
    "        init_range_low=init_range_low,\n",
    "        init_range_high=init_range_high,\n",
    "        parent_selection_type=parent_selection_type,\n",
    "        crossover_type=crossover_type,\n",
    "        mutation_type=mutation_type,\n",
    "        mutation_probability=mutation_probability,\n",
    "        stop_criteria=\"saturate_10\"\n",
    "    )\n",
    "    \n",
    "    # run simulation\n",
    "    ga_instance.run()\n",
    "    \n",
    "    chart_cal = fn_cal.pred(ga_instance.best_solution()[0])    \n",
    "    chart_test = fn_test.pred(ga_instance.best_solution()[0])\n",
    "    \n",
    "    # gof\n",
    "    kge_cal = round(HydroErr.kge_2009(simulated_array=chart_cal[ \"Simulated [mm/day]\"], observed_array=chart_cal[ \"Observation [mm/day]\"]),3)# round(ga_instance.best_solution()[1], 3)\n",
    "    kge_test = round(HydroErr.kge_2009(simulated_array=chart_test[ \"Simulated [mm/day]\"], observed_array=chart_test[ \"Observation [mm/day]\"]),3)# round(fn_test.eval(0, ga_instance.best_solution()[0], 0), 3)\n",
    "    \n",
    "    nse_cal = round(HydroErr.nse(simulated_array=chart_cal[ \"Simulated [mm/day]\"], observed_array=chart_cal[ \"Observation [mm/day]\"]),3)# round(ga_instance.best_solution()[1], 3)\n",
    "    nse_test = round(HydroErr.nse(simulated_array=chart_test[ \"Simulated [mm/day]\"], observed_array=chart_test[ \"Observation [mm/day]\"]),3)# round(fn_test.eval(0, ga_instance.best_solution()[0], 0), 3)\n",
    "\n",
    "    camels_embeddings[i,:] = ga_instance.best_solution()[0]\n",
    "    \n",
    "    calibrate_KGES[i]=kge_cal\n",
    "    test_KGES[i]=kge_test\n",
    "    calibrate_NSES[i]=nse_cal\n",
    "    test_NSES[i]=nse_test\n",
    "    \n",
    "    print(f'fit={test_KGES[i]}')"
   ]
  },
  {
   "cell_type": "code",
   "execution_count": 11,
   "metadata": {},
   "outputs": [
    {
     "data": {
      "text/plain": [
       "array([0.708, 1.   , 1.   , 1.   , 1.   , 1.   , 1.   , 1.   , 1.   ,\n",
       "       1.   , 1.   , 1.   , 1.   , 1.   , 1.   , 1.   , 1.   , 1.   ,\n",
       "       1.   , 1.   , 1.   , 1.   , 1.   , 1.   , 1.   , 1.   , 1.   ,\n",
       "       1.   , 1.   , 1.   , 1.   , 1.   , 1.   , 1.   , 1.   , 1.   ,\n",
       "       1.   , 1.   , 1.   , 1.   , 1.   , 1.   , 1.   , 1.   , 1.   ,\n",
       "       1.   , 1.   , 1.   , 1.   , 1.   , 1.   , 1.   , 1.   , 1.   ,\n",
       "       1.   , 1.   , 1.   , 1.   , 1.   , 1.   , 1.   , 1.   , 1.   ,\n",
       "       1.   , 1.   , 1.   , 1.   , 1.   , 1.   , 1.   , 1.   , 1.   ,\n",
       "       1.   , 1.   , 1.   , 1.   , 1.   , 1.   , 1.   , 1.   , 1.   ,\n",
       "       1.   , 1.   , 1.   , 1.   , 1.   , 1.   , 1.   , 1.   , 1.   ,\n",
       "       1.   , 1.   , 1.   , 1.   , 1.   , 1.   , 1.   , 1.   , 1.   ,\n",
       "       1.   , 1.   , 1.   , 1.   , 1.   , 1.   , 1.   , 1.   , 1.   ,\n",
       "       1.   , 1.   , 1.   , 1.   , 1.   , 1.   , 1.   , 1.   , 1.   ,\n",
       "       1.   , 1.   , 1.   , 1.   , 1.   , 1.   , 1.   , 1.   , 1.   ,\n",
       "       1.   , 1.   , 1.   , 1.   , 1.   , 1.   , 1.   , 1.   , 1.   ,\n",
       "       1.   , 1.   , 1.   , 1.   , 1.   , 1.   , 1.   , 1.   , 1.   ,\n",
       "       1.   , 1.   , 1.   , 1.   , 1.   , 1.   , 1.   , 1.   , 1.   ,\n",
       "       1.   , 1.   , 1.   , 1.   , 1.   , 1.   , 1.   , 1.   , 1.   ,\n",
       "       1.   , 1.   , 1.   , 1.   , 1.   , 1.   , 1.   , 1.   , 1.   ,\n",
       "       1.   , 1.   , 1.   , 1.   , 1.   , 1.   , 1.   , 1.   , 1.   ,\n",
       "       1.   , 1.   , 1.   , 1.   , 1.   , 1.   , 1.   , 1.   , 1.   ,\n",
       "       1.   , 1.   , 1.   , 1.   , 1.   , 1.   , 1.   , 1.   , 1.   ,\n",
       "       1.   , 1.   , 1.   , 1.   , 1.   , 1.   , 1.   , 1.   , 1.   ,\n",
       "       1.   , 1.   , 1.   , 1.   , 1.   , 1.   , 1.   , 1.   , 1.   ,\n",
       "       1.   , 1.   , 1.   , 1.   , 1.   , 1.   , 1.   , 1.   , 1.   ,\n",
       "       1.   , 1.   , 1.   , 1.   , 1.   , 1.   , 1.   , 1.   , 1.   ,\n",
       "       1.   , 1.   , 1.   , 1.   , 1.   , 1.   , 1.   , 1.   , 1.   ,\n",
       "       1.   , 1.   , 1.   , 1.   , 1.   , 1.   , 1.   , 1.   , 1.   ,\n",
       "       1.   , 1.   , 1.   , 1.   , 1.   , 1.   , 1.   , 1.   , 1.   ,\n",
       "       1.   , 1.   , 1.   , 1.   , 1.   , 1.   , 1.   , 1.   , 1.   ,\n",
       "       1.   , 1.   , 1.   , 1.   , 1.   , 1.   , 1.   , 1.   , 1.   ,\n",
       "       1.   , 1.   , 1.   , 1.   , 1.   , 1.   , 1.   , 1.   , 1.   ,\n",
       "       1.   , 1.   , 1.   , 1.   , 1.   , 1.   , 1.   , 1.   , 1.   ,\n",
       "       1.   , 1.   , 1.   , 1.   , 1.   , 1.   , 1.   , 1.   , 1.   ,\n",
       "       1.   , 1.   , 1.   , 1.   , 1.   , 1.   , 1.   , 1.   , 1.   ,\n",
       "       1.   , 1.   , 1.   , 1.   , 1.   , 1.   , 1.   , 1.   , 1.   ,\n",
       "       1.   , 1.   , 1.   , 1.   , 1.   , 1.   , 1.   , 1.   , 1.   ,\n",
       "       1.   , 1.   , 1.   , 1.   , 1.   , 1.   , 1.   , 1.   , 1.   ,\n",
       "       1.   , 1.   , 1.   , 1.   , 1.   , 1.   , 1.   , 1.   , 1.   ,\n",
       "       1.   , 1.   , 1.   , 1.   , 1.   , 1.   , 1.   , 1.   , 1.   ,\n",
       "       1.   , 1.   , 1.   , 1.   , 1.   , 1.   , 1.   , 1.   , 1.   ,\n",
       "       1.   , 1.   , 1.   , 1.   , 1.   , 1.   , 1.   , 1.   , 1.   ,\n",
       "       1.   , 1.   , 1.   , 1.   , 1.   , 1.   , 1.   , 1.   , 1.   ,\n",
       "       1.   , 1.   , 1.   , 1.   , 1.   , 1.   , 1.   , 1.   , 1.   ,\n",
       "       1.   , 1.   , 1.   , 1.   , 1.   , 1.   , 1.   , 1.   , 1.   ,\n",
       "       1.   , 1.   , 1.   , 1.   , 1.   , 1.   , 1.   , 1.   , 1.   ,\n",
       "       1.   , 1.   , 1.   , 1.   , 1.   , 1.   , 1.   , 1.   , 1.   ,\n",
       "       1.   , 1.   , 1.   , 1.   , 1.   , 1.   , 1.   , 1.   , 1.   ,\n",
       "       1.   , 1.   , 1.   , 1.   , 1.   , 1.   , 1.   , 1.   , 1.   ,\n",
       "       1.   , 1.   , 1.   , 1.   , 1.   , 1.   , 1.   , 1.   , 1.   ,\n",
       "       1.   , 1.   , 1.   , 1.   , 1.   , 1.   , 1.   , 1.   , 1.   ,\n",
       "       1.   , 1.   , 1.   , 1.   , 1.   , 1.   , 1.   , 1.   , 1.   ,\n",
       "       1.   , 1.   , 1.   , 1.   , 1.   , 1.   , 1.   , 1.   , 1.   ,\n",
       "       1.   , 1.   , 1.   , 1.   , 1.   ])"
      ]
     },
     "execution_count": 11,
     "metadata": {},
     "output_type": "execute_result"
    }
   ],
   "source": [
    "test_KGES"
   ]
  }
 ],
 "metadata": {
  "kernelspec": {
   "display_name": "streamlitenv",
   "language": "python",
   "name": "python3"
  },
  "language_info": {
   "codemirror_mode": {
    "name": "ipython",
    "version": 3
   },
   "file_extension": ".py",
   "mimetype": "text/x-python",
   "name": "python",
   "nbconvert_exporter": "python",
   "pygments_lexer": "ipython3",
   "version": "3.11.4"
  }
 },
 "nbformat": 4,
 "nbformat_minor": 2
}
